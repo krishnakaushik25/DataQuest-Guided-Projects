{
  "nbformat": 4,
  "nbformat_minor": 0,
  "metadata": {
    "kernelspec": {
      "display_name": "Python 3",
      "language": "python",
      "name": "python3"
    },
    "language_info": {
      "codemirror_mode": {
        "name": "ipython",
        "version": 3
      },
      "file_extension": ".py",
      "mimetype": "text/x-python",
      "name": "python",
      "nbconvert_exporter": "python",
      "pygments_lexer": "ipython3",
      "version": "3.8.2"
    },
    "colab": {
      "name": "Profitable App Profiles for the App Store and Google Play Markets.ipynb",
      "provenance": [],
      "include_colab_link": true
    }
  },
  "cells": [
    {
      "cell_type": "markdown",
      "metadata": {
        "id": "view-in-github",
        "colab_type": "text"
      },
      "source": [
        "<a href=\"https://colab.research.google.com/github/krishnakaushik25/DataQuest-Guided-Projects/blob/main/Profitable_App_Profiles_for_the_App_Store_and_Google_Play_Markets.ipynb\" target=\"_parent\"><img src=\"https://colab.research.google.com/assets/colab-badge.svg\" alt=\"Open In Colab\"/></a>"
      ]
    },
    {
      "cell_type": "markdown",
      "metadata": {
        "id": "u-uSU6ttKmAh"
      },
      "source": [
        "# Profitable App Profiles for the App Store and Google Play Markets\n",
        "\n",
        "***\n",
        "## Introduction\n",
        "\n",
        "In this project, we will analyze data for a company that creates mobile applications for Android and iOS. These apps are available on Google Play and the App Store.\n",
        "\n",
        "Only apps that can be downloaded and installed for free are created, and the main source of revenue consists of in-app advertisements. This means that the number of app users determines the revenue for a given app: the more users see and engage with the ads, the better.\n",
        "\n",
        "Our goal in this project is to analyze the data to help developers understand what kind of apps can attract more users.\n",
        "\n",
        "***\n",
        "## Opening and Exploring the Data\n",
        "\n",
        "As of September 2018, there were approximately 2 million iOS apps available on the App Store, and 2.1 million Android apps on Google Play.\n",
        "\n",
        "<img src=https://s3.amazonaws.com/dq-content/350/py1m8_statista.png>\n",
        "\n",
        "Collecting data for over 4 million apps requires a significant amount of time and money, so we'll try to analyze a sample of the data instead. To avoid spending resources on collecting new data ourselves, we should first try to see if we can find any relevant existing data at no cost. Luckily, here are two data sets that seem suitable for our goals:\n",
        "\n",
        "* [A dataset](https://www.kaggle.com/lava18/google-play-store-apps) containing data about approximately 10,000 Android apps from Google Play; the data was collected in August 2018. You can download the data set directly from [this lin](https://dq-content.s3.amazonaws.com/350/googleplaystore.csv).\n",
        "\n",
        "* [A dataset](https://www.kaggle.com/ramamet4/app-store-apple-data-set-10k-apps) containing data about approximately 7,000 iOS apps from the App Store; the data was collected in July 2017. You can download the data set directly from [this link](https://dq-content.s3.amazonaws.com/350/AppleStore.csv).\n",
        "\n",
        "Let's start by opening the two data sets and then continue with exploring the data."
      ]
    },
    {
      "cell_type": "code",
      "metadata": {
        "id": "oBNzNFdHKmAp"
      },
      "source": [
        "from csv import reader\n",
        "\n",
        "# The Google Play data set\n",
        "google_play_file = open('googleplaystore.csv', encoding='utf-8')\n",
        "read_google_file = reader(google_play_file)\n",
        "android = list(read_google_file)\n",
        "android_header = android[0]\n",
        "android = android[1:]\n",
        "google_play_file.close()\n",
        "\n",
        "# The App Store data set\n",
        "app_store_file = open('AppleStore.csv', encoding='utf-8')\n",
        "read_app_file = reader(app_store_file)\n",
        "ios = list(read_app_file)\n",
        "ios_header = ios[0]\n",
        "ios = ios[1:]\n",
        "app_store_file.close()"
      ],
      "execution_count": null,
      "outputs": []
    },
    {
      "cell_type": "markdown",
      "metadata": {
        "id": "vnE8n0T1KmAs"
      },
      "source": [
        "To make it easier to explore the two data sets, we'll first write a function named `explore_data()` that we can use repeatedly to explore rows in a more readable way. We'll also add an option for our function to show the number of rows and columns for any data set."
      ]
    },
    {
      "cell_type": "code",
      "metadata": {
        "id": "7Z_t_HV_KmAt",
        "outputId": "dd8201c3-e259-4fb2-8f4b-8ac308b2218a"
      },
      "source": [
        "def explore_data(dataset, start, end, rows_and_columns=False):\n",
        "    dataset_slice = dataset[start:end]\n",
        "    for row in dataset_slice:\n",
        "        print(row)\n",
        "        print('\\n') # adds a new (empty) line after each row\n",
        "    if rows_and_columns:\n",
        "        print('Number of rows:', len(dataset))\n",
        "        print('Number of columns:', len(dataset[0]))\n",
        "\n",
        "# Exploring some records from the Google Play dataset\n",
        "print(android_header)\n",
        "print('\\n')\n",
        "explore_data(android, 0, 3, True)"
      ],
      "execution_count": null,
      "outputs": [
        {
          "name": "stdout",
          "output_type": "stream",
          "text": [
            "['App', 'Category', 'Rating', 'Reviews', 'Size', 'Installs', 'Type', 'Price', 'Content Rating', 'Genres', 'Last Updated', 'Current Ver', 'Android Ver']\n",
            "\n",
            "\n",
            "['Photo Editor & Candy Camera & Grid & ScrapBook', 'ART_AND_DESIGN', '4.1', '159', '19M', '10,000+', 'Free', '0', 'Everyone', 'Art & Design', 'January 7, 2018', '1.0.0', '4.0.3 and up']\n",
            "\n",
            "\n",
            "['Coloring book moana', 'ART_AND_DESIGN', '3.9', '967', '14M', '500,000+', 'Free', '0', 'Everyone', 'Art & Design;Pretend Play', 'January 15, 2018', '2.0.0', '4.0.3 and up']\n",
            "\n",
            "\n",
            "['U Launcher Lite – FREE Live Cool Themes, Hide Apps', 'ART_AND_DESIGN', '4.7', '87510', '8.7M', '5,000,000+', 'Free', '0', 'Everyone', 'Art & Design', 'August 1, 2018', '1.2.4', '4.0.3 and up']\n",
            "\n",
            "\n",
            "Number of rows: 10841\n",
            "Number of columns: 13\n"
          ]
        }
      ]
    },
    {
      "cell_type": "markdown",
      "metadata": {
        "id": "-k3RA6t5KmAw"
      },
      "source": [
        "We see that the Google Play data set has 10,841 apps and 13 columns. At a quick glance, the columns that might be useful for the purpose of our analysis are `'App'`, `'Category'`, `'Reviews'`, `'Installs'`, `'Type'`, `'Price'`, and `'Genres'`.\n",
        "\n",
        "Now let's take a look at the App Store data set."
      ]
    },
    {
      "cell_type": "code",
      "metadata": {
        "id": "iFtywCrGKmAx",
        "outputId": "10ec43f2-3aa1-4c65-ea28-cb6f05ba09fe"
      },
      "source": [
        "print(ios_header)\n",
        "print('\\n')\n",
        "explore_data(ios, 0, 3, True)"
      ],
      "execution_count": null,
      "outputs": [
        {
          "name": "stdout",
          "output_type": "stream",
          "text": [
            "['id', 'track_name', 'size_bytes', 'currency', 'price', 'rating_count_tot', 'rating_count_ver', 'user_rating', 'user_rating_ver', 'ver', 'cont_rating', 'prime_genre', 'sup_devices.num', 'ipadSc_urls.num', 'lang.num', 'vpp_lic']\n",
            "\n",
            "\n",
            "['284882215', 'Facebook', '389879808', 'USD', '0.0', '2974676', '212', '3.5', '3.5', '95.0', '4+', 'Social Networking', '37', '1', '29', '1']\n",
            "\n",
            "\n",
            "['389801252', 'Instagram', '113954816', 'USD', '0.0', '2161558', '1289', '4.5', '4.0', '10.23', '12+', 'Photo & Video', '37', '0', '29', '1']\n",
            "\n",
            "\n",
            "['529479190', 'Clash of Clans', '116476928', 'USD', '0.0', '2130805', '579', '4.5', '4.5', '9.24.12', '9+', 'Games', '38', '5', '18', '1']\n",
            "\n",
            "\n",
            "Number of rows: 7197\n",
            "Number of columns: 16\n"
          ]
        }
      ]
    },
    {
      "cell_type": "markdown",
      "metadata": {
        "id": "NVEgC_15KmAz"
      },
      "source": [
        "We have 7,197 iOS apps in this data set, and the columns that seem interesting are: `'track_name'`, `'currency'`, `'price'`, `'rating_count_tot'`, `'rating_count_ver'`, and `'prime_genre'`. Not all column names are self-explanatory in this case, but details about each column can be found in the data set [documentation](https://www.kaggle.com/ramamet4/app-store-apple-data-set-10k-apps/home)."
      ]
    },
    {
      "cell_type": "markdown",
      "metadata": {
        "id": "sUnHtgNgKmA0"
      },
      "source": [
        "***\n",
        "## Deleting Wrong Data\n",
        "\n",
        "The Google Play data set has a dedicated [discussion section](https://www.kaggle.com/lava18/google-play-store-apps/discussion), and we can see that [one of the discussions](https://www.kaggle.com/lava18/google-play-store-apps/discussion/66015) outlines an error for row 10,472. Let's print this row and compare it against the header and another row that is correct."
      ]
    },
    {
      "cell_type": "code",
      "metadata": {
        "id": "w0t4u2iAKmA1",
        "outputId": "3248dfdd-3d69-4aa8-d3a5-a85dcfad07aa"
      },
      "source": [
        "print(android[10472])\n",
        "print('\\n')\n",
        "print(android_header)\n",
        "print('\\n')\n",
        "print(android[0])"
      ],
      "execution_count": null,
      "outputs": [
        {
          "name": "stdout",
          "output_type": "stream",
          "text": [
            "['Life Made WI-Fi Touchscreen Photo Frame', '1.9', '19', '3.0M', '1,000+', 'Free', '0', 'Everyone', '', 'February 11, 2018', '1.0.19', '4.0 and up']\n",
            "\n",
            "\n",
            "['App', 'Category', 'Rating', 'Reviews', 'Size', 'Installs', 'Type', 'Price', 'Content Rating', 'Genres', 'Last Updated', 'Current Ver', 'Android Ver']\n",
            "\n",
            "\n",
            "['Photo Editor & Candy Camera & Grid & ScrapBook', 'ART_AND_DESIGN', '4.1', '159', '19M', '10,000+', 'Free', '0', 'Everyone', 'Art & Design', 'January 7, 2018', '1.0.0', '4.0.3 and up']\n"
          ]
        }
      ]
    },
    {
      "cell_type": "markdown",
      "metadata": {
        "id": "eU9ZPQBOKmA2"
      },
      "source": [
        "The row 10,472 corresponds to the app `Life Made WI-Fi Touchscreen Photo Frame`, and we can see that the rating is **19**. This is clearly off because the maximum rating for a Google Play app is **5** (as mentioned in the [discussions section](https://www.kaggle.com/lava18/google-play-store-apps/discussion/66015), this problem is caused by a missing value in the `'Category'` column). As a consequence, we'll delete this row."
      ]
    },
    {
      "cell_type": "code",
      "metadata": {
        "id": "KNYyS86nKmA4",
        "outputId": "326cc7ca-f237-42f7-d3a8-2201b83c3a7b"
      },
      "source": [
        "print(\"Number of rows before removing the wrong row:\", len(android))\n",
        "del android[10472] # don't run this more than once\n",
        "print(\"Number of rows after removing the wrong row:\", len(android))"
      ],
      "execution_count": null,
      "outputs": [
        {
          "name": "stdout",
          "output_type": "stream",
          "text": [
            "Number of rows before removing the wrong row: 10841\n",
            "Number of rows after removing the wrong row: 10840\n"
          ]
        }
      ]
    },
    {
      "cell_type": "markdown",
      "metadata": {
        "id": "ZjgDiQMLKmA5"
      },
      "source": [
        "***\n",
        "## Removing Duplicate Entries\n",
        "\n",
        "### Part One\n",
        "\n",
        "If we explore the Google Play dataset long enough or look at the discussions section, we will notice that some apps have duplicate entries. For example, `Instagram` has four entries:"
      ]
    },
    {
      "cell_type": "code",
      "metadata": {
        "id": "wcXzpHM-KmA6",
        "outputId": "3066910d-b8b4-4015-d07c-a7aa79bf6540"
      },
      "source": [
        "for app in android:\n",
        "    name = app[0]\n",
        "    if name == 'Instagram':\n",
        "        print(app)"
      ],
      "execution_count": null,
      "outputs": [
        {
          "name": "stdout",
          "output_type": "stream",
          "text": [
            "['Instagram', 'SOCIAL', '4.5', '66577313', 'Varies with device', '1,000,000,000+', 'Free', '0', 'Teen', 'Social', 'July 31, 2018', 'Varies with device', 'Varies with device']\n",
            "['Instagram', 'SOCIAL', '4.5', '66577446', 'Varies with device', '1,000,000,000+', 'Free', '0', 'Teen', 'Social', 'July 31, 2018', 'Varies with device', 'Varies with device']\n",
            "['Instagram', 'SOCIAL', '4.5', '66577313', 'Varies with device', '1,000,000,000+', 'Free', '0', 'Teen', 'Social', 'July 31, 2018', 'Varies with device', 'Varies with device']\n",
            "['Instagram', 'SOCIAL', '4.5', '66509917', 'Varies with device', '1,000,000,000+', 'Free', '0', 'Teen', 'Social', 'July 31, 2018', 'Varies with device', 'Varies with device']\n"
          ]
        }
      ]
    },
    {
      "cell_type": "markdown",
      "metadata": {
        "id": "Cb-q1LNoKmA7"
      },
      "source": [
        "In total, there are 1,181 cases where an app occurs more than once:"
      ]
    },
    {
      "cell_type": "code",
      "metadata": {
        "id": "MG-XNUBjKmA8",
        "outputId": "0ec322c3-abd4-40a5-c97e-716a87a833e1"
      },
      "source": [
        "duplicate_apps = []\n",
        "unique_apps = []\n",
        "\n",
        "for app in android:\n",
        "    name = app[0]\n",
        "    if name in unique_apps:\n",
        "        duplicate_apps.append(name)\n",
        "    else:\n",
        "        unique_apps.append(name)\n",
        "    \n",
        "print('Number of duplicate apps:', len(duplicate_apps))\n",
        "print('\\n')\n",
        "print('Examples of duplicate apps:', '-' * 27, sep='\\n')\n",
        "print(*duplicate_apps[:15], sep='\\n')"
      ],
      "execution_count": null,
      "outputs": [
        {
          "name": "stdout",
          "output_type": "stream",
          "text": [
            "Number of duplicate apps: 1181\n",
            "\n",
            "\n",
            "Examples of duplicate apps:\n",
            "---------------------------\n",
            "Quick PDF Scanner + OCR FREE\n",
            "Box\n",
            "Google My Business\n",
            "ZOOM Cloud Meetings\n",
            "join.me - Simple Meetings\n",
            "Box\n",
            "Zenefits\n",
            "Google Ads\n",
            "Google My Business\n",
            "Slack\n",
            "FreshBooks Classic\n",
            "Insightly CRM\n",
            "QuickBooks Accounting: Invoicing & Expenses\n",
            "HipChat - Chat Built for Teams\n",
            "Xero Accounting Software\n"
          ]
        }
      ]
    },
    {
      "cell_type": "markdown",
      "metadata": {
        "id": "DX9RVjOlKmA8"
      },
      "source": [
        "We don't want to count certain applications more than once when we analyze the data, so we have to eliminate duplicate entries and keep only one entry per application. One thing we could do is remove the duplicate rows at random, but we will discuss a better way to do it.\n",
        "\n",
        "If we examine the rows that we print for the Instagram application, the main difference occurs in the fourth position of each row, which corresponds to the number of reviews. The different numbers show that the data was collected at different times. We can use this information to build criteria to eliminate duplicates. The higher the number of reviews, the more recent the data should be. So, We'll only keep the rows that have the highest number of reviews.\n",
        "\n",
        "To do that, we will:\n",
        "\n",
        "* Create a dictionary where each key is a unique app name, and the value is the highest number of reviews of that app\n",
        "* Use the dictionary to create a new data set, which will have only one entry per app (and we only select the apps with the highest number of reviews)\n",
        "\n",
        "\n",
        "### Part two\n",
        "\n",
        "Let's start by building the dictionary"
      ]
    },
    {
      "cell_type": "code",
      "metadata": {
        "id": "Yu7lNPP1KmA9"
      },
      "source": [
        "reviews_max = {}\n",
        "\n",
        "for app in android:\n",
        "    name = app[0]\n",
        "    n_reviews = float(app[3])\n",
        "    \n",
        "    if name in reviews_max and reviews_max[name] < n_reviews:\n",
        "        reviews_max[name] = n_reviews\n",
        "    elif name not in reviews_max:\n",
        "        reviews_max[name] = n_reviews"
      ],
      "execution_count": null,
      "outputs": []
    },
    {
      "cell_type": "markdown",
      "metadata": {
        "id": "V_J3pUYIKmA9"
      },
      "source": [
        "In a previous code cell, we found that there are 1,181 cases where an app occurs more than once, so the length of our dictionary (of unique apps) should be equal to the difference between the length of our data set and 1,181."
      ]
    },
    {
      "cell_type": "code",
      "metadata": {
        "id": "zEX24DDsKmA9",
        "outputId": "613123f7-e32e-45f5-f0a5-a5c209dc0143"
      },
      "source": [
        "print('Expected length:', len(android) - 1181)\n",
        "print('Actual length:', len(reviews_max))"
      ],
      "execution_count": null,
      "outputs": [
        {
          "name": "stdout",
          "output_type": "stream",
          "text": [
            "Expected length: 9659\n",
            "Actual length: 9659\n"
          ]
        }
      ]
    },
    {
      "cell_type": "markdown",
      "metadata": {
        "id": "CRW-r-IOKmA-"
      },
      "source": [
        "Now, let's use the `reviews_max` dictionary to remove the duplicates. For the duplicate cases, we'll only keep the entries with the highest number of reviews. In the code cell below:\n",
        "\n",
        "* We start by initializing two empty lists, `android_clean` and `already_added`.\n",
        "* We loop through the `android` data set, and for every iteration, do the following:\n",
        "    - We isolate the name of the app and the number of reviews.\n",
        "    - We add the current row (app) to the `android_clean` list, and the app name (name) to the `already_added` list if:\n",
        "        - The number of reviews of the current app matches the number of reviews of that app as described in the `reviews_max` dictionary.\n",
        "        - The name of the app is not already in the `already_added` list. We need to add this supplementary condition to account for those cases where the highest number of reviews of a duplicate app is the same for more than one entry (for example, the **Box app** has three entries, and the number of reviews is the same). If we just check for `reviews_max[name] == n_reviews`, we'll still end up with duplicate entries for some apps."
      ]
    },
    {
      "cell_type": "code",
      "metadata": {
        "id": "77J0HZvDKmA_"
      },
      "source": [
        "android_clean = []\n",
        "already_added = []\n",
        "\n",
        "for app in android:\n",
        "    name = app[0]\n",
        "    n_reviews = float(app[3])\n",
        "    if (reviews_max[name] == n_reviews) and (name not in already_added):\n",
        "        android_clean.append(app)\n",
        "        already_added.append(name)"
      ],
      "execution_count": null,
      "outputs": []
    },
    {
      "cell_type": "markdown",
      "metadata": {
        "id": "a2vKa4-XKmA_"
      },
      "source": [
        "Now let's quickly explore the new data set, and confirm that the number of rows is 9,659."
      ]
    },
    {
      "cell_type": "code",
      "metadata": {
        "id": "dnKk5L4jKmBA",
        "outputId": "aad1610e-8935-491e-cf7c-296a311e9e09"
      },
      "source": [
        "explore_data(android_clean, 0, 3, True)"
      ],
      "execution_count": null,
      "outputs": [
        {
          "name": "stdout",
          "output_type": "stream",
          "text": [
            "['Photo Editor & Candy Camera & Grid & ScrapBook', 'ART_AND_DESIGN', '4.1', '159', '19M', '10,000+', 'Free', '0', 'Everyone', 'Art & Design', 'January 7, 2018', '1.0.0', '4.0.3 and up']\n",
            "\n",
            "\n",
            "['U Launcher Lite – FREE Live Cool Themes, Hide Apps', 'ART_AND_DESIGN', '4.7', '87510', '8.7M', '5,000,000+', 'Free', '0', 'Everyone', 'Art & Design', 'August 1, 2018', '1.2.4', '4.0.3 and up']\n",
            "\n",
            "\n",
            "['Sketch - Draw & Paint', 'ART_AND_DESIGN', '4.5', '215644', '25M', '50,000,000+', 'Free', '0', 'Teen', 'Art & Design', 'June 8, 2018', 'Varies with device', '4.2 and up']\n",
            "\n",
            "\n",
            "Number of rows: 9659\n",
            "Number of columns: 13\n"
          ]
        }
      ]
    },
    {
      "cell_type": "markdown",
      "metadata": {
        "id": "4rQLdZcFKmBB"
      },
      "source": [
        "We have 9659 rows, just as expected."
      ]
    },
    {
      "cell_type": "markdown",
      "metadata": {
        "id": "51JKcZPtKmBB"
      },
      "source": [
        "***\n",
        "## Removing Non-English Apps:\n",
        "\n",
        "### Part One\n",
        "\n",
        "If we explore the data sets enough, we'll notice the names of some of the apps suggest they are not directed toward an English-speaking audience. Below, we see a couple of examples from both data sets:"
      ]
    },
    {
      "cell_type": "code",
      "metadata": {
        "id": "ygCX4oVQKmBB",
        "outputId": "64779787-6212-4006-c5fb-ecc26a019039"
      },
      "source": [
        "print(ios[813][1])\n",
        "print(ios[6731][1])\n",
        "print('\\n')\n",
        "print(android_clean[4412][0])\n",
        "print(android_clean[7940][0])"
      ],
      "execution_count": null,
      "outputs": [
        {
          "name": "stdout",
          "output_type": "stream",
          "text": [
            "爱奇艺PPS -《欢乐颂2》电视剧热播\n",
            "【脱出ゲーム】絶対に最後までプレイしないで 〜謎解き＆ブロックパズル〜\n",
            "\n",
            "\n",
            "中国語 AQリスニング\n",
            "لعبة تقدر تربح DZ\n"
          ]
        }
      ]
    },
    {
      "cell_type": "markdown",
      "metadata": {
        "id": "GX-yLyPiKmBC"
      },
      "source": [
        "We're not interested in keeping these apps, so we'll remove them. One way to do this is to remove each app with a name containing a symbol that isn't commonly used in English text — English text usually includes letters from the English alphabet, numbers composed of digits from 0 to 9, punctuation marks (., !, ?, ;), and other symbols (+, *, /).\n",
        "\n",
        "All these characters that are specific to English texts are encoded using the ASCII standard. Each ASCII character has a corresponding number between 0 and 127 associated with it, and we can take advantage of that to build a function that checks an app name and tells us whether it contains non-ASCII characters.\n",
        "\n",
        "We built this function below, and we use the built-in `ord()` function to find out the corresponding encoding number of each character."
      ]
    },
    {
      "cell_type": "code",
      "metadata": {
        "id": "oDsMcMCZKmBC",
        "outputId": "f20b0bba-7188-4da4-e947-ee6711c36156"
      },
      "source": [
        "def is_english(string):\n",
        "    for character in string:\n",
        "        if ord(character) > 127:\n",
        "            return False\n",
        "    return True\n",
        "\n",
        "print(is_english('Instagram'))\n",
        "print(is_english('爱奇艺PPS -《欢乐颂2》电视剧热播'))"
      ],
      "execution_count": null,
      "outputs": [
        {
          "name": "stdout",
          "output_type": "stream",
          "text": [
            "True\n",
            "False\n"
          ]
        }
      ]
    },
    {
      "cell_type": "markdown",
      "metadata": {
        "id": "HicNKy-GKmBD"
      },
      "source": [
        "The function seems to work fine, but some English app names use emojis or other symbols (™, –, etc.) that fall outside of the ASCII range. Because of this, we'll remove useful apps if we use the function in its current form."
      ]
    },
    {
      "cell_type": "code",
      "metadata": {
        "id": "BT80wa8WKmBE",
        "outputId": "d3e23b50-88cc-40a9-9d79-7a36b76be079"
      },
      "source": [
        "print(is_english('Docs To Go™ Free Office Suite'))\n",
        "print(is_english('Instachat 😜'))\n",
        "\n",
        "print(ord('™'))\n",
        "print(ord('😜'))"
      ],
      "execution_count": null,
      "outputs": [
        {
          "name": "stdout",
          "output_type": "stream",
          "text": [
            "False\n",
            "False\n",
            "8482\n",
            "128540\n"
          ]
        }
      ]
    },
    {
      "cell_type": "markdown",
      "metadata": {
        "id": "tuuCvImWKmBE"
      },
      "source": [
        "### Part Two\n",
        "\n",
        "To minimize the impact of data loss, we'll only remove an app if its name has more than three characters with corresponding numbers falling outside the ASCII range."
      ]
    },
    {
      "cell_type": "code",
      "metadata": {
        "id": "2Gr5MI-LKmBE",
        "outputId": "4580fb54-5dbd-4387-e812-6e373374c028"
      },
      "source": [
        "def is_english(string):\n",
        "    non_ascii = 0\n",
        "    for character in string:\n",
        "        if ord(character) > 127:\n",
        "            non_ascii += 1\n",
        "    if non_ascii > 3:\n",
        "        return False\n",
        "    return True\n",
        "\n",
        "print(is_english('Docs To Go™ Free Office Suite'))\n",
        "print(is_english('Instachat 😜'))"
      ],
      "execution_count": null,
      "outputs": [
        {
          "name": "stdout",
          "output_type": "stream",
          "text": [
            "True\n",
            "True\n"
          ]
        }
      ]
    },
    {
      "cell_type": "markdown",
      "metadata": {
        "id": "8v32foVdKmBF"
      },
      "source": [
        "The function is still not perfect, and very few non-English apps might get past our filter, but this seems good enough at this point in our analysis — we shouldn't spend too much time on optimization at this point.\n",
        "\n",
        "Below, we use the `is_english()` function to filter out the non-English apps for both data sets:"
      ]
    },
    {
      "cell_type": "code",
      "metadata": {
        "id": "-pYDpI9bKmBF",
        "outputId": "599cd4eb-0ac4-498f-bfae-6976c01af8fb"
      },
      "source": [
        "android_english = []\n",
        "ios_english = []\n",
        "\n",
        "for app in android_clean:\n",
        "    name = app[0]\n",
        "    if is_english(name):\n",
        "        android_english.append(app)\n",
        "        \n",
        "for app in ios:\n",
        "    name = app[1]\n",
        "    if is_english(name):\n",
        "        ios_english.append(app)\n",
        "        \n",
        "print(\"Android apps:\", '-' * 13, sep='\\n')\n",
        "explore_data(android_english, 0, 3, True)\n",
        "print('\\n')\n",
        "print(\"iOS apps:\", '-' * 9, sep='\\n')\n",
        "explore_data(ios_english, 0, 3, True)"
      ],
      "execution_count": null,
      "outputs": [
        {
          "name": "stdout",
          "output_type": "stream",
          "text": [
            "Android apps:\n",
            "-------------\n",
            "['Photo Editor & Candy Camera & Grid & ScrapBook', 'ART_AND_DESIGN', '4.1', '159', '19M', '10,000+', 'Free', '0', 'Everyone', 'Art & Design', 'January 7, 2018', '1.0.0', '4.0.3 and up']\n",
            "\n",
            "\n",
            "['U Launcher Lite – FREE Live Cool Themes, Hide Apps', 'ART_AND_DESIGN', '4.7', '87510', '8.7M', '5,000,000+', 'Free', '0', 'Everyone', 'Art & Design', 'August 1, 2018', '1.2.4', '4.0.3 and up']\n",
            "\n",
            "\n",
            "['Sketch - Draw & Paint', 'ART_AND_DESIGN', '4.5', '215644', '25M', '50,000,000+', 'Free', '0', 'Teen', 'Art & Design', 'June 8, 2018', 'Varies with device', '4.2 and up']\n",
            "\n",
            "\n",
            "Number of rows: 9614\n",
            "Number of columns: 13\n",
            "\n",
            "\n",
            "iOS apps:\n",
            "---------\n",
            "['284882215', 'Facebook', '389879808', 'USD', '0.0', '2974676', '212', '3.5', '3.5', '95.0', '4+', 'Social Networking', '37', '1', '29', '1']\n",
            "\n",
            "\n",
            "['389801252', 'Instagram', '113954816', 'USD', '0.0', '2161558', '1289', '4.5', '4.0', '10.23', '12+', 'Photo & Video', '37', '0', '29', '1']\n",
            "\n",
            "\n",
            "['529479190', 'Clash of Clans', '116476928', 'USD', '0.0', '2130805', '579', '4.5', '4.5', '9.24.12', '9+', 'Games', '38', '5', '18', '1']\n",
            "\n",
            "\n",
            "Number of rows: 6183\n",
            "Number of columns: 16\n"
          ]
        }
      ]
    },
    {
      "cell_type": "markdown",
      "metadata": {
        "id": "_4ZvN0FxKmBG"
      },
      "source": [
        "We can see that we're left with 9,614 Android apps and 6,183 iOS apps."
      ]
    },
    {
      "cell_type": "markdown",
      "metadata": {
        "id": "ijqA2BgCKmBG"
      },
      "source": [
        "***\n",
        "## Isolating the Free Apps\n",
        "\n",
        "As we mentioned in the introduction, we only build apps that are free to download and install, and our main source of revenue consists of in-app ads. Our datasets contain both free and non-free apps; we'll need to isolate only the free apps for our analysis.\n",
        "\n",
        "Next, we isolate the free apps for both our data sets."
      ]
    },
    {
      "cell_type": "code",
      "metadata": {
        "id": "r1o-hNz4KmBG",
        "outputId": "2a563aab-dd4e-4d17-8d4e-e242c3ec864c"
      },
      "source": [
        "android_final = []\n",
        "ios_final = []\n",
        "\n",
        "for app in android_english:\n",
        "    price = app[7]\n",
        "    if price == '0':\n",
        "        android_final.append(app)\n",
        "\n",
        "for app in ios_english:\n",
        "    price = app[4]\n",
        "    if price == '0.0':\n",
        "        ios_final.append(app)\n",
        "\n",
        "print(\"Number of records in the Android dataset:\", len(android_final))\n",
        "print(\"Number of records in the iOS dataset.\", len(ios_final))"
      ],
      "execution_count": null,
      "outputs": [
        {
          "name": "stdout",
          "output_type": "stream",
          "text": [
            "Number of records in the Android dataset: 8864\n",
            "Number of records in the iOS dataset. 3222\n"
          ]
        }
      ]
    },
    {
      "cell_type": "markdown",
      "metadata": {
        "id": "HJpqwtC0KmBG"
      },
      "source": [
        "We're left with 8,864 Android apps and 3,222 iOS apps, which should be enough for our analysis."
      ]
    },
    {
      "cell_type": "markdown",
      "metadata": {
        "id": "yM3TdfATKmBH"
      },
      "source": [
        "***\n",
        "## Most Common Apps by Genre\n",
        "\n",
        "### Part One\n",
        "\n",
        "As we mentioned in the introduction, our aim is to determine the kinds of apps that are likely to attract more users because our revenue is highly influenced by the number of people using our apps.\n",
        "\n",
        "To minimize risks and overhead, our validation strategy for an app idea has three steps:\n",
        "\n",
        "1. Build a minimal Android version of the app, and add it to Google Play.\n",
        "2. If the app has a good response from users, we develop it further.\n",
        "3. If the app is profitable after six months, we build an iOS version of the app and add it to the App Store.\n",
        "\n",
        "Because our end goal is to add the app on both Google Play and the App Store, we need to find app profiles that are successful in both markets. For instance, a profile that works well for both markets might be a productivity app that makes use of gamification.\n",
        "\n",
        "Let's begin the analysis by determining the most common genres for each market. For this, we'll need to build frequency tables for a few columns in our datasets.\n",
        "\n",
        "\n",
        "### Part Two\n",
        "\n",
        "We'll build two functions we can use to analyze the frequency tables:\n",
        "\n",
        "* One function to generate frequency tables that show percentages.\n",
        "* Another function we can use to display the percentages in a descending order."
      ]
    },
    {
      "cell_type": "code",
      "metadata": {
        "id": "idojG8ndKmBH"
      },
      "source": [
        "def freq_table(dataset, index):\n",
        "    table = {}\n",
        "    total = 0\n",
        "    for row in dataset:\n",
        "        total += 1\n",
        "        value = row[index]\n",
        "        if value not in table:\n",
        "            table[value] = 0\n",
        "        table[value] += 1\n",
        "    \n",
        "    table_percentages = {}\n",
        "    for key in table:\n",
        "        percentage = round((table[key] / total) * 100, 2)\n",
        "        table_percentages[key] = percentage\n",
        "    \n",
        "    return table_percentages\n",
        "\n",
        "\n",
        "def display_table(dataset, index, title):\n",
        "    table = freq_table(dataset, index)\n",
        "    table_display = []\n",
        "    for key in table:\n",
        "        key_val_as_tuple = (table[key], key)\n",
        "        table_display.append(key_val_as_tuple)\n",
        "    \n",
        "    table_sorted = sorted(table_display, reverse = True)\n",
        "    print(title, '-' * len(title), sep='\\n')\n",
        "    for entry in table_sorted:\n",
        "        print(entry[1], ':', entry[0])"
      ],
      "execution_count": null,
      "outputs": []
    },
    {
      "cell_type": "markdown",
      "metadata": {
        "id": "7ggTXLBpKmBI"
      },
      "source": [
        "### Part Three\n",
        "\n",
        "We start by examining the frequency table for the `prime_genre` column of the App Store data set."
      ]
    },
    {
      "cell_type": "code",
      "metadata": {
        "id": "shsH0EceKmBI",
        "outputId": "0a659b70-111f-41c6-a033-190338983912"
      },
      "source": [
        "display_table(ios_final, -5,\n",
        "             \"Frequency table by prime genres - iOS\")"
      ],
      "execution_count": null,
      "outputs": [
        {
          "name": "stdout",
          "output_type": "stream",
          "text": [
            "Frequency table by prime genres - iOS\n",
            "-------------------------------------\n",
            "Games : 58.16\n",
            "Entertainment : 7.88\n",
            "Photo & Video : 4.97\n",
            "Education : 3.66\n",
            "Social Networking : 3.29\n",
            "Shopping : 2.61\n",
            "Utilities : 2.51\n",
            "Sports : 2.14\n",
            "Music : 2.05\n",
            "Health & Fitness : 2.02\n",
            "Productivity : 1.74\n",
            "Lifestyle : 1.58\n",
            "News : 1.33\n",
            "Travel : 1.24\n",
            "Finance : 1.12\n",
            "Weather : 0.87\n",
            "Food & Drink : 0.81\n",
            "Reference : 0.56\n",
            "Business : 0.53\n",
            "Book : 0.43\n",
            "Navigation : 0.19\n",
            "Medical : 0.19\n",
            "Catalogs : 0.12\n"
          ]
        }
      ]
    },
    {
      "cell_type": "markdown",
      "metadata": {
        "id": "BjtHyBzyKmBJ"
      },
      "source": [
        "We can see that among the free English apps, more than a half (58.16%) are games. Entertainment apps are close to 8%, followed by photo and video apps, which are close to 5%. Only 3.66% of the apps are designed for education, followed by social networking apps which amount for 3.29% of the apps in our data set.\n",
        "\n",
        "The general impression is that App Store (at least the part containing free English apps) is dominated by apps that are designed for fun (games, entertainment, photo and video, social networking, sports, music, etc.), while apps with practical purposes (education, shopping, utilities, productivity, lifestyle, etc.) are more rare. However, the fact that fun apps are the most numerous doesn't also imply that they also have the greatest number of users — the demand might not be the same as the offer.\n",
        "\n",
        "Let's continue by examining the `Genres` and `Category` columns of the Google Play data set (two columns which seem to be related)."
      ]
    },
    {
      "cell_type": "code",
      "metadata": {
        "id": "AB6zw8wGKmBJ",
        "outputId": "d3a7ab3c-6b87-4bcc-86b6-ad0671af1e4d"
      },
      "source": [
        "display_table(android_final, 1,\n",
        "             \"Frequency table by category - Android\")"
      ],
      "execution_count": null,
      "outputs": [
        {
          "name": "stdout",
          "output_type": "stream",
          "text": [
            "Frequency table by category - Android\n",
            "-------------------------------------\n",
            "FAMILY : 18.91\n",
            "GAME : 9.72\n",
            "TOOLS : 8.46\n",
            "BUSINESS : 4.59\n",
            "LIFESTYLE : 3.9\n",
            "PRODUCTIVITY : 3.89\n",
            "FINANCE : 3.7\n",
            "MEDICAL : 3.53\n",
            "SPORTS : 3.4\n",
            "PERSONALIZATION : 3.32\n",
            "COMMUNICATION : 3.24\n",
            "HEALTH_AND_FITNESS : 3.08\n",
            "PHOTOGRAPHY : 2.94\n",
            "NEWS_AND_MAGAZINES : 2.8\n",
            "SOCIAL : 2.66\n",
            "TRAVEL_AND_LOCAL : 2.34\n",
            "SHOPPING : 2.25\n",
            "BOOKS_AND_REFERENCE : 2.14\n",
            "DATING : 1.86\n",
            "VIDEO_PLAYERS : 1.79\n",
            "MAPS_AND_NAVIGATION : 1.4\n",
            "FOOD_AND_DRINK : 1.24\n",
            "EDUCATION : 1.16\n",
            "ENTERTAINMENT : 0.96\n",
            "LIBRARIES_AND_DEMO : 0.94\n",
            "AUTO_AND_VEHICLES : 0.93\n",
            "HOUSE_AND_HOME : 0.82\n",
            "WEATHER : 0.8\n",
            "EVENTS : 0.71\n",
            "PARENTING : 0.65\n",
            "ART_AND_DESIGN : 0.64\n",
            "COMICS : 0.62\n",
            "BEAUTY : 0.6\n"
          ]
        }
      ]
    },
    {
      "cell_type": "markdown",
      "metadata": {
        "id": "kRZHZysVKmBJ"
      },
      "source": [
        "The landscape seems significantly different on Google Play: there are not that many apps designed for fun, and it seems that a good number of apps are designed for practical purposes (family, tools, business, lifestyle, productivity, etc.). However, if we investigate this further, we can see that the family category (which accounts for almost 19% of the apps) means mostly games for kids.\n",
        "\n",
        "\n",
        "[![img](https://s3.amazonaws.com/dq-content/350/py1m8_family.png)](https://play.google.com/store/apps/category/FAMILY?hl=en)\n",
        "\n",
        "\n",
        "Even so, practical apps seem to have a better representation on Google Play compared to App Store. This picture is also confirmed by the frequency table we see for the Genres column:\n",
        "\n",
        "<a id='ft_genre_android'></a>"
      ]
    },
    {
      "cell_type": "code",
      "metadata": {
        "scrolled": false,
        "id": "8xtX9xM3KmBK",
        "outputId": "d09eb9f0-7ff7-44ff-e7a9-c9e7e243463a"
      },
      "source": [
        "display_table(android_final, -4,\n",
        "             \"Frequency table by genres - Android\")"
      ],
      "execution_count": null,
      "outputs": [
        {
          "name": "stdout",
          "output_type": "stream",
          "text": [
            "Frequency table by genres - Android\n",
            "-----------------------------------\n",
            "Tools : 8.45\n",
            "Entertainment : 6.07\n",
            "Education : 5.35\n",
            "Business : 4.59\n",
            "Productivity : 3.89\n",
            "Lifestyle : 3.89\n",
            "Finance : 3.7\n",
            "Medical : 3.53\n",
            "Sports : 3.46\n",
            "Personalization : 3.32\n",
            "Communication : 3.24\n",
            "Action : 3.1\n",
            "Health & Fitness : 3.08\n",
            "Photography : 2.94\n",
            "News & Magazines : 2.8\n",
            "Social : 2.66\n",
            "Travel & Local : 2.32\n",
            "Shopping : 2.25\n",
            "Books & Reference : 2.14\n",
            "Simulation : 2.04\n",
            "Dating : 1.86\n",
            "Arcade : 1.85\n",
            "Video Players & Editors : 1.77\n",
            "Casual : 1.76\n",
            "Maps & Navigation : 1.4\n",
            "Food & Drink : 1.24\n",
            "Puzzle : 1.13\n",
            "Racing : 0.99\n",
            "Role Playing : 0.94\n",
            "Libraries & Demo : 0.94\n",
            "Auto & Vehicles : 0.93\n",
            "Strategy : 0.91\n",
            "House & Home : 0.82\n",
            "Weather : 0.8\n",
            "Events : 0.71\n",
            "Adventure : 0.68\n",
            "Comics : 0.61\n",
            "Beauty : 0.6\n",
            "Art & Design : 0.6\n",
            "Parenting : 0.5\n",
            "Card : 0.45\n",
            "Casino : 0.43\n",
            "Trivia : 0.42\n",
            "Educational;Education : 0.39\n",
            "Board : 0.38\n",
            "Educational : 0.37\n",
            "Education;Education : 0.34\n",
            "Word : 0.26\n",
            "Casual;Pretend Play : 0.24\n",
            "Music : 0.2\n",
            "Racing;Action & Adventure : 0.17\n",
            "Puzzle;Brain Games : 0.17\n",
            "Entertainment;Music & Video : 0.17\n",
            "Casual;Brain Games : 0.14\n",
            "Casual;Action & Adventure : 0.14\n",
            "Arcade;Action & Adventure : 0.12\n",
            "Action;Action & Adventure : 0.1\n",
            "Educational;Pretend Play : 0.09\n",
            "Simulation;Action & Adventure : 0.08\n",
            "Parenting;Education : 0.08\n",
            "Entertainment;Brain Games : 0.08\n",
            "Board;Brain Games : 0.08\n",
            "Parenting;Music & Video : 0.07\n",
            "Educational;Brain Games : 0.07\n",
            "Casual;Creativity : 0.07\n",
            "Art & Design;Creativity : 0.07\n",
            "Education;Pretend Play : 0.06\n",
            "Role Playing;Pretend Play : 0.05\n",
            "Education;Creativity : 0.05\n",
            "Role Playing;Action & Adventure : 0.03\n",
            "Puzzle;Action & Adventure : 0.03\n",
            "Entertainment;Creativity : 0.03\n",
            "Entertainment;Action & Adventure : 0.03\n",
            "Educational;Creativity : 0.03\n",
            "Educational;Action & Adventure : 0.03\n",
            "Education;Music & Video : 0.03\n",
            "Education;Brain Games : 0.03\n",
            "Education;Action & Adventure : 0.03\n",
            "Adventure;Action & Adventure : 0.03\n",
            "Video Players & Editors;Music & Video : 0.02\n",
            "Sports;Action & Adventure : 0.02\n",
            "Simulation;Pretend Play : 0.02\n",
            "Puzzle;Creativity : 0.02\n",
            "Music;Music & Video : 0.02\n",
            "Entertainment;Pretend Play : 0.02\n",
            "Casual;Education : 0.02\n",
            "Board;Action & Adventure : 0.02\n",
            "Video Players & Editors;Creativity : 0.01\n",
            "Trivia;Education : 0.01\n",
            "Travel & Local;Action & Adventure : 0.01\n",
            "Tools;Education : 0.01\n",
            "Strategy;Education : 0.01\n",
            "Strategy;Creativity : 0.01\n",
            "Strategy;Action & Adventure : 0.01\n",
            "Simulation;Education : 0.01\n",
            "Role Playing;Brain Games : 0.01\n",
            "Racing;Pretend Play : 0.01\n",
            "Puzzle;Education : 0.01\n",
            "Parenting;Brain Games : 0.01\n",
            "Music & Audio;Music & Video : 0.01\n",
            "Lifestyle;Pretend Play : 0.01\n",
            "Lifestyle;Education : 0.01\n",
            "Health & Fitness;Education : 0.01\n",
            "Health & Fitness;Action & Adventure : 0.01\n",
            "Entertainment;Education : 0.01\n",
            "Communication;Creativity : 0.01\n",
            "Comics;Creativity : 0.01\n",
            "Casual;Music & Video : 0.01\n",
            "Card;Action & Adventure : 0.01\n",
            "Books & Reference;Education : 0.01\n",
            "Art & Design;Pretend Play : 0.01\n",
            "Art & Design;Action & Adventure : 0.01\n",
            "Arcade;Pretend Play : 0.01\n",
            "Adventure;Education : 0.01\n"
          ]
        }
      ]
    },
    {
      "cell_type": "markdown",
      "metadata": {
        "id": "jhcx-54mKmBK"
      },
      "source": [
        "The difference between the `Genres` and the `Category` columns is not crystal clear, but one thing we can notice is that the `Genres` column is much more granular (it has more categories). We're only looking for the bigger picture at the moment, so we'll only work with the `Category` column moving forward.\n",
        "\n",
        "Up to this point, we found that the App Store is dominated by apps designed for fun, while Google Play shows a more balanced landscape of both practical and for-fun apps. Now we'd like to get an idea about the kind of apps that have most users."
      ]
    },
    {
      "cell_type": "markdown",
      "metadata": {
        "id": "i0NiizGLKmBK"
      },
      "source": [
        "***\n",
        "## Most Popular Apps by Genre on the App Store\n",
        "\n",
        "One way to find out what genres are the most popular (have the most users) is to calculate the average number of installs for each app genre. For the Google Play data set, we can find this information in the `Installs` column, but this information is missing for the App Store data set. As a workaround, we'll take the total number of user ratings as a proxy, which we can find in the `rating_count_tot` app.\n",
        "\n",
        "Below, we calculate the average number of user ratings per app genre on the App Store:"
      ]
    },
    {
      "cell_type": "code",
      "metadata": {
        "id": "c7U5AMX_KmBL",
        "outputId": "7cd59897-41aa-429f-e9d2-dfa3364d0f7d"
      },
      "source": [
        "genres_ios = freq_table(ios_final, -5)\n",
        "avg_genre_ios = []\n",
        "\n",
        "for genre in genres_ios:\n",
        "    total = 0\n",
        "    len_genre = 0\n",
        "    for app in ios_final:\n",
        "        genre_app = app[-5]\n",
        "        if genre_app == genre:\n",
        "            n_ratings = float(app[5])\n",
        "            total += n_ratings\n",
        "            len_genre += 1\n",
        "    avg_n_ratings = total / len_genre\n",
        "    avg_genre_ios.append((avg_n_ratings, genre))\n",
        "\n",
        "avg_gen_ios_sorted = sorted(avg_genre_ios, reverse=True)\n",
        "for ele in avg_gen_ios_sorted:\n",
        "    print(ele[1], ': {:,.2f}'.format(ele[0]))"
      ],
      "execution_count": null,
      "outputs": [
        {
          "name": "stdout",
          "output_type": "stream",
          "text": [
            "Navigation : 86,090.33\n",
            "Reference : 74,942.11\n",
            "Social Networking : 71,548.35\n",
            "Music : 57,326.53\n",
            "Weather : 52,279.89\n",
            "Book : 39,758.50\n",
            "Food & Drink : 33,333.92\n",
            "Finance : 31,467.94\n",
            "Photo & Video : 28,441.54\n",
            "Travel : 28,243.80\n",
            "Shopping : 26,919.69\n",
            "Health & Fitness : 23,298.02\n",
            "Sports : 23,008.90\n",
            "Games : 22,788.67\n",
            "News : 21,248.02\n",
            "Productivity : 21,028.41\n",
            "Utilities : 18,684.46\n",
            "Lifestyle : 16,485.76\n",
            "Entertainment : 14,029.83\n",
            "Business : 7,491.12\n",
            "Education : 7,003.98\n",
            "Catalogs : 4,004.00\n",
            "Medical : 612.00\n"
          ]
        }
      ]
    },
    {
      "cell_type": "markdown",
      "metadata": {
        "id": "EM-_V2ZOKmBL"
      },
      "source": [
        "On average, navigation apps have the highest number of user reviews, but this figure is heavily influenced by Waze and Google Maps, which have close to half a million user reviews together:"
      ]
    },
    {
      "cell_type": "code",
      "metadata": {
        "id": "rW0XOwzOKmBL",
        "outputId": "99744ae9-7c63-4916-9dee-898decf331f4"
      },
      "source": [
        "for app in ios_final:\n",
        "    if app[-5] == 'Navigation':\n",
        "        reviews = int(app[5])\n",
        "        print(app[1], ': {:,}'.format(reviews))"
      ],
      "execution_count": null,
      "outputs": [
        {
          "name": "stdout",
          "output_type": "stream",
          "text": [
            "Waze - GPS Navigation, Maps & Real-time Traffic : 345,046\n",
            "Google Maps - Navigation & Transit : 154,911\n",
            "Geocaching® : 12,811\n",
            "CoPilot GPS – Car Navigation & Offline Maps : 3,582\n",
            "ImmobilienScout24: Real Estate Search in Germany : 187\n",
            "Railway Route Search : 5\n"
          ]
        }
      ]
    },
    {
      "cell_type": "markdown",
      "metadata": {
        "id": "aNpp87YfKmBM"
      },
      "source": [
        "The same pattern applies to social networking apps, where the average number is heavily influenced by a few giants like Facebook, Pinterest, Skype, etc. Same applies to music apps, where a few big players like Pandora, Spotify, and Shazam heavily influence the average number.\n",
        "\n",
        "Our aim is to find popular genres, but navigation, social networking or music apps might seem more popular than they really are. The average number of ratings seem to be skewed by very few apps which have hundreds of thousands of user ratings, while the other apps may struggle to get past the 10,000 threshold. We could get a better picture by removing these extremely popular apps for each genre and then rework the averages, but we'll leave this level of detail for later.\n",
        "\n",
        "Reference apps have 74,942 user ratings on average, but it's actually the Bible and Dictionary.com which skew up the average rating:"
      ]
    },
    {
      "cell_type": "code",
      "metadata": {
        "id": "c2BBvER2KmBM",
        "outputId": "a2894feb-e53a-481c-a695-0eda1e3c3661"
      },
      "source": [
        "for app in ios_final:\n",
        "    if app[-5] == 'Reference':\n",
        "        print(app[1], ': {:,}'.format(int(app[5])))"
      ],
      "execution_count": null,
      "outputs": [
        {
          "name": "stdout",
          "output_type": "stream",
          "text": [
            "Bible : 985,920\n",
            "Dictionary.com Dictionary & Thesaurus : 200,047\n",
            "Dictionary.com Dictionary & Thesaurus for iPad : 54,175\n",
            "Google Translate : 26,786\n",
            "Muslim Pro: Ramadan 2017 Prayer Times, Azan, Quran : 18,418\n",
            "New Furniture Mods - Pocket Wiki & Game Tools for Minecraft PC Edition : 17,588\n",
            "Merriam-Webster Dictionary : 16,849\n",
            "Night Sky : 12,122\n",
            "City Maps for Minecraft PE - The Best Maps for Minecraft Pocket Edition (MCPE) : 8,535\n",
            "LUCKY BLOCK MOD ™ for Minecraft PC Edition - The Best Pocket Wiki & Mods Installer Tools : 4,693\n",
            "GUNS MODS for Minecraft PC Edition - Mods Tools : 1,497\n",
            "Guides for Pokémon GO - Pokemon GO News and Cheats : 826\n",
            "WWDC : 762\n",
            "Horror Maps for Minecraft PE - Download The Scariest Maps for Minecraft Pocket Edition (MCPE) Free : 718\n",
            "VPN Express : 14\n",
            "Real Bike Traffic Rider Virtual Reality Glasses : 8\n",
            "教えて!goo : 0\n",
            "Jishokun-Japanese English Dictionary & Translator : 0\n"
          ]
        }
      ]
    },
    {
      "cell_type": "markdown",
      "metadata": {
        "id": "vw_lvaEoKmBM"
      },
      "source": [
        "However, this niche seems to show some potential. One thing we could do is take another popular book and turn it into an app where we could add different features besides the raw version of the book. This might include daily quotes from the book, an audio version of the book, quizzes about the book, etc. On top of that, we could also embed a dictionary within the app, so users don't need to exit our app to look up words in an external app.\n",
        "\n",
        "This idea seems to fit well with the fact that the App Store is dominated by for-fun apps. This suggests the market might be a bit saturated with for-fun apps, which means a practical app might have more of a chance to stand out among the huge number of apps on the App Store.\n",
        "\n",
        "Other genres that seem popular include weather, book, food and drink, or finance. The book genre seem to overlap a bit with the app idea we described above, but the other genres don't seem too interesting to us:\n",
        "\n",
        "* Weather apps — people generally don't spend too much time in-app, and the chances of making profit from in-app adds are low. Also, getting reliable live weather data may require us to connect our apps to non-free APIs.\n",
        "\n",
        "* Food and drink — examples here include Starbucks, Dunkin' Donuts, McDonald's, etc. So making a popular food and drink app requires actual cooking and a delivery service, which is outside the scope of our company.\n",
        "\n",
        "* Finance apps — these apps involve banking, paying bills, money transfer, etc. Building a finance app requires domain knowledge, and we don't want to hire a finance expert just to build an app.\n",
        "\n",
        "Now let's analyze the Google Play market a bit.\n",
        "\n",
        "***\n",
        "## Most Popular Apps by Genre on Google Play\n",
        "\n",
        "For the Google Play market, we actually have data about the number of installs, so we should be able to get a clearer picture about genre popularity. However, the install numbers don't seem precise enough — we can see that most values are open-ended (100+, 1,000+, 5,000+, etc.):"
      ]
    },
    {
      "cell_type": "code",
      "metadata": {
        "id": "AT-xhPpGKmBN",
        "outputId": "0cb96aa5-c16f-4b27-fda5-e0169b01b093"
      },
      "source": [
        "display_table(android_final, 5,\n",
        "             \"Frequency table by number of installs - Android\")"
      ],
      "execution_count": null,
      "outputs": [
        {
          "name": "stdout",
          "output_type": "stream",
          "text": [
            "Frequency table by number of installs - Android\n",
            "-----------------------------------------------\n",
            "1,000,000+ : 15.73\n",
            "100,000+ : 11.55\n",
            "10,000,000+ : 10.55\n",
            "10,000+ : 10.2\n",
            "1,000+ : 8.39\n",
            "100+ : 6.92\n",
            "5,000,000+ : 6.83\n",
            "500,000+ : 5.56\n",
            "50,000+ : 4.77\n",
            "5,000+ : 4.51\n",
            "10+ : 3.54\n",
            "500+ : 3.25\n",
            "50,000,000+ : 2.3\n",
            "100,000,000+ : 2.13\n",
            "50+ : 1.92\n",
            "5+ : 0.79\n",
            "1+ : 0.51\n",
            "500,000,000+ : 0.27\n",
            "1,000,000,000+ : 0.23\n",
            "0+ : 0.05\n",
            "0 : 0.01\n"
          ]
        }
      ]
    },
    {
      "cell_type": "markdown",
      "metadata": {
        "id": "hsgn_IzGKmBN"
      },
      "source": [
        "One problem with this data is that is not precise. For instance, we don't know whether an app with 100,000+ installs has 100,000 installs, 200,000, or 350,000. However, we don't need very precise data for our purposes — we only want to get an idea which app genres attract the most users, and we don't need perfect precision with respect to the number of users.\n",
        "\n",
        "We're going to leave the numbers as they are, which means that we'll consider that an app with 100,000+ installs has 100,000 installs, and an app with 1,000,000+ installs has 1,000,000 installs, and so on.\n",
        "\n",
        "To perform computations, however, we'll need to convert each install number to float — this means that we need to remove the commas and the plus characters, otherwise the conversion will fail and raise an error. We'll do this directly in the loop below, where we also compute the average number of installs for each genre (category)."
      ]
    },
    {
      "cell_type": "code",
      "metadata": {
        "id": "XwUFbQFwKmBO",
        "outputId": "00e4c226-2106-4dbd-9b89-9b0397d9d8da"
      },
      "source": [
        "categories_android = freq_table(android_final, 1)\n",
        "categories_installs_android = []\n",
        "\n",
        "for category in categories_android:\n",
        "    total = 0\n",
        "    len_category = 0\n",
        "    for app in android_final:\n",
        "        category_app = app[1]\n",
        "        if category_app == category:\n",
        "            n_installs = app[5]\n",
        "            n_installs = n_installs.replace('+', '')\n",
        "            n_installs = n_installs.replace(',', '')\n",
        "            total += float(n_installs)\n",
        "            len_category += 1\n",
        "    avg_n_installs = total / len_category\n",
        "    categories_installs_android.append((avg_n_installs, category))\n",
        "\n",
        "avg_cat_android_sorted = sorted(categories_installs_android, reverse = True)\n",
        "for ele in avg_cat_android_sorted:\n",
        "    print(ele[1], ': {:,.2f}'.format(ele[0]))"
      ],
      "execution_count": null,
      "outputs": [
        {
          "name": "stdout",
          "output_type": "stream",
          "text": [
            "COMMUNICATION : 38,456,119.17\n",
            "VIDEO_PLAYERS : 24,727,872.45\n",
            "SOCIAL : 23,253,652.13\n",
            "PHOTOGRAPHY : 17,840,110.40\n",
            "PRODUCTIVITY : 16,787,331.34\n",
            "GAME : 15,588,015.60\n",
            "TRAVEL_AND_LOCAL : 13,984,077.71\n",
            "ENTERTAINMENT : 11,640,705.88\n",
            "TOOLS : 10,801,391.30\n",
            "NEWS_AND_MAGAZINES : 9,549,178.47\n",
            "BOOKS_AND_REFERENCE : 8,767,811.89\n",
            "SHOPPING : 7,036,877.31\n",
            "PERSONALIZATION : 5,201,482.61\n",
            "WEATHER : 5,074,486.20\n",
            "HEALTH_AND_FITNESS : 4,188,821.99\n",
            "MAPS_AND_NAVIGATION : 4,056,941.77\n",
            "FAMILY : 3,695,641.82\n",
            "SPORTS : 3,638,640.14\n",
            "ART_AND_DESIGN : 1,986,335.09\n",
            "FOOD_AND_DRINK : 1,924,897.74\n",
            "EDUCATION : 1,833,495.15\n",
            "BUSINESS : 1,712,290.15\n",
            "LIFESTYLE : 1,437,816.27\n",
            "FINANCE : 1,387,692.48\n",
            "HOUSE_AND_HOME : 1,331,540.56\n",
            "DATING : 854,028.83\n",
            "COMICS : 817,657.27\n",
            "AUTO_AND_VEHICLES : 647,317.82\n",
            "LIBRARIES_AND_DEMO : 638,503.73\n",
            "PARENTING : 542,603.62\n",
            "BEAUTY : 513,151.89\n",
            "EVENTS : 253,542.22\n",
            "MEDICAL : 120,550.62\n"
          ]
        }
      ]
    },
    {
      "cell_type": "markdown",
      "metadata": {
        "id": "vyqJUKj4KmBO"
      },
      "source": [
        "On average, communication apps have the most installs: 38,456,119. This number is heavily skewed up by a few apps that have over one billion installs (WhatsApp, Facebook Messenger, Skype, Google Chrome, Gmail, and Hangouts), and a few others with over 100 and 500 million installs:"
      ]
    },
    {
      "cell_type": "code",
      "metadata": {
        "id": "EzefIyOjKmBP",
        "outputId": "f9401966-3bcd-42fe-90a9-9e2bf27d6ae1"
      },
      "source": [
        "for app in android_final:\n",
        "    if app[1] == 'COMMUNICATION' and (app[5] == '1,000,000,000+'\n",
        "                                      or app[5] == '500,000,000+'\n",
        "                                      or app[5] == '100,000,000+'):\n",
        "        print(app[0], ':', app[5])"
      ],
      "execution_count": null,
      "outputs": [
        {
          "name": "stdout",
          "output_type": "stream",
          "text": [
            "WhatsApp Messenger : 1,000,000,000+\n",
            "imo beta free calls and text : 100,000,000+\n",
            "Android Messages : 100,000,000+\n",
            "Google Duo - High Quality Video Calls : 500,000,000+\n",
            "Messenger – Text and Video Chat for Free : 1,000,000,000+\n",
            "imo free video calls and chat : 500,000,000+\n",
            "Skype - free IM & video calls : 1,000,000,000+\n",
            "Who : 100,000,000+\n",
            "GO SMS Pro - Messenger, Free Themes, Emoji : 100,000,000+\n",
            "LINE: Free Calls & Messages : 500,000,000+\n",
            "Google Chrome: Fast & Secure : 1,000,000,000+\n",
            "Firefox Browser fast & private : 100,000,000+\n",
            "UC Browser - Fast Download Private & Secure : 500,000,000+\n",
            "Gmail : 1,000,000,000+\n",
            "Hangouts : 1,000,000,000+\n",
            "Messenger Lite: Free Calls & Messages : 100,000,000+\n",
            "Kik : 100,000,000+\n",
            "KakaoTalk: Free Calls & Text : 100,000,000+\n",
            "Opera Mini - fast web browser : 100,000,000+\n",
            "Opera Browser: Fast and Secure : 100,000,000+\n",
            "Telegram : 100,000,000+\n",
            "Truecaller: Caller ID, SMS spam blocking & Dialer : 100,000,000+\n",
            "UC Browser Mini -Tiny Fast Private & Secure : 100,000,000+\n",
            "Viber Messenger : 500,000,000+\n",
            "WeChat : 100,000,000+\n",
            "Yahoo Mail – Stay Organized : 100,000,000+\n",
            "BBM - Free Calls & Messages : 100,000,000+\n"
          ]
        }
      ]
    },
    {
      "cell_type": "markdown",
      "metadata": {
        "id": "OHE0g_suKmBP"
      },
      "source": [
        "If we removed all the communication apps that have over 100 million installs, the average would be reduced roughly ten times:"
      ]
    },
    {
      "cell_type": "code",
      "metadata": {
        "id": "HzMy6mevKmBP",
        "outputId": "114eede7-c820-4399-aa0b-24b7281adf19"
      },
      "source": [
        "under_100_m = []\n",
        "\n",
        "for app in android_final:\n",
        "    n_installs = app[5]\n",
        "    n_installs = n_installs.replace('+', '')\n",
        "    n_installs = n_installs.replace(',', '')\n",
        "    if (app[1] == 'COMMUNICATION') and (float(n_installs) < 100000000):\n",
        "        under_100_m.append(float(n_installs))\n",
        "\n",
        "print('{:,.2f}'.format(sum(under_100_m) / len(under_100_m)))"
      ],
      "execution_count": null,
      "outputs": [
        {
          "name": "stdout",
          "output_type": "stream",
          "text": [
            "3,603,485.39\n"
          ]
        }
      ]
    },
    {
      "cell_type": "markdown",
      "metadata": {
        "id": "_2DjwqLQKmBQ"
      },
      "source": [
        "We see the same pattern for the video players category, which is the runner-up with 24,727,872 installs. The market is dominated by apps like Youtube, Google Play Movies & TV, or MX Player. The pattern is repeated for social apps (where we have giants like Facebook, Instagram, Google+, etc.), photography apps (Google Photos and other popular photo editors), or productivity apps (Microsoft Word, Dropbox, Google Calendar, Evernote, etc.).\n",
        "\n",
        "Again, the main concern is that these app genres might seem more popular than they really are. Moreover, these niches seem to be dominated by a few giants who are hard to compete against.\n",
        "\n",
        "The game genre seems pretty popular, but previously we found out this part of the market seems a bit saturated, so we'd like to come up with a different app recommendation if possible.\n",
        "\n",
        "The books and reference genre looks fairly popular as well, with an average number of installs of 8,767,811. It's interesting to explore this in more depth, since we found this genre has some potential to work well on the App Store, and our aim is to recommend an app genre that shows potential for being profitable on both the App Store and Google Play.\n",
        "\n",
        "Let's take a look at some of the apps from this genre and their number of installs:"
      ]
    },
    {
      "cell_type": "code",
      "metadata": {
        "scrolled": false,
        "id": "25kvM9hVKmBQ",
        "outputId": "0f490a46-5baf-44b5-f160-46a9744f7f4a"
      },
      "source": [
        "book_ref_android = []\n",
        "\n",
        "for app in android_final:\n",
        "    if app[1] == 'BOOKS_AND_REFERENCE':\n",
        "        n_installs = app[5]\n",
        "        n_installs = n_installs.replace('+', '')\n",
        "        n_installs = n_installs.replace(',', '')\n",
        "        book_ref_android.append((app[0], int(n_installs)))\n",
        "\n",
        "br_android_sorted = sorted(book_ref_android, key=lambda x: (x[1], x[0]), reverse=True)\n",
        "\n",
        "for app in br_android_sorted:\n",
        "    print(app[0], ': {:,}'.format(app[1]))"
      ],
      "execution_count": null,
      "outputs": [
        {
          "name": "stdout",
          "output_type": "stream",
          "text": [
            "Google Play Books : 1,000,000,000\n",
            "Wattpad 📖 Free Books : 100,000,000\n",
            "Bible : 100,000,000\n",
            "Audiobooks from Audible : 100,000,000\n",
            "Amazon Kindle : 100,000,000\n",
            "Wikipedia : 10,000,000\n",
            "Spanish English Translator : 10,000,000\n",
            "Quran for Android : 10,000,000\n",
            "Oxford Dictionary of English : Free : 10,000,000\n",
            "NOOK: Read eBooks & Magazines : 10,000,000\n",
            "Moon+ Reader : 10,000,000\n",
            "JW Library : 10,000,000\n",
            "HTC Help : 10,000,000\n",
            "FBReader: Favorite Book Reader : 10,000,000\n",
            "English Hindi Dictionary : 10,000,000\n",
            "English Dictionary - Offline : 10,000,000\n",
            "Dictionary.com: Find Definitions for English Words : 10,000,000\n",
            "Dictionary - Merriam-Webster : 10,000,000\n",
            "Dictionary : 10,000,000\n",
            "Cool Reader : 10,000,000\n",
            "Aldiko Book Reader : 10,000,000\n",
            "Al-Quran (Free) : 10,000,000\n",
            "Al'Quran Bahasa Indonesia : 10,000,000\n",
            "Al Quran Indonesia : 10,000,000\n",
            "Read books online : 5,000,000\n",
            "English to Hindi Dictionary : 5,000,000\n",
            "Ebook Reader : 5,000,000\n",
            "Dictionary - WordWeb : 5,000,000\n",
            "Bible KJV : 5,000,000\n",
            "Ancestry : 5,000,000\n",
            "AlReader -any text book reader : 5,000,000\n",
            "Al Quran : EAlim - Translations & MP3 Offline : 5,000,000\n",
            "50000 Free eBooks & Free AudioBooks : 5,000,000\n",
            "wikiHow: how to do anything : 1,000,000\n",
            "eBoox: book reader fb2 epub zip : 1,000,000\n",
            "Stats Royale for Clash Royale : 1,000,000\n",
            "Satellite AR : 1,000,000\n",
            "ReadEra – free ebook reader : 1,000,000\n",
            "Oxford A-Z of English Usage : 1,000,000\n",
            "My Little Pony AR Guide : 1,000,000\n",
            "Koran Read &MP3 30 Juz Offline : 1,000,000\n",
            "Hafizi Quran 15 lines per page : 1,000,000\n",
            "Golden Dictionary (EN-AR) : 1,000,000\n",
            "Free Books - Spirit Fanfiction and Stories : 1,000,000\n",
            "FamilySearch Tree : 1,000,000\n",
            "English-Myanmar Dictionary : 1,000,000\n",
            "EGW Writings : 1,000,000\n",
            "Cloud of Books : 1,000,000\n",
            "Brilliant Quotes: Life, Love, Family & Motivation : 1,000,000\n",
            "Book store : 1,000,000\n",
            "All Maths Formulas : 1,000,000\n",
            "All Language Translator Free : 1,000,000\n",
            "Al Quran Al karim : 1,000,000\n",
            "Youboox - Livres, BD et magazines : 500,000\n",
            "SDA Sabbath School Quarterly : 500,000\n",
            "Recipes of Prophetic Medicine for free : 500,000\n",
            "Only 30 days in English, the guideline is guaranteed : 500,000\n",
            "Offline: English to Tagalog Dictionary : 500,000\n",
            "NOOK Audiobooks : 500,000\n",
            "NOOK App for NOOK Devices : 500,000\n",
            "Google I/O 2018 : 500,000\n",
            "Golden Dictionary (FR-AR) : 500,000\n",
            "Flybook : 500,000\n",
            "English to Urdu Dictionary : 500,000\n",
            "English Persian Dictionary : 500,000\n",
            "English Grammar Complete Handbook : 500,000\n",
            "Azpen eReader : 500,000\n",
            "Al-Quran 30 Juz free copies : 500,000\n",
            "Al Quran (Tafsir & by Word) : 500,000\n",
            "cloudLibrary : 100,000\n",
            "V Made : 100,000\n",
            "URBANO V 02 instruction manual : 100,000\n",
            "Surah Al-Waqiah : 100,000\n",
            "Sabbath School : 100,000\n",
            "Pdf Book Download - Read Pdf Book : 100,000\n",
            "Offline English Dictionary : 100,000\n",
            "Litnet - E-books : 100,000\n",
            "Hymnes et Louanges : 100,000\n",
            "How to Write CV : 100,000\n",
            "Hisnul Al Muslim - Hisn Invocations & Adhkaar : 100,000\n",
            "Guide (for X-MEN) : 100,000\n",
            "Free Panda Radio Music : 100,000\n",
            "Free Book Reader : 100,000\n",
            "English translation from Bengali : 100,000\n",
            "EGW Writings 2 : 100,000\n",
            "Download free book with green book : 100,000\n",
            "Bible with EGW Comments : 100,000\n",
            "BakaReader EX : 100,000\n",
            "Aab e Hayat Full Novel : 100,000\n",
            "eBoox new: Reader for fb2 epub zip books : 50,000\n",
            "SH-02J Owner's Manual (Android 8.0) : 50,000\n",
            "La citadelle du musulman : 50,000\n",
            "Fertilizer Removal By Crop : 50,000\n",
            "EZ Quran : 50,000\n",
            "E-Book Read - Read Book for free : 50,000\n",
            "DV 2019 - EDV Photo & Form : 50,000\n",
            "C Programs and Reference : 50,000\n",
            "C Programs Handbook : 50,000\n",
            "Bible du Semeur-BDS (French) : 50,000\n",
            "Al-Muhaffiz : 50,000\n",
            "TN Patta Citta & EC : 10,000\n",
            "R Language Reference Guide : 10,000\n",
            "Kristian Hla Bu : 10,000\n",
            "Kinot & Eichah for Tisha B'Av : 10,000\n",
            "Guide for DB Xenoverse 2 : 10,000\n",
            "Guide for DB Xenoverse : 10,000\n",
            "English To Shona Dictionary : 10,000\n",
            "Easy Cv maker 2018 : 10,000\n",
            "DV 2019 Entry Guide : 10,000\n",
            "DM Screen : 10,000\n",
            "Bulgarian French Dictionary Fr : 10,000\n",
            "Borneo Bible, BM Bible : 10,000\n",
            "Bootable Methods(USB-CD-DVD) : 10,000\n",
            "BR Ambedkar Biography & Quotes : 10,000\n",
            "BD All Sim Offer : 10,000\n",
            "B&H Kids AR : 10,000\n",
            "Ay Mohabbat Teri Khatir Novel : 10,000\n",
            "Ay Hasnain k Nana Milad Naat : 10,000\n",
            "Anonymous caller detection : 10,000\n",
            "Ag PhD Field Guide : 10,000\n",
            "Ag PhD Deficiencies : 10,000\n",
            "Ae Allah na Dai (Rasa) : 10,000\n",
            "AP Stamps and Registration : 10,000\n",
            "Learn R Programming Full : 5,000\n",
            "Learn CT Scan Of Head : 5,000\n",
            "Fanfic-FR : 5,000\n",
            "FA Part 1 & 2 Past Papers Solved Free – Offline : 5,000\n",
            "EC - AP & Telangana : 5,000\n",
            "Duaa Ek Ibaadat : 5,000\n",
            "DC HSEMA : 5,000\n",
            "CA Laws 2018 (California Laws and Codes) : 5,000\n",
            "Browsery by Barnes & Noble : 5,000\n",
            "Bilingual Dictionary Audio App : 5,000\n",
            "B y H Niños ES : 5,000\n",
            "AY Sing : 5,000\n",
            "AW Tozer Devotionals - Daily : 5,000\n",
            "AC Air condition Troubleshoot,Repair,Maintenance : 5,000\n",
            "bp e-store : 1,000\n",
            "Tozer Devotional -Series 1 : 1,000\n",
            "The SCP Foundation DB fr nn5n : 1,000\n",
            "The Pursuit of God : 1,000\n",
            "SA HLA BU : 1,000\n",
            "R Quick Reference Big Data : 1,000\n",
            "R Programing Offline Tutorial : 1,000\n",
            "Painting Lulu DC Super Friends : 1,000\n",
            "La Fe de Jesus : 1,000\n",
            "Greek Bible FP (Audio) : 1,000\n",
            "Florida Statutes (FL Code) : 1,000\n",
            "Florida - Pocket Brainbook : 1,000\n",
            "Fix Error Google Playstore : 1,000\n",
            "EU Data Protection : 1,000\n",
            "EU Charter : 1,000\n",
            "EP Research Service : 1,000\n",
            "EB Annual Meetings : 1,000\n",
            "Dr. Doug's Tips : 1,000\n",
            "DV 2018 Winners Guide : 1,000\n",
            "DC Public Library : 1,000\n",
            "D. H. Lawrence Poems FREE : 1,000\n",
            "Chemin (fr) : 1,000\n",
            "CW Nuclear : 1,000\n",
            "C Offline Tutorial : 1,000\n",
            "BM Box : 1,000\n",
            "BD Fishpedia : 1,000\n",
            "Arizona Statutes, ARS (AZ Law) : 1,000\n",
            "Ag PhD Soybean Diseases : 1,000\n",
            "Ag PhD Planting Population Calculator : 1,000\n",
            "AE Bulletins : 1,000\n",
            "SDA Collegiate Quarterly : 500\n",
            "Modlitební knížka CZ : 500\n",
            "Learn SAP BW on HANA : 500\n",
            "Learn SAP BW : 500\n",
            "Le Fe de Jesus : 500\n",
            "La Fe de Jesús : 500\n",
            "Catholic La Bu Zo Kam : 500\n",
            "MOD Black for BM : 100\n",
            "EU IP Codes : 100\n",
            "Cypress College Library : 100\n",
            "CompactiMa EC pH Calibration : 100\n",
            "BU Alsace : 100\n",
            "Anime Mod for BM : 100\n",
            "GATE 21 years CS Papers(2011-2018 Solved) : 50\n",
            "A-J Media Vault : 50\n",
            "Learn R Programming : 10\n",
            "Khrifa Hla Bu (Solfa) : 10\n",
            "Guide for IMS DB : 10\n",
            "CY Spray nozzle : 10\n",
            "Guide for R Programming : 5\n",
            "EW PDF : 5\n",
            "CZ-Help : 5\n",
            "BibleRead En Cy Zh Yue : 5\n"
          ]
        }
      ]
    },
    {
      "cell_type": "markdown",
      "metadata": {
        "id": "7UM7Ti2pKmBR"
      },
      "source": [
        "The book and reference genre includes a variety of apps: software for processing and reading ebooks, various collections of libraries, dictionaries, tutorials on programming or languages, etc. It seems there's still a small number of extremely popular apps that skew the average:"
      ]
    },
    {
      "cell_type": "code",
      "metadata": {
        "id": "otfvcb8pKmBR",
        "outputId": "a3f09c6a-5c59-4aaf-b6e0-d305837c1194"
      },
      "source": [
        "for br_app in br_android_sorted:\n",
        "    if br_app[1] >= 100000000: # >= 100'000'000\n",
        "        print(br_app[0], ': {:,}'.format(br_app[1]))"
      ],
      "execution_count": null,
      "outputs": [
        {
          "name": "stdout",
          "output_type": "stream",
          "text": [
            "Google Play Books : 1,000,000,000\n",
            "Wattpad 📖 Free Books : 100,000,000\n",
            "Bible : 100,000,000\n",
            "Audiobooks from Audible : 100,000,000\n",
            "Amazon Kindle : 100,000,000\n"
          ]
        }
      ]
    },
    {
      "cell_type": "markdown",
      "metadata": {
        "id": "4N2SVxJFKmBR"
      },
      "source": [
        "However, it looks like there are only a few very popular apps, so this market still shows potential. Let's try to get some app ideas based on the kind of apps that are somewhere in the middle in terms of popularity (between 1,000,000 and 100,000,000 downloads):"
      ]
    },
    {
      "cell_type": "code",
      "metadata": {
        "id": "2eBBoQZYKmBS",
        "outputId": "a063c178-8b96-43bc-d2be-e7e8ad8858ff"
      },
      "source": [
        "for br_app in br_android_sorted:\n",
        "    if br_app[1] >= 1000000 and br_app[1] < 100000000:\n",
        "        print(br_app[0], ': {:,}'.format(br_app[1]))"
      ],
      "execution_count": null,
      "outputs": [
        {
          "name": "stdout",
          "output_type": "stream",
          "text": [
            "Wikipedia : 10,000,000\n",
            "Spanish English Translator : 10,000,000\n",
            "Quran for Android : 10,000,000\n",
            "Oxford Dictionary of English : Free : 10,000,000\n",
            "NOOK: Read eBooks & Magazines : 10,000,000\n",
            "Moon+ Reader : 10,000,000\n",
            "JW Library : 10,000,000\n",
            "HTC Help : 10,000,000\n",
            "FBReader: Favorite Book Reader : 10,000,000\n",
            "English Hindi Dictionary : 10,000,000\n",
            "English Dictionary - Offline : 10,000,000\n",
            "Dictionary.com: Find Definitions for English Words : 10,000,000\n",
            "Dictionary - Merriam-Webster : 10,000,000\n",
            "Dictionary : 10,000,000\n",
            "Cool Reader : 10,000,000\n",
            "Aldiko Book Reader : 10,000,000\n",
            "Al-Quran (Free) : 10,000,000\n",
            "Al'Quran Bahasa Indonesia : 10,000,000\n",
            "Al Quran Indonesia : 10,000,000\n",
            "Read books online : 5,000,000\n",
            "English to Hindi Dictionary : 5,000,000\n",
            "Ebook Reader : 5,000,000\n",
            "Dictionary - WordWeb : 5,000,000\n",
            "Bible KJV : 5,000,000\n",
            "Ancestry : 5,000,000\n",
            "AlReader -any text book reader : 5,000,000\n",
            "Al Quran : EAlim - Translations & MP3 Offline : 5,000,000\n",
            "50000 Free eBooks & Free AudioBooks : 5,000,000\n",
            "wikiHow: how to do anything : 1,000,000\n",
            "eBoox: book reader fb2 epub zip : 1,000,000\n",
            "Stats Royale for Clash Royale : 1,000,000\n",
            "Satellite AR : 1,000,000\n",
            "ReadEra – free ebook reader : 1,000,000\n",
            "Oxford A-Z of English Usage : 1,000,000\n",
            "My Little Pony AR Guide : 1,000,000\n",
            "Koran Read &MP3 30 Juz Offline : 1,000,000\n",
            "Hafizi Quran 15 lines per page : 1,000,000\n",
            "Golden Dictionary (EN-AR) : 1,000,000\n",
            "Free Books - Spirit Fanfiction and Stories : 1,000,000\n",
            "FamilySearch Tree : 1,000,000\n",
            "English-Myanmar Dictionary : 1,000,000\n",
            "EGW Writings : 1,000,000\n",
            "Cloud of Books : 1,000,000\n",
            "Brilliant Quotes: Life, Love, Family & Motivation : 1,000,000\n",
            "Book store : 1,000,000\n",
            "All Maths Formulas : 1,000,000\n",
            "All Language Translator Free : 1,000,000\n",
            "Al Quran Al karim : 1,000,000\n"
          ]
        }
      ]
    },
    {
      "cell_type": "markdown",
      "metadata": {
        "id": "6HMmdR-WKmBS"
      },
      "source": [
        "This niche seems to be dominated by software for processing and reading ebooks, as well as various collections of libraries and dictionaries, so it's probably not a good idea to build similar apps since there'll be some significant competition.\n",
        "\n",
        "We also notice there are quite a few apps built around the book Quran, which suggests that building an app around a popular book can be profitable. It seems that taking a popular book (perhaps a more recent book) and turning it into an app could be profitable for both the Google Play and the App Store markets.\n",
        "\n",
        "However, it looks like the market is already full of libraries, so we need to add some special features besides the raw version of the book. This might include daily quotes from the book, an audio version of the book, quizzes on the book, a forum where people can discuss the book, etc."
      ]
    },
    {
      "cell_type": "markdown",
      "metadata": {
        "id": "S2GUO4eQKmBS"
      },
      "source": [
        "<a id='Next_Steps'></a>\n",
        "***\n",
        "## Next Steps\n",
        "\n",
        "Now, let's analyze the average `Installs` and `Rating` by `Genre` from the Google Play dataset and see if we can find any useful patterns.\n",
        "\n",
        "But before we begin, let's check the values in the `Rating` column using a frequency table."
      ]
    },
    {
      "cell_type": "code",
      "metadata": {
        "scrolled": false,
        "id": "2k7BWbBxKmBT",
        "outputId": "ad3652fd-6d9d-489b-f1c0-e13763b84b84"
      },
      "source": [
        "display_table(android_final, 2, \"Frequency table by rating - Android\")"
      ],
      "execution_count": null,
      "outputs": [
        {
          "name": "stdout",
          "output_type": "stream",
          "text": [
            "Frequency table by rating - Android\n",
            "-----------------------------------\n",
            "NaN : 14.64\n",
            "4.3 : 9.52\n",
            "4.4 : 9.28\n",
            "4.5 : 8.81\n",
            "4.2 : 8.47\n",
            "4.6 : 6.84\n",
            "4.1 : 6.68\n",
            "4.0 : 5.52\n",
            "4.7 : 4.32\n",
            "3.9 : 3.87\n",
            "3.8 : 3.01\n",
            "5.0 : 2.74\n",
            "3.7 : 2.4\n",
            "4.8 : 2.06\n",
            "3.6 : 1.77\n",
            "3.5 : 1.65\n",
            "3.4 : 1.31\n",
            "3.3 : 1.07\n",
            "4.9 : 0.89\n",
            "3.0 : 0.82\n",
            "3.1 : 0.73\n",
            "3.2 : 0.69\n",
            "2.9 : 0.44\n",
            "2.8 : 0.42\n",
            "2.6 : 0.25\n",
            "2.7 : 0.24\n",
            "2.5 : 0.21\n",
            "2.3 : 0.2\n",
            "2.4 : 0.19\n",
            "2.2 : 0.16\n",
            "1.0 : 0.16\n",
            "2.0 : 0.12\n",
            "1.9 : 0.12\n",
            "2.1 : 0.09\n",
            "1.8 : 0.08\n",
            "1.7 : 0.08\n",
            "1.6 : 0.05\n",
            "1.5 : 0.03\n",
            "1.4 : 0.03\n",
            "1.2 : 0.01\n"
          ]
        }
      ]
    },
    {
      "cell_type": "markdown",
      "metadata": {
        "id": "E8dfoqE0KmBT"
      },
      "source": [
        "Next, we calculate the average of `Rating` and `Installs` by `Genres` (we replace the values of 'NaN' with 0 in the `Rating` column)"
      ]
    },
    {
      "cell_type": "code",
      "metadata": {
        "scrolled": false,
        "id": "r1rwF87QKmBU",
        "outputId": "2613a3bb-fb90-418e-efb4-68315fefb5cc"
      },
      "source": [
        "genres_android = freq_table(android_final, -4)\n",
        "genres_installs_ratings_android = []\n",
        "\n",
        "for genre in genres_android:\n",
        "    t_installs = 0\n",
        "    t_ratings = 0\n",
        "    len_genre = 0\n",
        "    for app in android_final:\n",
        "        genre_app = app[-4]\n",
        "        if genre_app == genre:\n",
        "            n_ratings = app[2]\n",
        "            if n_ratings == 'NaN':\n",
        "                n_ratings = 0\n",
        "            n_installs = app[5]\n",
        "            n_installs = n_installs.replace('+', '')\n",
        "            n_installs = n_installs.replace(',', '')\n",
        "            t_installs += float(n_installs)\n",
        "            t_ratings += float(n_ratings)\n",
        "            len_genre += 1\n",
        "    avg_n_installs = t_installs / len_genre\n",
        "    avg_n_ratings = t_ratings / len_genre\n",
        "    genres_installs_ratings_android.append((avg_n_installs, avg_n_ratings, genre))\n",
        "\n",
        "genres_ri_android_sorted = sorted(genres_installs_ratings_android, key=lambda x: (x[0], x[1]), reverse = True)\n",
        "print(\"Genres\\t:\\tInstalls\\t:\\tRating\", \"-\" * 46, sep='\\n')\n",
        "for genre in genres_ri_android_sorted:\n",
        "    print(genre[2], ': {:,.2f}'.format(genre[0]), ': {:.2f}'.format(genre[1]))"
      ],
      "execution_count": null,
      "outputs": [
        {
          "name": "stdout",
          "output_type": "stream",
          "text": [
            "Genres\t:\tInstalls\t:\tRating\n",
            "----------------------------------------------\n",
            "Communication : 38,456,119.17 : 3.36\n",
            "Adventure;Action & Adventure : 35,333,333.33 : 4.40\n",
            "Video Players & Editors : 24,947,335.80 : 3.68\n",
            "Social : 23,253,652.13 : 3.62\n",
            "Arcade : 22,888,365.49 : 4.01\n",
            "Casual : 19,569,221.60 : 3.93\n",
            "Puzzle;Action & Adventure : 18,366,666.67 : 4.30\n",
            "Photography : 17,840,110.40 : 3.96\n",
            "Educational;Action & Adventure : 17,016,666.67 : 4.23\n",
            "Productivity : 16,787,331.34 : 3.42\n",
            "Racing : 15,910,645.68 : 3.96\n",
            "Travel & Local : 14,051,476.15 : 3.52\n",
            "Casual;Action & Adventure : 12,916,666.67 : 4.18\n",
            "Action : 12,603,588.87 : 4.13\n",
            "Strategy : 11,199,902.53 : 3.97\n",
            "Tools : 10,802,461.25 : 3.53\n",
            "Tools;Education : 10,000,000.00 : 4.50\n",
            "Card;Action & Adventure : 10,000,000.00 : 4.30\n",
            "Role Playing;Brain Games : 10,000,000.00 : 4.30\n",
            "Casual;Music & Video : 10,000,000.00 : 4.10\n",
            "Adventure;Education : 10,000,000.00 : 4.10\n",
            "Lifestyle;Pretend Play : 10,000,000.00 : 4.00\n",
            "News & Magazines : 9,549,178.47 : 3.28\n",
            "Music : 9,445,583.33 : 3.91\n",
            "Educational;Pretend Play : 9,375,000.00 : 4.30\n",
            "Puzzle;Brain Games : 9,280,666.67 : 4.33\n",
            "Word : 9,094,458.70 : 4.13\n",
            "Racing;Action & Adventure : 8,816,666.67 : 4.31\n",
            "Books & Reference : 8,767,811.89 : 3.64\n",
            "Puzzle : 8,302,861.91 : 3.61\n",
            "Video Players & Editors;Music & Video : 7,500,000.00 : 4.00\n",
            "Shopping : 7,036,877.31 : 3.78\n",
            "Role Playing;Action & Adventure : 7,000,000.00 : 4.33\n",
            "Casual;Pretend Play : 6,957,142.86 : 4.11\n",
            "Entertainment;Music & Video : 6,413,333.33 : 4.18\n",
            "Action;Action & Adventure : 5,888,888.89 : 4.29\n",
            "Entertainment : 5,602,792.78 : 3.44\n",
            "Education;Brain Games : 5,333,333.33 : 4.43\n",
            "Casual;Creativity : 5,333,333.33 : 4.35\n",
            "Role Playing;Pretend Play : 5,275,000.00 : 4.12\n",
            "Personalization : 5,201,482.61 : 3.41\n",
            "Weather : 5,074,486.20 : 3.87\n",
            "Sports;Action & Adventure : 5,050,000.00 : 4.50\n",
            "Music;Music & Video : 5,050,000.00 : 4.45\n",
            "Video Players & Editors;Creativity : 5,000,000.00 : 4.10\n",
            "Adventure : 4,922,785.33 : 3.99\n",
            "Simulation;Action & Adventure : 4,857,142.86 : 4.34\n",
            "Education;Education : 4,759,517.00 : 4.30\n",
            "Board : 4,759,209.12 : 4.02\n",
            "Sports : 4,596,842.62 : 3.35\n",
            "Educational;Brain Games : 4,433,333.33 : 4.22\n",
            "Health & Fitness : 4,188,821.99 : 3.62\n",
            "Maps & Navigation : 4,056,941.77 : 3.65\n",
            "Entertainment;Creativity : 4,000,000.00 : 4.53\n",
            "Role Playing : 3,965,645.42 : 4.13\n",
            "Card : 3,815,462.50 : 3.83\n",
            "Trivia : 3,475,712.70 : 2.93\n",
            "Simulation : 3,475,484.09 : 4.00\n",
            "Casino : 3,427,910.53 : 4.05\n",
            "Entertainment;Brain Games : 3,314,285.71 : 4.30\n",
            "Arcade;Action & Adventure : 3,190,909.18 : 4.00\n",
            "Board;Action & Adventure : 3,000,000.00 : 4.05\n",
            "Entertainment;Pretend Play : 3,000,000.00 : 4.00\n",
            "Education;Creativity : 2,875,000.00 : 4.38\n",
            "Educational;Creativity : 2,333,333.33 : 4.20\n",
            "Entertainment;Action & Adventure : 2,333,333.33 : 4.20\n",
            "Art & Design : 2,122,850.94 : 4.17\n",
            "Education;Music & Video : 2,033,333.33 : 4.13\n",
            "Food & Drink : 1,924,897.74 : 3.49\n",
            "Education;Pretend Play : 1,800,000.00 : 4.10\n",
            "Educational;Education : 1,737,143.14 : 3.98\n",
            "Business : 1,712,290.15 : 2.55\n",
            "Casual;Brain Games : 1,425,916.67 : 4.47\n",
            "Lifestyle : 1,412,998.34 : 3.29\n",
            "Finance : 1,387,692.48 : 3.64\n",
            "House & Home : 1,331,540.56 : 3.46\n",
            "Parenting;Music & Video : 1,118,333.33 : 4.33\n",
            "Strategy;Action & Adventure : 1,000,000.00 : 4.60\n",
            "Arcade;Pretend Play : 1,000,000.00 : 4.50\n",
            "Racing;Pretend Play : 1,000,000.00 : 4.50\n",
            "Entertainment;Education : 1,000,000.00 : 4.40\n",
            "Strategy;Creativity : 1,000,000.00 : 4.40\n",
            "Education;Action & Adventure : 1,000,000.00 : 4.27\n",
            "Casual;Education : 1,000,000.00 : 4.25\n",
            "Health & Fitness;Action & Adventure : 1,000,000.00 : 3.90\n",
            "Parenting;Brain Games : 1,000,000.00 : 3.80\n",
            "Dating : 854,028.83 : 3.16\n",
            "Comics : 831,873.15 : 4.01\n",
            "Puzzle;Creativity : 750,000.00 : 4.40\n",
            "Auto & Vehicles : 647,317.82 : 3.67\n",
            "Libraries & Demo : 638,503.73 : 3.22\n",
            "Education : 550,185.44 : 3.70\n",
            "Simulation;Pretend Play : 550,000.00 : 4.55\n",
            "Beauty : 513,151.89 : 3.39\n",
            "Strategy;Education : 500,000.00 : 4.50\n",
            "Music & Audio;Music & Video : 500,000.00 : 4.30\n",
            "Communication;Creativity : 500,000.00 : 4.20\n",
            "Art & Design;Pretend Play : 500,000.00 : 3.90\n",
            "Parenting : 467,977.50 : 3.79\n",
            "Parenting;Education : 452,857.14 : 1.66\n",
            "Educational : 411,184.85 : 3.55\n",
            "Board;Brain Games : 407,142.86 : 4.23\n",
            "Art & Design;Creativity : 285,000.00 : 4.35\n",
            "Events : 253,542.22 : 3.17\n",
            "Medical : 120,550.62 : 3.02\n",
            "Health & Fitness;Education : 100,000.00 : 4.70\n",
            "Puzzle;Education : 100,000.00 : 4.60\n",
            "Lifestyle;Education : 100,000.00 : 4.30\n",
            "Travel & Local;Action & Adventure : 100,000.00 : 4.10\n",
            "Art & Design;Action & Adventure : 100,000.00 : 0.00\n",
            "Comics;Creativity : 50,000.00 : 4.80\n",
            "Books & Reference;Education : 1,000.00 : 3.70\n",
            "Simulation;Education : 500.00 : 4.40\n",
            "Trivia;Education : 100.00 : 0.00\n"
          ]
        }
      ]
    },
    {
      "cell_type": "markdown",
      "metadata": {
        "id": "rT9wlu-JKmBU"
      },
      "source": [
        "Let us remember that the genres with the highest average installations and rating (communication, video players, social, video games, etc.) are already dominated by giants such as WhatsApp, Facebook, YouTube, etc. with which it would be very difficult to compete.\n",
        "\n",
        "If we focus on a genre similar to **Books and reference works** which registers an average of 8,767,811.89 installations and an average rating of 3.64, we find the genre **Comic** which has an average of 831,873.15 installations and a average rating of 4.01."
      ]
    },
    {
      "cell_type": "code",
      "metadata": {
        "scrolled": false,
        "id": "WLHs_03kKmBV",
        "outputId": "f0e58bb9-b5dd-4216-cc5c-dac430ddeceb"
      },
      "source": [
        "comic_android = []\n",
        "\n",
        "for app in android_final:\n",
        "    if app[-4] == 'Comics':\n",
        "        rating = app[2]\n",
        "        if rating == 'NaN':\n",
        "            rating = 0\n",
        "        n_installs = app[5]\n",
        "        n_installs = n_installs.replace('+', '')\n",
        "        n_installs = n_installs.replace(',', '')\n",
        "        comic_android.append((app[0], int(n_installs), float(rating)))\n",
        "\n",
        "comic_android_sorted = sorted(comic_android, key=lambda x: (x[2], x[1]), reverse=True)\n",
        "print(\"Comic App\\t:\\tInstalls\\t:\\tRating\", \"-\" * 54, sep='\\n')\n",
        "for app in comic_android_sorted:\n",
        "    print(app[0], ': {:,}'.format(app[1]), ':', app[2])"
      ],
      "execution_count": null,
      "outputs": [
        {
          "name": "stdout",
          "output_type": "stream",
          "text": [
            "Comic App\t:\tInstalls\t:\tRating\n",
            "------------------------------------------------------\n",
            "Superheroes, Marvel, DC, Comics, TV, Movies News : 5,000 : 5.0\n",
            "Hojiboy Tojiboyev Life Hacks : 1,000 : 5.0\n",
            "WebComics : 1,000,000 : 4.8\n",
            "GANMA! - All original stories free of charge for all original comics : 1,000,000 : 4.7\n",
            "Röhrich Werner Soundboard : 500,000 : 4.7\n",
            "Faustop Sounds : 100,000 : 4.7\n",
            "Dragon Ball Wallpaper - Ringtones : 10,000 : 4.7\n",
            "Best Wallpapers Backgrounds(100,000+ 4K HD) : 10,000 : 4.7\n",
            "Manga Master - Best manga & comic reader : 500,000 : 4.6\n",
            "Children's cartoons (Mithu-Mina-Raju) : 100,000 : 4.6\n",
            "Laftel - Watching and Announcing Snooping, Streaming : 100,000 : 4.6\n",
            "Manga - read Thai translation : 10,000 : 4.6\n",
            "LINE WEBTOON - Free Comics : 10,000,000 : 4.5\n",
            "Narrator's Voice : 5,000,000 : 4.5\n",
            "Tapas – Comics, Novels, and Stories : 1,000,000 : 4.5\n",
            "Buff Thun - Daily Free Webtoon / Comics / Web Fiction / Mini Game : 500,000 : 4.5\n",
            "Emmanuella Funny Videos 2018 : 100,000 : 4.5\n",
            "The Vietnam Story - Fun Stories : 10,000 : 4.5\n",
            "Truyện Vui Tý Quậy : 10,000 : 4.5\n",
            "Perfect Viewer : 5,000,000 : 4.4\n",
            "Manga Rock - Best Manga Reader : 1,000,000 : 4.4\n",
            "pixiv comic - everyone's manga app : 1,000,000 : 4.4\n",
            "Memes Button : 1,000,000 : 4.4\n",
            "Q Avatar (Avatar Maker) : 100,000 : 4.4\n",
            "think Comics : 50,000 : 4.4\n",
            "Funny Jokes Photos : 10,000 : 4.4\n",
            "Manga Mania - Best online manga reader : 10,000 : 4.4\n",
            "CJ - BR MEMES : 10,000 : 4.3\n",
            "Manga Zero - Japanese cartoon and comic reader : 1,000,000 : 4.2\n",
            "DC Comics : 1,000,000 : 4.2\n",
            "Funny Jokes and Stories 2018 : 5,000 : 4.2\n",
            "Comics : 5,000,000 : 4.1\n",
            "漫咖 Comics - Manga,Novel and Stories : 1,000,000 : 4.1\n",
            "Manga Net – Best Online Manga Reader : 50,000 : 4.1\n",
            "Ba dum tss - Rimshot widget : 50,000 : 4.1\n",
            "Make your Be Like Bill : 5,000 : 4.0\n",
            "Comic Es - Shojo manga / love comics free of charge ♪ ♪ : 100,000 : 3.9\n",
            "Comics Reader : 100,000 : 3.9\n",
            "MangaToon - Comics updated Daily : 50,000 : 3.9\n",
            "Manga Books : 500,000 : 3.8\n",
            "Archie Comics : 100,000 : 3.8\n",
            "Marvel Unlimited : 1,000,000 : 3.7\n",
            "2000 AD Comics and Judge Dredd : 50,000 : 3.7\n",
            "TappyToon Comics & Webtoons : 100,000 : 3.5\n",
            "- Free Comics - Comic Apps : 10,000 : 3.5\n",
            "Manga-FR - Anime Vostfr : 10,000 : 3.4\n",
            "Izneo, Read Manga, Comics & BD : 500,000 : 3.3\n",
            "Manga AZ - Manga Comic Reader : 5,000 : 3.3\n",
            "comico Popular Original Cartoon Updated Everyday Comico : 5,000,000 : 3.2\n",
            "Daily Manga - Comic & Webtoon : 100,000 : 3.2\n",
            "Lezhin Comics - Daily Releases : 1,000,000 : 3.0\n",
            "AF Comics Reader - Free : 100 : 2.8\n",
            "【Ranobbe complete free】 Novelba - Free app that you can read and write novels : 50,000 : 0.0\n",
            "Pepsi Cards DC : 50 : 0.0\n"
          ]
        }
      ]
    },
    {
      "cell_type": "markdown",
      "metadata": {
        "id": "MO32NxLBKmBV"
      },
      "source": [
        "We note that there are some apps that have the highest rating. However, they only fit into a single genre. The interesting thing here is that an app can be included in more than one genre and can even open a new niche that does not yet exist.\n",
        "\n",
        "This new niche could be the combination of the 'Comic' and 'Books & Reference' genres that would result in a kind of 'Graphic Novel', as there are certain similarities between books and comics.\n",
        "\n",
        "Similar to a book app, the graphic novel can be turned into an appl; always keeping in mind that special features must be added to the raw version.\n",
        "\n",
        "Additional features could be implemented that may be available to premium users in the app.\n",
        "\n",
        "*In the case of the App Store, it would fall into the 'Book' category, which registers a frequency of 0.43% (not very competitive)*"
      ]
    },
    {
      "cell_type": "markdown",
      "metadata": {
        "id": "m5jXN4HKKmBV"
      },
      "source": [
        "***\n",
        "## Conclusions\n",
        "\n",
        "In this project, we analyze data in the App Store and Google Play mobile apps in order to recommend an app profile that can be profitable for both markets.\n",
        "\n",
        "We concluded that taking a popular book (maybe a newer book) or popular graphic novel and turning it into an app could be profitable for the Google Play and App Store markets. The markets are already full of libraries, so it is recommended to add some special features in addition to the raw version of the book or graphic novel.\n",
        "\n",
        "In addition, extra features can be added that may be available to premium users in the application."
      ]
    }
  ]
}