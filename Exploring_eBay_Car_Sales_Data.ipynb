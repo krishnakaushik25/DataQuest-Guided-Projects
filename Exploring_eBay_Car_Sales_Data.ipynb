{
  "nbformat": 4,
  "nbformat_minor": 0,
  "metadata": {
    "kernelspec": {
      "display_name": "Python 3",
      "language": "python",
      "name": "python3"
    },
    "language_info": {
      "codemirror_mode": {
        "name": "ipython",
        "version": 3
      },
      "file_extension": ".py",
      "mimetype": "text/x-python",
      "name": "python",
      "nbconvert_exporter": "python",
      "pygments_lexer": "ipython3",
      "version": "3.8.2"
    },
    "colab": {
      "name": "Exploring_eBay_Car_Sales_Data.ipynb",
      "provenance": [],
      "include_colab_link": true
    }
  },
  "cells": [
    {
      "cell_type": "markdown",
      "metadata": {
        "id": "view-in-github",
        "colab_type": "text"
      },
      "source": [
        "<a href=\"https://colab.research.google.com/github/krishnakaushik25/DataQuest-Guided-Projects/blob/main/Exploring_eBay_Car_Sales_Data.ipynb\" target=\"_parent\"><img src=\"https://colab.research.google.com/assets/colab-badge.svg\" alt=\"Open In Colab\"/></a>"
      ]
    },
    {
      "cell_type": "markdown",
      "metadata": {
        "collapsed": true,
        "id": "CPH5YGlLLQT2"
      },
      "source": [
        "# Exploring eBay Used Car Sales Data\n",
        "\n",
        "***\n",
        "## Introduction\n",
        "\n",
        "In this project, we'll be working on a dataset of used cars from eBay Kleinanzeigen, a [classifieds](https://en.wikipedia.org/wiki/Classified_advertising) section of the German eBay website.\n",
        "\n",
        "The version of the dataset we are working with is a sample of 50,000 data points that was prepared by [Dataquest](https://www.dataquest.io/) including simulating a less-cleaned version of the data.\n",
        "\n",
        "> *You can find the original dataset [here](https://data.world/data-society/used-cars-data).*\n",
        "\n",
        "The data dictionary provided with data is as follows:\n",
        "\n",
        "* `dateCrawled` - When this ad was first crawled. All field-values are taken from this date.\n",
        "* `name` - Name of the car.\n",
        "* `seller` - Whether the seller is private or a dealer.\n",
        "* `offerType` - The type of listing\n",
        "* `price` - The price on the ad to sell the car.\n",
        "* `abtest` - Whether the listing is included in an A/B test.\n",
        "* `vehicleType` - The vehicle Type.\n",
        "* `yearOfRegistration` - The year in which which year the car was first registered.\n",
        "* `gearbox` - The transmission type.\n",
        "* `powerPS` - The power of the car in PS.\n",
        "* `model` - The car model name.\n",
        "* `kilometer` - How many kilometers the car has driven.\n",
        "* `monthOfRegistration` - The month in which which year the car was first registered.\n",
        "* `fuelType` - What type of fuel the car uses.\n",
        "* `brand` - The brand of the car.\n",
        "* `notRepairedDamage` - If the car has a damage which is not yet repaired.\n",
        "* `dateCreated` - The date on which the eBay listing was created.\n",
        "* `nrOfPictures` - The number of pictures in the ad.\n",
        "* `postalCode` - The postal code for the location of the vehicle.\n",
        "* `lastSeenOnline` - When the crawler saw this ad last online.\n",
        "\n",
        "### Goals\n",
        "\n",
        "- Determine which are the main brands. In addition, check in the set if there is a relationship between the average mileage and the average price.\n",
        "- Find the most common `brand/model` combinations.\n",
        "- Determine if average prices follow any pattern based on mileage.\n",
        "- How much cheaper are cars with **damage** than their **non-damaged** counterparts?\n",
        "\n",
        "\n",
        "### Summary of Results\n",
        "\n",
        "Average **mileage / price ratio** on major car brands.\n",
        "\n",
        "| Main brands | Mean Mileage | Mean Price |\n",
        "|-------------|--------------|------------|\n",
        "| bmw | 132,572 | 8,332 |\n",
        "| mercedes_benz | 130,788 | 8,628 |\n",
        "| opel | 129,310 | 2,975 |\n",
        "| audi | 129,157 | 9,336 |\n",
        "| volkswagen | 128,707 | 5,402 |\n",
        "| ford | 124,266 | 3,749 |\n",
        "\n",
        "\n",
        "Top 10 - Most common `brand/model` combinations.\n",
        "\n",
        "| Position | Brand | Model | Frequency (%) |\n",
        "|----------|-------|-------|---------------|\n",
        "| 1 | volkswagen | golf | 7.94 |\n",
        "| 2 | bmw | 3er | 5.60 |\n",
        "| 3 | volkswagen | polo | 3.45 |\n",
        "| 4 | opel | corsa | 3.41 |\n",
        "| 5 | volkswagen | passat | 2.89 |\n",
        "| 6 | opel | astra | 2.89 |\n",
        "| 7 | audi | a4 | 2.64 |\n",
        "| 8 | mercedes_benz | c_klasse | 2.43 |\n",
        "| 9 | bmw | 5er | 2.42 |\n",
        "| 10 | mercedes_benz | e_klasse | 2.05 |\n",
        "\n",
        "\n",
        "Average price based on data grouped by mileage.\n",
        "\n",
        "| Class N° | Odometer Km | Frequency | AVG Mileage | AVG Price |\n",
        "|----------|-------------|-----------|-------------|-----------|\n",
        "| 1 | (4999.999, 13530.0] | 1,026 | 6,174 | 11,616 |\n",
        "| 2 | (13530.0,\t22060.0] | 742 | 20,000 | 18,448 |\n",
        "| 3 | (22060.0,\t30590.0] | 760 | 30,000 | 16,608 |\n",
        "| 4 | (30590.0,\t39120.0] | 0 | 0 | 0 |\n",
        "| 5 | (39120.0,\t47650.0] | 797 | 40,000 | 15,499 |\n",
        "| 6 | (47650.0,\t56180.0] | 993 | 50,000 | 13,812 |\n",
        "| 7 | (56180.0,\t64710.0] | 1,128 | 60,000 | 12,385 |\n",
        "| 8 | (64710.0,\t73240.0] | 1,187 | 70,000 | 10,927 |\n",
        "| 9 | (73240.0,\t81770.0] | 1,375 | 80,000 | 9,721 |\n",
        "| 10 | (81770.0, 90300.0] | 1,673 | 90,000 | 8,465 |\n",
        "| 11 | (90300.0, 98830.0] | 0 | 0 | 0 |\n",
        "| 12 | (98830.0, 107360.0] | 2,058 | 100,000 | 8,132 |\n",
        "| 13 | (107360.0, 115890.0] | 0 | 0 | 0 |\n",
        "| 14 | (115890.0, 124420.0] | 0 | 0 | 0 |\n",
        "| 15 | (124420.0, 132950.0] | 4,857 | 125,000 | 6,214 |\n",
        "| 16 | (132950.0, 141480.0] | 0 | 0 | 0 |\n",
        "| 17 | (141480.0, 150010.0] | 30,085 | 150,000 | 3,767 |\n",
        "\n",
        "\n",
        "Average price on cars with repaired damage and their unrepaired counterparts.\n",
        "\n",
        "| Unrepaired Damage | AVG Price |\n",
        "|-------------------|-----------|\n",
        "| No | 7,164 |\n",
        "| Yes | 2,241 |\n",
        "\n",
        "***\n",
        "## Initial exploration of the data set\n",
        "\n",
        "Let's start by importing the libraries we need and reading the dataset into pandas."
      ]
    },
    {
      "cell_type": "code",
      "metadata": {
        "id": "_rpJTjR6LQUL"
      },
      "source": [
        "import numpy as np\n",
        "import pandas as pd"
      ],
      "execution_count": null,
      "outputs": []
    },
    {
      "cell_type": "code",
      "metadata": {
        "id": "TgP9wsXkLQUO",
        "outputId": "c3e66e25-df4c-4255-c8c0-d757698ea1cf"
      },
      "source": [
        "autos = pd.read_csv('autos.csv', encoding='Latin-1')\n",
        "\n",
        "autos.info()"
      ],
      "execution_count": null,
      "outputs": [
        {
          "name": "stdout",
          "output_type": "stream",
          "text": [
            "<class 'pandas.core.frame.DataFrame'>\n",
            "RangeIndex: 50000 entries, 0 to 49999\n",
            "Data columns (total 20 columns):\n",
            " #   Column               Non-Null Count  Dtype \n",
            "---  ------               --------------  ----- \n",
            " 0   dateCrawled          50000 non-null  object\n",
            " 1   name                 50000 non-null  object\n",
            " 2   seller               50000 non-null  object\n",
            " 3   offerType            50000 non-null  object\n",
            " 4   price                50000 non-null  object\n",
            " 5   abtest               50000 non-null  object\n",
            " 6   vehicleType          44905 non-null  object\n",
            " 7   yearOfRegistration   50000 non-null  int64 \n",
            " 8   gearbox              47320 non-null  object\n",
            " 9   powerPS              50000 non-null  int64 \n",
            " 10  model                47242 non-null  object\n",
            " 11  odometer             50000 non-null  object\n",
            " 12  monthOfRegistration  50000 non-null  int64 \n",
            " 13  fuelType             45518 non-null  object\n",
            " 14  brand                50000 non-null  object\n",
            " 15  notRepairedDamage    40171 non-null  object\n",
            " 16  dateCreated          50000 non-null  object\n",
            " 17  nrOfPictures         50000 non-null  int64 \n",
            " 18  postalCode           50000 non-null  int64 \n",
            " 19  lastSeen             50000 non-null  object\n",
            "dtypes: int64(5), object(15)\n",
            "memory usage: 7.6+ MB\n"
          ]
        }
      ]
    },
    {
      "cell_type": "code",
      "metadata": {
        "id": "wMNvnoOmLQUP",
        "outputId": "936aa6c9-7ac9-4e9d-ef68-97ee952f0f25"
      },
      "source": [
        "autos.head()"
      ],
      "execution_count": null,
      "outputs": [
        {
          "data": {
            "text/html": [
              "<div>\n",
              "<style scoped>\n",
              "    .dataframe tbody tr th:only-of-type {\n",
              "        vertical-align: middle;\n",
              "    }\n",
              "\n",
              "    .dataframe tbody tr th {\n",
              "        vertical-align: top;\n",
              "    }\n",
              "\n",
              "    .dataframe thead th {\n",
              "        text-align: right;\n",
              "    }\n",
              "</style>\n",
              "<table border=\"1\" class=\"dataframe\">\n",
              "  <thead>\n",
              "    <tr style=\"text-align: right;\">\n",
              "      <th></th>\n",
              "      <th>dateCrawled</th>\n",
              "      <th>name</th>\n",
              "      <th>seller</th>\n",
              "      <th>offerType</th>\n",
              "      <th>price</th>\n",
              "      <th>abtest</th>\n",
              "      <th>vehicleType</th>\n",
              "      <th>yearOfRegistration</th>\n",
              "      <th>gearbox</th>\n",
              "      <th>powerPS</th>\n",
              "      <th>model</th>\n",
              "      <th>odometer</th>\n",
              "      <th>monthOfRegistration</th>\n",
              "      <th>fuelType</th>\n",
              "      <th>brand</th>\n",
              "      <th>notRepairedDamage</th>\n",
              "      <th>dateCreated</th>\n",
              "      <th>nrOfPictures</th>\n",
              "      <th>postalCode</th>\n",
              "      <th>lastSeen</th>\n",
              "    </tr>\n",
              "  </thead>\n",
              "  <tbody>\n",
              "    <tr>\n",
              "      <th>0</th>\n",
              "      <td>2016-03-26 17:47:46</td>\n",
              "      <td>Peugeot_807_160_NAVTECH_ON_BOARD</td>\n",
              "      <td>privat</td>\n",
              "      <td>Angebot</td>\n",
              "      <td>$5,000</td>\n",
              "      <td>control</td>\n",
              "      <td>bus</td>\n",
              "      <td>2004</td>\n",
              "      <td>manuell</td>\n",
              "      <td>158</td>\n",
              "      <td>andere</td>\n",
              "      <td>150,000km</td>\n",
              "      <td>3</td>\n",
              "      <td>lpg</td>\n",
              "      <td>peugeot</td>\n",
              "      <td>nein</td>\n",
              "      <td>2016-03-26 00:00:00</td>\n",
              "      <td>0</td>\n",
              "      <td>79588</td>\n",
              "      <td>2016-04-06 06:45:54</td>\n",
              "    </tr>\n",
              "    <tr>\n",
              "      <th>1</th>\n",
              "      <td>2016-04-04 13:38:56</td>\n",
              "      <td>BMW_740i_4_4_Liter_HAMANN_UMBAU_Mega_Optik</td>\n",
              "      <td>privat</td>\n",
              "      <td>Angebot</td>\n",
              "      <td>$8,500</td>\n",
              "      <td>control</td>\n",
              "      <td>limousine</td>\n",
              "      <td>1997</td>\n",
              "      <td>automatik</td>\n",
              "      <td>286</td>\n",
              "      <td>7er</td>\n",
              "      <td>150,000km</td>\n",
              "      <td>6</td>\n",
              "      <td>benzin</td>\n",
              "      <td>bmw</td>\n",
              "      <td>nein</td>\n",
              "      <td>2016-04-04 00:00:00</td>\n",
              "      <td>0</td>\n",
              "      <td>71034</td>\n",
              "      <td>2016-04-06 14:45:08</td>\n",
              "    </tr>\n",
              "    <tr>\n",
              "      <th>2</th>\n",
              "      <td>2016-03-26 18:57:24</td>\n",
              "      <td>Volkswagen_Golf_1.6_United</td>\n",
              "      <td>privat</td>\n",
              "      <td>Angebot</td>\n",
              "      <td>$8,990</td>\n",
              "      <td>test</td>\n",
              "      <td>limousine</td>\n",
              "      <td>2009</td>\n",
              "      <td>manuell</td>\n",
              "      <td>102</td>\n",
              "      <td>golf</td>\n",
              "      <td>70,000km</td>\n",
              "      <td>7</td>\n",
              "      <td>benzin</td>\n",
              "      <td>volkswagen</td>\n",
              "      <td>nein</td>\n",
              "      <td>2016-03-26 00:00:00</td>\n",
              "      <td>0</td>\n",
              "      <td>35394</td>\n",
              "      <td>2016-04-06 20:15:37</td>\n",
              "    </tr>\n",
              "    <tr>\n",
              "      <th>3</th>\n",
              "      <td>2016-03-12 16:58:10</td>\n",
              "      <td>Smart_smart_fortwo_coupe_softouch/F1/Klima/Pan...</td>\n",
              "      <td>privat</td>\n",
              "      <td>Angebot</td>\n",
              "      <td>$4,350</td>\n",
              "      <td>control</td>\n",
              "      <td>kleinwagen</td>\n",
              "      <td>2007</td>\n",
              "      <td>automatik</td>\n",
              "      <td>71</td>\n",
              "      <td>fortwo</td>\n",
              "      <td>70,000km</td>\n",
              "      <td>6</td>\n",
              "      <td>benzin</td>\n",
              "      <td>smart</td>\n",
              "      <td>nein</td>\n",
              "      <td>2016-03-12 00:00:00</td>\n",
              "      <td>0</td>\n",
              "      <td>33729</td>\n",
              "      <td>2016-03-15 03:16:28</td>\n",
              "    </tr>\n",
              "    <tr>\n",
              "      <th>4</th>\n",
              "      <td>2016-04-01 14:38:50</td>\n",
              "      <td>Ford_Focus_1_6_Benzin_TÜV_neu_ist_sehr_gepfleg...</td>\n",
              "      <td>privat</td>\n",
              "      <td>Angebot</td>\n",
              "      <td>$1,350</td>\n",
              "      <td>test</td>\n",
              "      <td>kombi</td>\n",
              "      <td>2003</td>\n",
              "      <td>manuell</td>\n",
              "      <td>0</td>\n",
              "      <td>focus</td>\n",
              "      <td>150,000km</td>\n",
              "      <td>7</td>\n",
              "      <td>benzin</td>\n",
              "      <td>ford</td>\n",
              "      <td>nein</td>\n",
              "      <td>2016-04-01 00:00:00</td>\n",
              "      <td>0</td>\n",
              "      <td>39218</td>\n",
              "      <td>2016-04-01 14:38:50</td>\n",
              "    </tr>\n",
              "  </tbody>\n",
              "</table>\n",
              "</div>"
            ],
            "text/plain": [
              "           dateCrawled                                               name  \\\n",
              "0  2016-03-26 17:47:46                   Peugeot_807_160_NAVTECH_ON_BOARD   \n",
              "1  2016-04-04 13:38:56         BMW_740i_4_4_Liter_HAMANN_UMBAU_Mega_Optik   \n",
              "2  2016-03-26 18:57:24                         Volkswagen_Golf_1.6_United   \n",
              "3  2016-03-12 16:58:10  Smart_smart_fortwo_coupe_softouch/F1/Klima/Pan...   \n",
              "4  2016-04-01 14:38:50  Ford_Focus_1_6_Benzin_TÜV_neu_ist_sehr_gepfleg...   \n",
              "\n",
              "   seller offerType   price   abtest vehicleType  yearOfRegistration  \\\n",
              "0  privat   Angebot  $5,000  control         bus                2004   \n",
              "1  privat   Angebot  $8,500  control   limousine                1997   \n",
              "2  privat   Angebot  $8,990     test   limousine                2009   \n",
              "3  privat   Angebot  $4,350  control  kleinwagen                2007   \n",
              "4  privat   Angebot  $1,350     test       kombi                2003   \n",
              "\n",
              "     gearbox  powerPS   model   odometer  monthOfRegistration fuelType  \\\n",
              "0    manuell      158  andere  150,000km                    3      lpg   \n",
              "1  automatik      286     7er  150,000km                    6   benzin   \n",
              "2    manuell      102    golf   70,000km                    7   benzin   \n",
              "3  automatik       71  fortwo   70,000km                    6   benzin   \n",
              "4    manuell        0   focus  150,000km                    7   benzin   \n",
              "\n",
              "        brand notRepairedDamage          dateCreated  nrOfPictures  \\\n",
              "0     peugeot              nein  2016-03-26 00:00:00             0   \n",
              "1         bmw              nein  2016-04-04 00:00:00             0   \n",
              "2  volkswagen              nein  2016-03-26 00:00:00             0   \n",
              "3       smart              nein  2016-03-12 00:00:00             0   \n",
              "4        ford              nein  2016-04-01 00:00:00             0   \n",
              "\n",
              "   postalCode             lastSeen  \n",
              "0       79588  2016-04-06 06:45:54  \n",
              "1       71034  2016-04-06 14:45:08  \n",
              "2       35394  2016-04-06 20:15:37  \n",
              "3       33729  2016-03-15 03:16:28  \n",
              "4       39218  2016-04-01 14:38:50  "
            ]
          },
          "execution_count": 3,
          "metadata": {},
          "output_type": "execute_result"
        }
      ]
    },
    {
      "cell_type": "markdown",
      "metadata": {
        "id": "QY3ydTrHLQUQ"
      },
      "source": [
        "**Observations:**\n",
        "\n",
        "* The dataset consists of 50,000 rows and 20 columns.\n",
        "* We see that some columns contain null values but none have more than 19.7% null values.\n",
        "* Some columns contain dates stored as strings.\n",
        "\n",
        "We'll modify the column names to make working with the data easier.\n",
        "\n",
        "***\n",
        "## Cleaning Column Names\n",
        "\n",
        "We will print an array with the names of the columns in the dataset."
      ]
    },
    {
      "cell_type": "code",
      "metadata": {
        "id": "RZeOfHNtLQUT",
        "outputId": "2d18d5d8-29ef-46bf-856f-12e5e57356ed"
      },
      "source": [
        "print(autos.columns)"
      ],
      "execution_count": null,
      "outputs": [
        {
          "name": "stdout",
          "output_type": "stream",
          "text": [
            "Index(['dateCrawled', 'name', 'seller', 'offerType', 'price', 'abtest',\n",
            "       'vehicleType', 'yearOfRegistration', 'gearbox', 'powerPS', 'model',\n",
            "       'odometer', 'monthOfRegistration', 'fuelType', 'brand',\n",
            "       'notRepairedDamage', 'dateCreated', 'nrOfPictures', 'postalCode',\n",
            "       'lastSeen'],\n",
            "      dtype='object')\n"
          ]
        }
      ]
    },
    {
      "cell_type": "markdown",
      "metadata": {
        "id": "mU4lA_6iLQUU"
      },
      "source": [
        "We'll change the style of the column names from [camelcase](https://en.wikipedia.org/wiki/Camel_case) to [snakecase](https://en.wikipedia.org/wiki/Snake_case) and also modify some words to more accurately describe the columns."
      ]
    },
    {
      "cell_type": "code",
      "metadata": {
        "id": "R_Y7GkUQLQUU",
        "outputId": "93ee4a48-640e-46d2-88d2-24d1287fde8b"
      },
      "source": [
        "# Modifying column names\n",
        "autos.columns = ['date_crawled', 'name', 'seller', 'offer_type', 'price', 'ab_test',\n",
        "                'vehicle_type', 'registration_year', 'gearbox', 'power_ps', 'model',\n",
        "                'odometer', 'registration_month', 'fuel_type', 'brand',\n",
        "                'unrepaired_damage', 'ad_created', 'num_photos', 'postal_code',\n",
        "                'last_seen']\n",
        "\n",
        "autos.head()"
      ],
      "execution_count": null,
      "outputs": [
        {
          "data": {
            "text/html": [
              "<div>\n",
              "<style scoped>\n",
              "    .dataframe tbody tr th:only-of-type {\n",
              "        vertical-align: middle;\n",
              "    }\n",
              "\n",
              "    .dataframe tbody tr th {\n",
              "        vertical-align: top;\n",
              "    }\n",
              "\n",
              "    .dataframe thead th {\n",
              "        text-align: right;\n",
              "    }\n",
              "</style>\n",
              "<table border=\"1\" class=\"dataframe\">\n",
              "  <thead>\n",
              "    <tr style=\"text-align: right;\">\n",
              "      <th></th>\n",
              "      <th>date_crawled</th>\n",
              "      <th>name</th>\n",
              "      <th>seller</th>\n",
              "      <th>offer_type</th>\n",
              "      <th>price</th>\n",
              "      <th>ab_test</th>\n",
              "      <th>vehicle_type</th>\n",
              "      <th>registration_year</th>\n",
              "      <th>gearbox</th>\n",
              "      <th>power_ps</th>\n",
              "      <th>model</th>\n",
              "      <th>odometer</th>\n",
              "      <th>registration_month</th>\n",
              "      <th>fuel_type</th>\n",
              "      <th>brand</th>\n",
              "      <th>unrepaired_damage</th>\n",
              "      <th>ad_created</th>\n",
              "      <th>num_photos</th>\n",
              "      <th>postal_code</th>\n",
              "      <th>last_seen</th>\n",
              "    </tr>\n",
              "  </thead>\n",
              "  <tbody>\n",
              "    <tr>\n",
              "      <th>0</th>\n",
              "      <td>2016-03-26 17:47:46</td>\n",
              "      <td>Peugeot_807_160_NAVTECH_ON_BOARD</td>\n",
              "      <td>privat</td>\n",
              "      <td>Angebot</td>\n",
              "      <td>$5,000</td>\n",
              "      <td>control</td>\n",
              "      <td>bus</td>\n",
              "      <td>2004</td>\n",
              "      <td>manuell</td>\n",
              "      <td>158</td>\n",
              "      <td>andere</td>\n",
              "      <td>150,000km</td>\n",
              "      <td>3</td>\n",
              "      <td>lpg</td>\n",
              "      <td>peugeot</td>\n",
              "      <td>nein</td>\n",
              "      <td>2016-03-26 00:00:00</td>\n",
              "      <td>0</td>\n",
              "      <td>79588</td>\n",
              "      <td>2016-04-06 06:45:54</td>\n",
              "    </tr>\n",
              "    <tr>\n",
              "      <th>1</th>\n",
              "      <td>2016-04-04 13:38:56</td>\n",
              "      <td>BMW_740i_4_4_Liter_HAMANN_UMBAU_Mega_Optik</td>\n",
              "      <td>privat</td>\n",
              "      <td>Angebot</td>\n",
              "      <td>$8,500</td>\n",
              "      <td>control</td>\n",
              "      <td>limousine</td>\n",
              "      <td>1997</td>\n",
              "      <td>automatik</td>\n",
              "      <td>286</td>\n",
              "      <td>7er</td>\n",
              "      <td>150,000km</td>\n",
              "      <td>6</td>\n",
              "      <td>benzin</td>\n",
              "      <td>bmw</td>\n",
              "      <td>nein</td>\n",
              "      <td>2016-04-04 00:00:00</td>\n",
              "      <td>0</td>\n",
              "      <td>71034</td>\n",
              "      <td>2016-04-06 14:45:08</td>\n",
              "    </tr>\n",
              "    <tr>\n",
              "      <th>2</th>\n",
              "      <td>2016-03-26 18:57:24</td>\n",
              "      <td>Volkswagen_Golf_1.6_United</td>\n",
              "      <td>privat</td>\n",
              "      <td>Angebot</td>\n",
              "      <td>$8,990</td>\n",
              "      <td>test</td>\n",
              "      <td>limousine</td>\n",
              "      <td>2009</td>\n",
              "      <td>manuell</td>\n",
              "      <td>102</td>\n",
              "      <td>golf</td>\n",
              "      <td>70,000km</td>\n",
              "      <td>7</td>\n",
              "      <td>benzin</td>\n",
              "      <td>volkswagen</td>\n",
              "      <td>nein</td>\n",
              "      <td>2016-03-26 00:00:00</td>\n",
              "      <td>0</td>\n",
              "      <td>35394</td>\n",
              "      <td>2016-04-06 20:15:37</td>\n",
              "    </tr>\n",
              "    <tr>\n",
              "      <th>3</th>\n",
              "      <td>2016-03-12 16:58:10</td>\n",
              "      <td>Smart_smart_fortwo_coupe_softouch/F1/Klima/Pan...</td>\n",
              "      <td>privat</td>\n",
              "      <td>Angebot</td>\n",
              "      <td>$4,350</td>\n",
              "      <td>control</td>\n",
              "      <td>kleinwagen</td>\n",
              "      <td>2007</td>\n",
              "      <td>automatik</td>\n",
              "      <td>71</td>\n",
              "      <td>fortwo</td>\n",
              "      <td>70,000km</td>\n",
              "      <td>6</td>\n",
              "      <td>benzin</td>\n",
              "      <td>smart</td>\n",
              "      <td>nein</td>\n",
              "      <td>2016-03-12 00:00:00</td>\n",
              "      <td>0</td>\n",
              "      <td>33729</td>\n",
              "      <td>2016-03-15 03:16:28</td>\n",
              "    </tr>\n",
              "    <tr>\n",
              "      <th>4</th>\n",
              "      <td>2016-04-01 14:38:50</td>\n",
              "      <td>Ford_Focus_1_6_Benzin_TÜV_neu_ist_sehr_gepfleg...</td>\n",
              "      <td>privat</td>\n",
              "      <td>Angebot</td>\n",
              "      <td>$1,350</td>\n",
              "      <td>test</td>\n",
              "      <td>kombi</td>\n",
              "      <td>2003</td>\n",
              "      <td>manuell</td>\n",
              "      <td>0</td>\n",
              "      <td>focus</td>\n",
              "      <td>150,000km</td>\n",
              "      <td>7</td>\n",
              "      <td>benzin</td>\n",
              "      <td>ford</td>\n",
              "      <td>nein</td>\n",
              "      <td>2016-04-01 00:00:00</td>\n",
              "      <td>0</td>\n",
              "      <td>39218</td>\n",
              "      <td>2016-04-01 14:38:50</td>\n",
              "    </tr>\n",
              "  </tbody>\n",
              "</table>\n",
              "</div>"
            ],
            "text/plain": [
              "          date_crawled                                               name  \\\n",
              "0  2016-03-26 17:47:46                   Peugeot_807_160_NAVTECH_ON_BOARD   \n",
              "1  2016-04-04 13:38:56         BMW_740i_4_4_Liter_HAMANN_UMBAU_Mega_Optik   \n",
              "2  2016-03-26 18:57:24                         Volkswagen_Golf_1.6_United   \n",
              "3  2016-03-12 16:58:10  Smart_smart_fortwo_coupe_softouch/F1/Klima/Pan...   \n",
              "4  2016-04-01 14:38:50  Ford_Focus_1_6_Benzin_TÜV_neu_ist_sehr_gepfleg...   \n",
              "\n",
              "   seller offer_type   price  ab_test vehicle_type  registration_year  \\\n",
              "0  privat    Angebot  $5,000  control          bus               2004   \n",
              "1  privat    Angebot  $8,500  control    limousine               1997   \n",
              "2  privat    Angebot  $8,990     test    limousine               2009   \n",
              "3  privat    Angebot  $4,350  control   kleinwagen               2007   \n",
              "4  privat    Angebot  $1,350     test        kombi               2003   \n",
              "\n",
              "     gearbox  power_ps   model   odometer  registration_month fuel_type  \\\n",
              "0    manuell       158  andere  150,000km                   3       lpg   \n",
              "1  automatik       286     7er  150,000km                   6    benzin   \n",
              "2    manuell       102    golf   70,000km                   7    benzin   \n",
              "3  automatik        71  fortwo   70,000km                   6    benzin   \n",
              "4    manuell         0   focus  150,000km                   7    benzin   \n",
              "\n",
              "        brand unrepaired_damage           ad_created  num_photos  postal_code  \\\n",
              "0     peugeot              nein  2016-03-26 00:00:00           0        79588   \n",
              "1         bmw              nein  2016-04-04 00:00:00           0        71034   \n",
              "2  volkswagen              nein  2016-03-26 00:00:00           0        35394   \n",
              "3       smart              nein  2016-03-12 00:00:00           0        33729   \n",
              "4        ford              nein  2016-04-01 00:00:00           0        39218   \n",
              "\n",
              "             last_seen  \n",
              "0  2016-04-06 06:45:54  \n",
              "1  2016-04-06 14:45:08  \n",
              "2  2016-04-06 20:15:37  \n",
              "3  2016-03-15 03:16:28  \n",
              "4  2016-04-01 14:38:50  "
            ]
          },
          "execution_count": 5,
          "metadata": {},
          "output_type": "execute_result"
        }
      ]
    },
    {
      "cell_type": "markdown",
      "metadata": {
        "id": "fwbEPkrJLQUV"
      },
      "source": [
        "\n",
        "***\n",
        "## Dropping Unnecessary Columns and Cleaning Values\n",
        "\n",
        "We explore the data to detect areas that need to be cleaned."
      ]
    },
    {
      "cell_type": "code",
      "metadata": {
        "id": "5vhafYO4LQUW",
        "outputId": "7d141ab5-14ef-4545-ceb0-fcdb298501a7"
      },
      "source": [
        "autos.describe(include='all')"
      ],
      "execution_count": null,
      "outputs": [
        {
          "data": {
            "text/html": [
              "<div>\n",
              "<style scoped>\n",
              "    .dataframe tbody tr th:only-of-type {\n",
              "        vertical-align: middle;\n",
              "    }\n",
              "\n",
              "    .dataframe tbody tr th {\n",
              "        vertical-align: top;\n",
              "    }\n",
              "\n",
              "    .dataframe thead th {\n",
              "        text-align: right;\n",
              "    }\n",
              "</style>\n",
              "<table border=\"1\" class=\"dataframe\">\n",
              "  <thead>\n",
              "    <tr style=\"text-align: right;\">\n",
              "      <th></th>\n",
              "      <th>date_crawled</th>\n",
              "      <th>name</th>\n",
              "      <th>seller</th>\n",
              "      <th>offer_type</th>\n",
              "      <th>price</th>\n",
              "      <th>ab_test</th>\n",
              "      <th>vehicle_type</th>\n",
              "      <th>registration_year</th>\n",
              "      <th>gearbox</th>\n",
              "      <th>power_ps</th>\n",
              "      <th>model</th>\n",
              "      <th>odometer</th>\n",
              "      <th>registration_month</th>\n",
              "      <th>fuel_type</th>\n",
              "      <th>brand</th>\n",
              "      <th>unrepaired_damage</th>\n",
              "      <th>ad_created</th>\n",
              "      <th>num_photos</th>\n",
              "      <th>postal_code</th>\n",
              "      <th>last_seen</th>\n",
              "    </tr>\n",
              "  </thead>\n",
              "  <tbody>\n",
              "    <tr>\n",
              "      <th>count</th>\n",
              "      <td>50000</td>\n",
              "      <td>50000</td>\n",
              "      <td>50000</td>\n",
              "      <td>50000</td>\n",
              "      <td>50000</td>\n",
              "      <td>50000</td>\n",
              "      <td>44905</td>\n",
              "      <td>50000.000000</td>\n",
              "      <td>47320</td>\n",
              "      <td>50000.000000</td>\n",
              "      <td>47242</td>\n",
              "      <td>50000</td>\n",
              "      <td>50000.000000</td>\n",
              "      <td>45518</td>\n",
              "      <td>50000</td>\n",
              "      <td>40171</td>\n",
              "      <td>50000</td>\n",
              "      <td>50000.0</td>\n",
              "      <td>50000.000000</td>\n",
              "      <td>50000</td>\n",
              "    </tr>\n",
              "    <tr>\n",
              "      <th>unique</th>\n",
              "      <td>48213</td>\n",
              "      <td>38754</td>\n",
              "      <td>2</td>\n",
              "      <td>2</td>\n",
              "      <td>2357</td>\n",
              "      <td>2</td>\n",
              "      <td>8</td>\n",
              "      <td>NaN</td>\n",
              "      <td>2</td>\n",
              "      <td>NaN</td>\n",
              "      <td>245</td>\n",
              "      <td>13</td>\n",
              "      <td>NaN</td>\n",
              "      <td>7</td>\n",
              "      <td>40</td>\n",
              "      <td>2</td>\n",
              "      <td>76</td>\n",
              "      <td>NaN</td>\n",
              "      <td>NaN</td>\n",
              "      <td>39481</td>\n",
              "    </tr>\n",
              "    <tr>\n",
              "      <th>top</th>\n",
              "      <td>2016-03-10 15:36:24</td>\n",
              "      <td>Ford_Fiesta</td>\n",
              "      <td>privat</td>\n",
              "      <td>Angebot</td>\n",
              "      <td>$0</td>\n",
              "      <td>test</td>\n",
              "      <td>limousine</td>\n",
              "      <td>NaN</td>\n",
              "      <td>manuell</td>\n",
              "      <td>NaN</td>\n",
              "      <td>golf</td>\n",
              "      <td>150,000km</td>\n",
              "      <td>NaN</td>\n",
              "      <td>benzin</td>\n",
              "      <td>volkswagen</td>\n",
              "      <td>nein</td>\n",
              "      <td>2016-04-03 00:00:00</td>\n",
              "      <td>NaN</td>\n",
              "      <td>NaN</td>\n",
              "      <td>2016-04-07 06:17:27</td>\n",
              "    </tr>\n",
              "    <tr>\n",
              "      <th>freq</th>\n",
              "      <td>3</td>\n",
              "      <td>78</td>\n",
              "      <td>49999</td>\n",
              "      <td>49999</td>\n",
              "      <td>1421</td>\n",
              "      <td>25756</td>\n",
              "      <td>12859</td>\n",
              "      <td>NaN</td>\n",
              "      <td>36993</td>\n",
              "      <td>NaN</td>\n",
              "      <td>4024</td>\n",
              "      <td>32424</td>\n",
              "      <td>NaN</td>\n",
              "      <td>30107</td>\n",
              "      <td>10687</td>\n",
              "      <td>35232</td>\n",
              "      <td>1946</td>\n",
              "      <td>NaN</td>\n",
              "      <td>NaN</td>\n",
              "      <td>8</td>\n",
              "    </tr>\n",
              "    <tr>\n",
              "      <th>mean</th>\n",
              "      <td>NaN</td>\n",
              "      <td>NaN</td>\n",
              "      <td>NaN</td>\n",
              "      <td>NaN</td>\n",
              "      <td>NaN</td>\n",
              "      <td>NaN</td>\n",
              "      <td>NaN</td>\n",
              "      <td>2005.073280</td>\n",
              "      <td>NaN</td>\n",
              "      <td>116.355920</td>\n",
              "      <td>NaN</td>\n",
              "      <td>NaN</td>\n",
              "      <td>5.723360</td>\n",
              "      <td>NaN</td>\n",
              "      <td>NaN</td>\n",
              "      <td>NaN</td>\n",
              "      <td>NaN</td>\n",
              "      <td>0.0</td>\n",
              "      <td>50813.627300</td>\n",
              "      <td>NaN</td>\n",
              "    </tr>\n",
              "    <tr>\n",
              "      <th>std</th>\n",
              "      <td>NaN</td>\n",
              "      <td>NaN</td>\n",
              "      <td>NaN</td>\n",
              "      <td>NaN</td>\n",
              "      <td>NaN</td>\n",
              "      <td>NaN</td>\n",
              "      <td>NaN</td>\n",
              "      <td>105.712813</td>\n",
              "      <td>NaN</td>\n",
              "      <td>209.216627</td>\n",
              "      <td>NaN</td>\n",
              "      <td>NaN</td>\n",
              "      <td>3.711984</td>\n",
              "      <td>NaN</td>\n",
              "      <td>NaN</td>\n",
              "      <td>NaN</td>\n",
              "      <td>NaN</td>\n",
              "      <td>0.0</td>\n",
              "      <td>25779.747957</td>\n",
              "      <td>NaN</td>\n",
              "    </tr>\n",
              "    <tr>\n",
              "      <th>min</th>\n",
              "      <td>NaN</td>\n",
              "      <td>NaN</td>\n",
              "      <td>NaN</td>\n",
              "      <td>NaN</td>\n",
              "      <td>NaN</td>\n",
              "      <td>NaN</td>\n",
              "      <td>NaN</td>\n",
              "      <td>1000.000000</td>\n",
              "      <td>NaN</td>\n",
              "      <td>0.000000</td>\n",
              "      <td>NaN</td>\n",
              "      <td>NaN</td>\n",
              "      <td>0.000000</td>\n",
              "      <td>NaN</td>\n",
              "      <td>NaN</td>\n",
              "      <td>NaN</td>\n",
              "      <td>NaN</td>\n",
              "      <td>0.0</td>\n",
              "      <td>1067.000000</td>\n",
              "      <td>NaN</td>\n",
              "    </tr>\n",
              "    <tr>\n",
              "      <th>25%</th>\n",
              "      <td>NaN</td>\n",
              "      <td>NaN</td>\n",
              "      <td>NaN</td>\n",
              "      <td>NaN</td>\n",
              "      <td>NaN</td>\n",
              "      <td>NaN</td>\n",
              "      <td>NaN</td>\n",
              "      <td>1999.000000</td>\n",
              "      <td>NaN</td>\n",
              "      <td>70.000000</td>\n",
              "      <td>NaN</td>\n",
              "      <td>NaN</td>\n",
              "      <td>3.000000</td>\n",
              "      <td>NaN</td>\n",
              "      <td>NaN</td>\n",
              "      <td>NaN</td>\n",
              "      <td>NaN</td>\n",
              "      <td>0.0</td>\n",
              "      <td>30451.000000</td>\n",
              "      <td>NaN</td>\n",
              "    </tr>\n",
              "    <tr>\n",
              "      <th>50%</th>\n",
              "      <td>NaN</td>\n",
              "      <td>NaN</td>\n",
              "      <td>NaN</td>\n",
              "      <td>NaN</td>\n",
              "      <td>NaN</td>\n",
              "      <td>NaN</td>\n",
              "      <td>NaN</td>\n",
              "      <td>2003.000000</td>\n",
              "      <td>NaN</td>\n",
              "      <td>105.000000</td>\n",
              "      <td>NaN</td>\n",
              "      <td>NaN</td>\n",
              "      <td>6.000000</td>\n",
              "      <td>NaN</td>\n",
              "      <td>NaN</td>\n",
              "      <td>NaN</td>\n",
              "      <td>NaN</td>\n",
              "      <td>0.0</td>\n",
              "      <td>49577.000000</td>\n",
              "      <td>NaN</td>\n",
              "    </tr>\n",
              "    <tr>\n",
              "      <th>75%</th>\n",
              "      <td>NaN</td>\n",
              "      <td>NaN</td>\n",
              "      <td>NaN</td>\n",
              "      <td>NaN</td>\n",
              "      <td>NaN</td>\n",
              "      <td>NaN</td>\n",
              "      <td>NaN</td>\n",
              "      <td>2008.000000</td>\n",
              "      <td>NaN</td>\n",
              "      <td>150.000000</td>\n",
              "      <td>NaN</td>\n",
              "      <td>NaN</td>\n",
              "      <td>9.000000</td>\n",
              "      <td>NaN</td>\n",
              "      <td>NaN</td>\n",
              "      <td>NaN</td>\n",
              "      <td>NaN</td>\n",
              "      <td>0.0</td>\n",
              "      <td>71540.000000</td>\n",
              "      <td>NaN</td>\n",
              "    </tr>\n",
              "    <tr>\n",
              "      <th>max</th>\n",
              "      <td>NaN</td>\n",
              "      <td>NaN</td>\n",
              "      <td>NaN</td>\n",
              "      <td>NaN</td>\n",
              "      <td>NaN</td>\n",
              "      <td>NaN</td>\n",
              "      <td>NaN</td>\n",
              "      <td>9999.000000</td>\n",
              "      <td>NaN</td>\n",
              "      <td>17700.000000</td>\n",
              "      <td>NaN</td>\n",
              "      <td>NaN</td>\n",
              "      <td>12.000000</td>\n",
              "      <td>NaN</td>\n",
              "      <td>NaN</td>\n",
              "      <td>NaN</td>\n",
              "      <td>NaN</td>\n",
              "      <td>0.0</td>\n",
              "      <td>99998.000000</td>\n",
              "      <td>NaN</td>\n",
              "    </tr>\n",
              "  </tbody>\n",
              "</table>\n",
              "</div>"
            ],
            "text/plain": [
              "               date_crawled         name  seller offer_type  price ab_test  \\\n",
              "count                 50000        50000   50000      50000  50000   50000   \n",
              "unique                48213        38754       2          2   2357       2   \n",
              "top     2016-03-10 15:36:24  Ford_Fiesta  privat    Angebot     $0    test   \n",
              "freq                      3           78   49999      49999   1421   25756   \n",
              "mean                    NaN          NaN     NaN        NaN    NaN     NaN   \n",
              "std                     NaN          NaN     NaN        NaN    NaN     NaN   \n",
              "min                     NaN          NaN     NaN        NaN    NaN     NaN   \n",
              "25%                     NaN          NaN     NaN        NaN    NaN     NaN   \n",
              "50%                     NaN          NaN     NaN        NaN    NaN     NaN   \n",
              "75%                     NaN          NaN     NaN        NaN    NaN     NaN   \n",
              "max                     NaN          NaN     NaN        NaN    NaN     NaN   \n",
              "\n",
              "       vehicle_type  registration_year  gearbox      power_ps  model  \\\n",
              "count         44905       50000.000000    47320  50000.000000  47242   \n",
              "unique            8                NaN        2           NaN    245   \n",
              "top       limousine                NaN  manuell           NaN   golf   \n",
              "freq          12859                NaN    36993           NaN   4024   \n",
              "mean            NaN        2005.073280      NaN    116.355920    NaN   \n",
              "std             NaN         105.712813      NaN    209.216627    NaN   \n",
              "min             NaN        1000.000000      NaN      0.000000    NaN   \n",
              "25%             NaN        1999.000000      NaN     70.000000    NaN   \n",
              "50%             NaN        2003.000000      NaN    105.000000    NaN   \n",
              "75%             NaN        2008.000000      NaN    150.000000    NaN   \n",
              "max             NaN        9999.000000      NaN  17700.000000    NaN   \n",
              "\n",
              "         odometer  registration_month fuel_type       brand unrepaired_damage  \\\n",
              "count       50000        50000.000000     45518       50000             40171   \n",
              "unique         13                 NaN         7          40                 2   \n",
              "top     150,000km                 NaN    benzin  volkswagen              nein   \n",
              "freq        32424                 NaN     30107       10687             35232   \n",
              "mean          NaN            5.723360       NaN         NaN               NaN   \n",
              "std           NaN            3.711984       NaN         NaN               NaN   \n",
              "min           NaN            0.000000       NaN         NaN               NaN   \n",
              "25%           NaN            3.000000       NaN         NaN               NaN   \n",
              "50%           NaN            6.000000       NaN         NaN               NaN   \n",
              "75%           NaN            9.000000       NaN         NaN               NaN   \n",
              "max           NaN           12.000000       NaN         NaN               NaN   \n",
              "\n",
              "                 ad_created  num_photos   postal_code            last_seen  \n",
              "count                 50000     50000.0  50000.000000                50000  \n",
              "unique                   76         NaN           NaN                39481  \n",
              "top     2016-04-03 00:00:00         NaN           NaN  2016-04-07 06:17:27  \n",
              "freq                   1946         NaN           NaN                    8  \n",
              "mean                    NaN         0.0  50813.627300                  NaN  \n",
              "std                     NaN         0.0  25779.747957                  NaN  \n",
              "min                     NaN         0.0   1067.000000                  NaN  \n",
              "25%                     NaN         0.0  30451.000000                  NaN  \n",
              "50%                     NaN         0.0  49577.000000                  NaN  \n",
              "75%                     NaN         0.0  71540.000000                  NaN  \n",
              "max                     NaN         0.0  99998.000000                  NaN  "
            ]
          },
          "execution_count": 6,
          "metadata": {},
          "output_type": "execute_result"
        }
      ]
    },
    {
      "cell_type": "markdown",
      "metadata": {
        "id": "52DEZIygLQUX"
      },
      "source": [
        "**Observations:**\n",
        "\n",
        "- Both the `seller` and `offer_type` columns are in text format and almost all of their values are the same.\n",
        "- The column `num_photos` seems to have all its values equal to zero.\n",
        "- The `price` and `odometer` columns should be cleaned and converted to the `int` data type.\n",
        "\n",
        "Let's explore the columns `seller`, `offer_type` and `num_photos`"
      ]
    },
    {
      "cell_type": "code",
      "metadata": {
        "id": "mlM3HVKoLQUX",
        "outputId": "fa0b7ef8-499f-42e8-fb8f-08a7af2860d7"
      },
      "source": [
        "autos['seller'].value_counts()"
      ],
      "execution_count": null,
      "outputs": [
        {
          "data": {
            "text/plain": [
              "privat        49999\n",
              "gewerblich        1\n",
              "Name: seller, dtype: int64"
            ]
          },
          "execution_count": 7,
          "metadata": {},
          "output_type": "execute_result"
        }
      ]
    },
    {
      "cell_type": "code",
      "metadata": {
        "id": "uEbInfyWLQUZ",
        "outputId": "315a4160-5a0c-4687-e814-e1060d9fd4ae"
      },
      "source": [
        "autos['offer_type'].value_counts()"
      ],
      "execution_count": null,
      "outputs": [
        {
          "data": {
            "text/plain": [
              "Angebot    49999\n",
              "Gesuch         1\n",
              "Name: offer_type, dtype: int64"
            ]
          },
          "execution_count": 8,
          "metadata": {},
          "output_type": "execute_result"
        }
      ]
    },
    {
      "cell_type": "code",
      "metadata": {
        "id": "SHO5bkFwLQUa",
        "outputId": "2e8c25a9-3bf3-4e7b-e6ea-c2d0ff869aff"
      },
      "source": [
        "autos['num_photos'].value_counts()"
      ],
      "execution_count": null,
      "outputs": [
        {
          "data": {
            "text/plain": [
              "0    50000\n",
              "Name: num_photos, dtype: int64"
            ]
          },
          "execution_count": 9,
          "metadata": {},
          "output_type": "execute_result"
        }
      ]
    },
    {
      "cell_type": "markdown",
      "metadata": {
        "id": "TtjA5X8iLQUb"
      },
      "source": [
        "We observe that the column `num_photos` has only the value 0. We will eliminate this column, plus the other two that basically have a single value."
      ]
    },
    {
      "cell_type": "code",
      "metadata": {
        "id": "tM10Sq9DLQUb"
      },
      "source": [
        "autos = autos.drop(['num_photos', 'seller', 'offer_type'], axis=1)"
      ],
      "execution_count": null,
      "outputs": []
    },
    {
      "cell_type": "markdown",
      "metadata": {
        "id": "lZTjFeLFLQUc"
      },
      "source": [
        "Now, we clean the `price` and `odometer` columns and convert them to the **int** data type."
      ]
    },
    {
      "cell_type": "code",
      "metadata": {
        "id": "gz1N_jbMLQUc",
        "outputId": "c66bbd62-e04e-479b-c35d-428584f04d97"
      },
      "source": [
        "autos['price'] = (autos['price']\n",
        "                  .str.replace(\"$\", \"\")\n",
        "                  .str.replace(\",\", \"\")\n",
        "                  .astype(int)\n",
        "                 )\n",
        "\n",
        "print(\"PRICE - FIRST FIVE VALUES\")\n",
        "autos['price'].head()"
      ],
      "execution_count": null,
      "outputs": [
        {
          "name": "stdout",
          "output_type": "stream",
          "text": [
            "PRICE - FIRST FIVE VALUES\n"
          ]
        },
        {
          "data": {
            "text/plain": [
              "0    5000\n",
              "1    8500\n",
              "2    8990\n",
              "3    4350\n",
              "4    1350\n",
              "Name: price, dtype: int64"
            ]
          },
          "execution_count": 11,
          "metadata": {},
          "output_type": "execute_result"
        }
      ]
    },
    {
      "cell_type": "code",
      "metadata": {
        "id": "f2XCiwxPLQUc",
        "outputId": "2efbc5de-995a-472d-8d26-401b5e0349de"
      },
      "source": [
        "autos['odometer'] = (autos['odometer']\n",
        "                     .str.replace(\"km\", \"\")\n",
        "                     .str.replace(\",\", \"\")\n",
        "                     .astype(int)\n",
        "                    )\n",
        "\n",
        "# Renaming the column \"odometer\" to \"odometer_km\"\n",
        "autos.rename({'odometer':'odometer_km'}, axis=1, inplace=True)\n",
        "\n",
        "print(\"ODOMETER (KM) - FIRST FIVE VALUES\")\n",
        "autos['odometer_km'].head()"
      ],
      "execution_count": null,
      "outputs": [
        {
          "name": "stdout",
          "output_type": "stream",
          "text": [
            "ODOMETER (KM) - FIRST FIVE VALUES\n"
          ]
        },
        {
          "data": {
            "text/plain": [
              "0    150000\n",
              "1    150000\n",
              "2     70000\n",
              "3     70000\n",
              "4    150000\n",
              "Name: odometer_km, dtype: int64"
            ]
          },
          "execution_count": 12,
          "metadata": {},
          "output_type": "execute_result"
        }
      ]
    },
    {
      "cell_type": "markdown",
      "metadata": {
        "id": "2dPywH8YLQUd"
      },
      "source": [
        "\n",
        "***\n",
        "## Exploring the Odometer and Price Columns\n",
        "\n",
        "Before continuing, we'll implement some functions that allow us to have a better view of the values. This will make it easier for us to explore and analyze the data."
      ]
    },
    {
      "cell_type": "code",
      "metadata": {
        "id": "S5UQrrTkLQUd"
      },
      "source": [
        "# Returns the number (as a string) in thousands separation format\n",
        "def sep_format(value):\n",
        "    return '{:,}'.format(value)\n",
        "\n",
        "# Returns the number (as a string) rounded to \"n\" decimal places and formats it as thousands\n",
        "def float_format(value, n=2):\n",
        "    value = round(value, n)\n",
        "    return '{:,}'.format(value)\n",
        "\n",
        "# This function will make it easier for us to get the details of a particular column\n",
        "def get_col_details(df, col_name, round_vals=2, show_unique_num=True, show_describe=True, show_val_counts=True, sort_index=None, sort_values=None, normalize=False, ascending=False, bins=None, dropna=True, return_val_counts=False):\n",
        "    unique_vals = df[col_name].unique().shape[0] # Gets the number of unique values\n",
        "    \n",
        "    # Removes the special characters from the column name to use it as the results title\n",
        "    col = col_name.replace('_', ' ').title()\n",
        "    \n",
        "    # Checks if we want to show the number of unique values\n",
        "    if show_unique_num:\n",
        "        print(col, '- Unique Values: {:,}'.format(unique_vals), '\\n')\n",
        "    \n",
        "    # Checks if we want to show the statistics of the column\n",
        "    if show_describe:\n",
        "        col_desc = df[col_name].describe()\n",
        "        # Formats the results\n",
        "        col_desc = col_desc.apply(float_format, args=[round_vals])\n",
        "        print(col + ' - Statistics:', col_desc, sep='\\n')\n",
        "    \n",
        "    # Checks if we want to show the frequency table of the column\n",
        "    if show_val_counts:\n",
        "        col_val_counts = df[col_name].value_counts(normalize=normalize, ascending=ascending, bins=bins, dropna=dropna)\n",
        "        title_freq = 'Frequency'\n",
        "        # Checks if we want to show the frequencies as percentages\n",
        "        if normalize:\n",
        "            col_val_counts *= 100 # Multiplies each percentage value by 100.\n",
        "            title_freq += ' (%)'\n",
        "        # Sorts index in ascending or descending order if it's true or false\n",
        "        if sort_index != None:\n",
        "            col_val_counts = col_val_counts.sort_index(ascending=sort_index)\n",
        "        # Sorts values in ascending or descending order if it's true or false\n",
        "        if sort_values != None:\n",
        "            col_val_counts = col_val_counts.sort_values(ascending=sort_values)\n",
        "        # Gets the indexes on the table and converts them to a Serie\n",
        "        index_series = pd.Series(col_val_counts.index)\n",
        "        # If the indices are float data type, it rounds them and formats into thousands\n",
        "        if index_series.dtype == float:\n",
        "            index_series = index_series.apply(float_format, args=[round_vals])\n",
        "        # If the indices are int data type, it formats them into thousands\n",
        "        elif index_series.dtype == int:\n",
        "            index_series = index_series.apply(sep_format)\n",
        "        # Gets the values on the table and converts them to a Serie\n",
        "        freq_series = pd.Series(col_val_counts.values)\n",
        "        \n",
        "        total_head, total_tail = 0, 0\n",
        "        n = None\n",
        "        \n",
        "        # If the unique values are less than or equal to 40, sums all the values in the table\n",
        "        if unique_vals <= 40:\n",
        "            total_head = freq_series.sum()\n",
        "        # If the unique values are less than or equal to 80, sums the first and last 20 values in the table\n",
        "        elif unique_vals <= 80:\n",
        "            n = 20\n",
        "            total_head = freq_series.head(20).sum()\n",
        "            total_tail = freq_series.tail(20).sum()\n",
        "        # If the unique values are greater than 80, sums the first and last 30 values in the table\n",
        "        else:\n",
        "            n = 30\n",
        "            total_head = freq_series.head(30).sum()\n",
        "            total_tail = freq_series.tail(30).sum()\n",
        "        # If it returns the frequencies, just rounds the values without applying any format.\n",
        "        if return_val_counts:\n",
        "            if freq_series.dtype == float:\n",
        "                freq_series = freq_series.round(decimals=round_vals)\n",
        "        else: # Otherwise, rounds the values and format thousands (as a string)\n",
        "            if freq_series.dtype == float:\n",
        "                freq_series = freq_series.apply(float_format, args=[round_vals])\n",
        "            elif freq_series.dtype == int:\n",
        "                freq_series = freq_series.apply(sep_format)\n",
        "        # Converts the indices and frequencies to a DataFrame\n",
        "        dfreq = pd.DataFrame({col:index_series, title_freq:freq_series})\n",
        "        # If \"n\" is equal to \"None\", prints the entire table\n",
        "        if n == None:\n",
        "            print('', dfreq, '-' * 45, 'Total frequency: {}'.format(float_format(total_head, round_vals)), sep='\\n')\n",
        "        else: # Otherwise, prints head(n) and tail(n)\n",
        "            freq_head = dfreq.head(n)\n",
        "            print('\\nFIRST {} VALUES'.format(n), freq_head, '-' * 45, sep='\\n')\n",
        "            print('Total frequency:', float_format(total_head, round_vals), '\\n')\n",
        "            freq_tail = dfreq.tail(n)\n",
        "            print('\\nLAST {} VALUES'.format(n), freq_tail, '-' * 45, sep='\\n')\n",
        "            print('Total frequency:', float_format(total_tail, round_vals), '\\n')\n",
        "        # Checks if shoulds send the table/s\n",
        "        if return_val_counts:\n",
        "            if n == None:\n",
        "                return dfreq\n",
        "            else:\n",
        "                return freq_head, freq_tail"
      ],
      "execution_count": null,
      "outputs": []
    },
    {
      "cell_type": "markdown",
      "metadata": {
        "id": "DVabVCVbLQUl"
      },
      "source": [
        "Now, we start by exploring the values of the column `odometer_km`"
      ]
    },
    {
      "cell_type": "code",
      "metadata": {
        "id": "UDoSlEd6LQUr",
        "outputId": "a8eaa67d-17bc-4a9c-e040-81fb13cdebcc"
      },
      "source": [
        "get_col_details(autos, 'odometer_km')"
      ],
      "execution_count": null,
      "outputs": [
        {
          "name": "stdout",
          "output_type": "stream",
          "text": [
            "Odometer Km - Unique Values: 13 \n",
            "\n",
            "Odometer Km - Statistics:\n",
            "count     50,000.0\n",
            "mean     125,732.7\n",
            "std      40,042.21\n",
            "min        5,000.0\n",
            "25%      125,000.0\n",
            "50%      150,000.0\n",
            "75%      150,000.0\n",
            "max      150,000.0\n",
            "Name: odometer_km, dtype: object\n",
            "\n",
            "   Odometer Km Frequency\n",
            "0      150,000    32,424\n",
            "1      125,000     5,170\n",
            "2      100,000     2,169\n",
            "3       90,000     1,757\n",
            "4       80,000     1,436\n",
            "5       70,000     1,230\n",
            "6       60,000     1,164\n",
            "7       50,000     1,027\n",
            "8        5,000       967\n",
            "9       40,000       819\n",
            "10      30,000       789\n",
            "11      20,000       784\n",
            "12      10,000       264\n",
            "---------------------------------------------\n",
            "Total frequency: 50,000\n"
          ]
        }
      ]
    },
    {
      "cell_type": "markdown",
      "metadata": {
        "id": "whpEWJ-ILQUs"
      },
      "source": [
        "We can see that those cars that have higher mileage predominate.\n",
        "\n",
        "Next, we'll review the values of the column `price`:"
      ]
    },
    {
      "cell_type": "code",
      "metadata": {
        "id": "8Ew16nlYLQUs",
        "outputId": "a65d2bfa-53bd-442c-ed2a-01f0a82bf5f1"
      },
      "source": [
        "get_col_details(autos, 'price', sort_index=False)"
      ],
      "execution_count": null,
      "outputs": [
        {
          "name": "stdout",
          "output_type": "stream",
          "text": [
            "Price - Unique Values: 2,357 \n",
            "\n",
            "Price - Statistics:\n",
            "count        50,000.0\n",
            "mean         9,840.04\n",
            "std        481,104.38\n",
            "min               0.0\n",
            "25%           1,100.0\n",
            "50%           2,950.0\n",
            "75%           7,200.0\n",
            "max      99,999,999.0\n",
            "Name: price, dtype: object\n",
            "\n",
            "FIRST 30 VALUES\n",
            "         Price Frequency\n",
            "0   99,999,999         1\n",
            "1   27,322,222         1\n",
            "2   12,345,678         3\n",
            "3   11,111,111         2\n",
            "4   10,000,000         1\n",
            "5    3,890,000         1\n",
            "6    1,300,000         1\n",
            "7    1,234,566         1\n",
            "8      999,999         2\n",
            "9      999,990         1\n",
            "10     350,000         1\n",
            "11     345,000         1\n",
            "12     299,000         1\n",
            "13     295,000         1\n",
            "14     265,000         1\n",
            "15     259,000         1\n",
            "16     250,000         1\n",
            "17     220,000         1\n",
            "18     198,000         1\n",
            "19     197,000         1\n",
            "20     194,000         1\n",
            "21     190,000         1\n",
            "22     180,000         1\n",
            "23     175,000         1\n",
            "24     169,999         1\n",
            "25     169,000         1\n",
            "26     163,991         1\n",
            "27     163,500         1\n",
            "28     155,000         1\n",
            "29     151,990         1\n",
            "---------------------------------------------\n",
            "Total frequency: 34 \n",
            "\n",
            "\n",
            "LAST 30 VALUES\n",
            "     Price Frequency\n",
            "2327    66         1\n",
            "2328    65         5\n",
            "2329    60         9\n",
            "2330    59         1\n",
            "2331    55         2\n",
            "2332    50        49\n",
            "2333    49         4\n",
            "2334    47         1\n",
            "2335    45         4\n",
            "2336    40         6\n",
            "2337    35         1\n",
            "2338    30         7\n",
            "2339    29         1\n",
            "2340    25         5\n",
            "2341    20         4\n",
            "2342    18         1\n",
            "2343    17         3\n",
            "2344    15         2\n",
            "2345    14         1\n",
            "2346    13         2\n",
            "2347    12         3\n",
            "2348    11         2\n",
            "2349    10         7\n",
            "2350     9         1\n",
            "2351     8         1\n",
            "2352     5         2\n",
            "2353     3         1\n",
            "2354     2         3\n",
            "2355     1       156\n",
            "2356     0     1,421\n",
            "---------------------------------------------\n",
            "Total frequency: 1,706 \n",
            "\n"
          ]
        }
      ]
    },
    {
      "cell_type": "markdown",
      "metadata": {
        "id": "2NjrnXHDLQUt"
      },
      "source": [
        "The results show us several cars listed under \\\\$ 50, including 1,421 to \\\\$ 0 that represent 2.84% of the total cars listed. We'll discard these rows later.\n",
        "\n",
        "On the price list with high values, we have 14 of them at around \\\\$ 1 million or more. However, after these records, more uniform values are observed.\n",
        "\n",
        "We know that eBay is an auction website, so there may be items where the starting bid is \\\\$ 1. We'll keep the \\\\$ 1 items, but we'll remove all items over \\\\$ 350,000; as it seems that prices are constantly increasing up to that number and then increasing to less realistic numbers."
      ]
    },
    {
      "cell_type": "code",
      "metadata": {
        "id": "Kd7rglmYLQUt",
        "outputId": "5f2f9d82-1615-496b-ac6d-4c13538ade22"
      },
      "source": [
        "autos = autos[autos['price'].between(1, 351000)]\n",
        "\n",
        "get_col_details(autos, 'price', show_val_counts=False)"
      ],
      "execution_count": null,
      "outputs": [
        {
          "name": "stdout",
          "output_type": "stream",
          "text": [
            "Price - Unique Values: 2,346 \n",
            "\n",
            "Price - Statistics:\n",
            "count     48,565.0\n",
            "mean      5,888.94\n",
            "std       9,059.85\n",
            "min            1.0\n",
            "25%        1,200.0\n",
            "50%        3,000.0\n",
            "75%        7,490.0\n",
            "max      350,000.0\n",
            "Name: price, dtype: object\n"
          ]
        }
      ]
    },
    {
      "cell_type": "markdown",
      "metadata": {
        "id": "dduv0uS9LQUu"
      },
      "source": [
        "\n",
        "***\n",
        "## Exploring the date columns\n",
        "\n",
        "There are 5 columns representing date values. Some of these columns were created by the crawler, others come from the website itself.\n",
        "\n",
        "- `date_crawled`: added by the crawler\n",
        "- `last_seen`: added by the crawler\n",
        "- `ad_created`: from the website\n",
        "- `registration_month`: from the website\n",
        "- `registration_year`: from the website\n",
        "\n",
        "The columns `date_crawled`, `last_seen` and `ad_created` are stored as **string**. While the columns `registration_month` and `registration_year` are stored as **int** data type.\n",
        "\n",
        "We start by exploring the `date_crawled`, `last_seen` and `ad_created` columns."
      ]
    },
    {
      "cell_type": "code",
      "metadata": {
        "id": "4VuaNkpKLQUu",
        "outputId": "93264640-c593-4450-a34b-fc7ba506e9f3"
      },
      "source": [
        "autos[['date_crawled', 'ad_created', 'last_seen']][:5]"
      ],
      "execution_count": null,
      "outputs": [
        {
          "data": {
            "text/html": [
              "<div>\n",
              "<style scoped>\n",
              "    .dataframe tbody tr th:only-of-type {\n",
              "        vertical-align: middle;\n",
              "    }\n",
              "\n",
              "    .dataframe tbody tr th {\n",
              "        vertical-align: top;\n",
              "    }\n",
              "\n",
              "    .dataframe thead th {\n",
              "        text-align: right;\n",
              "    }\n",
              "</style>\n",
              "<table border=\"1\" class=\"dataframe\">\n",
              "  <thead>\n",
              "    <tr style=\"text-align: right;\">\n",
              "      <th></th>\n",
              "      <th>date_crawled</th>\n",
              "      <th>ad_created</th>\n",
              "      <th>last_seen</th>\n",
              "    </tr>\n",
              "  </thead>\n",
              "  <tbody>\n",
              "    <tr>\n",
              "      <th>0</th>\n",
              "      <td>2016-03-26 17:47:46</td>\n",
              "      <td>2016-03-26 00:00:00</td>\n",
              "      <td>2016-04-06 06:45:54</td>\n",
              "    </tr>\n",
              "    <tr>\n",
              "      <th>1</th>\n",
              "      <td>2016-04-04 13:38:56</td>\n",
              "      <td>2016-04-04 00:00:00</td>\n",
              "      <td>2016-04-06 14:45:08</td>\n",
              "    </tr>\n",
              "    <tr>\n",
              "      <th>2</th>\n",
              "      <td>2016-03-26 18:57:24</td>\n",
              "      <td>2016-03-26 00:00:00</td>\n",
              "      <td>2016-04-06 20:15:37</td>\n",
              "    </tr>\n",
              "    <tr>\n",
              "      <th>3</th>\n",
              "      <td>2016-03-12 16:58:10</td>\n",
              "      <td>2016-03-12 00:00:00</td>\n",
              "      <td>2016-03-15 03:16:28</td>\n",
              "    </tr>\n",
              "    <tr>\n",
              "      <th>4</th>\n",
              "      <td>2016-04-01 14:38:50</td>\n",
              "      <td>2016-04-01 00:00:00</td>\n",
              "      <td>2016-04-01 14:38:50</td>\n",
              "    </tr>\n",
              "  </tbody>\n",
              "</table>\n",
              "</div>"
            ],
            "text/plain": [
              "          date_crawled           ad_created            last_seen\n",
              "0  2016-03-26 17:47:46  2016-03-26 00:00:00  2016-04-06 06:45:54\n",
              "1  2016-04-04 13:38:56  2016-04-04 00:00:00  2016-04-06 14:45:08\n",
              "2  2016-03-26 18:57:24  2016-03-26 00:00:00  2016-04-06 20:15:37\n",
              "3  2016-03-12 16:58:10  2016-03-12 00:00:00  2016-03-15 03:16:28\n",
              "4  2016-04-01 14:38:50  2016-04-01 00:00:00  2016-04-01 14:38:50"
            ]
          },
          "execution_count": 17,
          "metadata": {},
          "output_type": "execute_result"
        }
      ]
    },
    {
      "cell_type": "markdown",
      "metadata": {
        "id": "Qq-4tFh0LQUv"
      },
      "source": [
        "We note that the **first 10 characters** represent the day (eg, `2016-03-12`). To understand the date range, we're going to extract only the date values, then generate a distribution and sort it by index or frequency.\n",
        "\n",
        "We'll start with the column `date_crawled`"
      ]
    },
    {
      "cell_type": "code",
      "metadata": {
        "id": "5DJQXQ6bLQUv",
        "outputId": "133eec96-3207-418a-fff4-e2e16b09ac29"
      },
      "source": [
        "autos['only_date_crawled'] = autos['date_crawled'].str[:10]\n",
        "\n",
        "get_col_details(autos, 'only_date_crawled', sort_index=True, show_describe=False, normalize=True, dropna=False)"
      ],
      "execution_count": null,
      "outputs": [
        {
          "name": "stdout",
          "output_type": "stream",
          "text": [
            "Only Date Crawled - Unique Values: 34 \n",
            "\n",
            "\n",
            "   Only Date Crawled Frequency (%)\n",
            "0         2016-03-05          2.53\n",
            "1         2016-03-06           1.4\n",
            "2         2016-03-07           3.6\n",
            "3         2016-03-08          3.33\n",
            "4         2016-03-09          3.31\n",
            "5         2016-03-10          3.22\n",
            "6         2016-03-11          3.26\n",
            "7         2016-03-12          3.69\n",
            "8         2016-03-13          1.57\n",
            "9         2016-03-14          3.65\n",
            "10        2016-03-15          3.43\n",
            "11        2016-03-16          2.96\n",
            "12        2016-03-17          3.16\n",
            "13        2016-03-18          1.29\n",
            "14        2016-03-19          3.48\n",
            "15        2016-03-20          3.79\n",
            "16        2016-03-21          3.74\n",
            "17        2016-03-22           3.3\n",
            "18        2016-03-23          3.22\n",
            "19        2016-03-24          2.93\n",
            "20        2016-03-25          3.16\n",
            "21        2016-03-26          3.22\n",
            "22        2016-03-27          3.11\n",
            "23        2016-03-28          3.49\n",
            "24        2016-03-29          3.41\n",
            "25        2016-03-30          3.37\n",
            "26        2016-03-31          3.18\n",
            "27        2016-04-01          3.37\n",
            "28        2016-04-02          3.55\n",
            "29        2016-04-03          3.86\n",
            "30        2016-04-04          3.65\n",
            "31        2016-04-05          1.31\n",
            "32        2016-04-06          0.32\n",
            "33        2016-04-07          0.14\n",
            "---------------------------------------------\n",
            "Total frequency: 100.0\n"
          ]
        }
      ]
    },
    {
      "cell_type": "markdown",
      "metadata": {
        "id": "cTqiyDPdLQUw"
      },
      "source": [
        "The site was crawled every day from March 5 through the first week of April 2016. The distribution of listings crawled each day is roughly uniform.\n",
        "\n",
        "Next, we'll review the column `last_seen`"
      ]
    },
    {
      "cell_type": "code",
      "metadata": {
        "id": "bElmk0-yLQUw",
        "outputId": "c62663fb-b9f8-4a8d-c650-eaae3f7bf85f"
      },
      "source": [
        "autos['last_seen_date'] = autos['last_seen'].str[:10]\n",
        "\n",
        "get_col_details(autos, 'last_seen_date', sort_index=True, show_describe=False, normalize=True, dropna=False)"
      ],
      "execution_count": null,
      "outputs": [
        {
          "name": "stdout",
          "output_type": "stream",
          "text": [
            "Last Seen Date - Unique Values: 34 \n",
            "\n",
            "\n",
            "   Last Seen Date Frequency (%)\n",
            "0      2016-03-05          0.11\n",
            "1      2016-03-06          0.43\n",
            "2      2016-03-07          0.54\n",
            "3      2016-03-08          0.74\n",
            "4      2016-03-09          0.96\n",
            "5      2016-03-10          1.07\n",
            "6      2016-03-11          1.24\n",
            "7      2016-03-12          2.38\n",
            "8      2016-03-13          0.89\n",
            "9      2016-03-14          1.26\n",
            "10     2016-03-15          1.59\n",
            "11     2016-03-16          1.65\n",
            "12     2016-03-17          2.81\n",
            "13     2016-03-18          0.74\n",
            "14     2016-03-19          1.58\n",
            "15     2016-03-20          2.07\n",
            "16     2016-03-21          2.06\n",
            "17     2016-03-22          2.14\n",
            "18     2016-03-23          1.85\n",
            "19     2016-03-24          1.98\n",
            "20     2016-03-25          1.92\n",
            "21     2016-03-26          1.68\n",
            "22     2016-03-27          1.56\n",
            "23     2016-03-28          2.09\n",
            "24     2016-03-29          2.23\n",
            "25     2016-03-30          2.48\n",
            "26     2016-03-31          2.38\n",
            "27     2016-04-01          2.28\n",
            "28     2016-04-02          2.49\n",
            "29     2016-04-03          2.52\n",
            "30     2016-04-04          2.45\n",
            "31     2016-04-05         12.48\n",
            "32     2016-04-06         22.18\n",
            "33     2016-04-07         13.19\n",
            "---------------------------------------------\n",
            "Total frequency: 100.0\n"
          ]
        }
      ]
    },
    {
      "cell_type": "markdown",
      "metadata": {
        "id": "IGpGfFRmLQUx"
      },
      "source": [
        "We note that the last three days contain a disproportionate number of **last seen** values. These are approximately 8x (on average) the values of the previous days, it's very likely that these are related to the crawling period ending and don't necessarily indicate massive car sales.\n",
        "\n",
        "Now, we'll review the column `ad_created`"
      ]
    },
    {
      "cell_type": "code",
      "metadata": {
        "id": "byuaIfvGLQUy",
        "outputId": "edbe28a0-c524-4f87-e298-47fd4e45a956"
      },
      "source": [
        "autos['ad_created_date'] = autos['ad_created'].str[:10]\n",
        "\n",
        "get_col_details(autos, 'ad_created_date', round_vals=4, sort_index=True, show_describe=False, normalize=True, dropna=False)"
      ],
      "execution_count": null,
      "outputs": [
        {
          "name": "stdout",
          "output_type": "stream",
          "text": [
            "Ad Created Date - Unique Values: 76 \n",
            "\n",
            "\n",
            "FIRST 20 VALUES\n",
            "   Ad Created Date Frequency (%)\n",
            "0       2015-06-11        0.0021\n",
            "1       2015-08-10        0.0021\n",
            "2       2015-09-09        0.0021\n",
            "3       2015-11-10        0.0021\n",
            "4       2015-12-05        0.0021\n",
            "5       2015-12-30        0.0021\n",
            "6       2016-01-03        0.0021\n",
            "7       2016-01-07        0.0021\n",
            "8       2016-01-10        0.0041\n",
            "9       2016-01-13        0.0021\n",
            "10      2016-01-14        0.0021\n",
            "11      2016-01-16        0.0021\n",
            "12      2016-01-22        0.0021\n",
            "13      2016-01-27        0.0062\n",
            "14      2016-01-29        0.0021\n",
            "15      2016-02-01        0.0021\n",
            "16      2016-02-02        0.0041\n",
            "17      2016-02-05        0.0041\n",
            "18      2016-02-07        0.0021\n",
            "19      2016-02-08        0.0021\n",
            "---------------------------------------------\n",
            "Total frequency: 0.0515 \n",
            "\n",
            "\n",
            "LAST 20 VALUES\n",
            "   Ad Created Date Frequency (%)\n",
            "56      2016-03-19        3.3687\n",
            "57      2016-03-20        3.7949\n",
            "58      2016-03-21        3.7579\n",
            "59      2016-03-22        3.2801\n",
            "60      2016-03-23         3.206\n",
            "61      2016-03-24         2.928\n",
            "62      2016-03-25        3.1751\n",
            "63      2016-03-26        3.2266\n",
            "64      2016-03-27        3.0989\n",
            "65      2016-03-28        3.4984\n",
            "66      2016-03-29        3.4037\n",
            "67      2016-03-30        3.3501\n",
            "68      2016-03-31        3.1875\n",
            "69      2016-04-01        3.3687\n",
            "70      2016-04-02        3.5149\n",
            "71      2016-04-03        3.8855\n",
            "72      2016-04-04        3.6858\n",
            "73      2016-04-05        1.1819\n",
            "74      2016-04-06        0.3253\n",
            "75      2016-04-07        0.1256\n",
            "---------------------------------------------\n",
            "Total frequency: 59.3637 \n",
            "\n"
          ]
        }
      ]
    },
    {
      "cell_type": "markdown",
      "metadata": {
        "id": "xg6cm6z9LQUz"
      },
      "source": [
        "Most of **ad created dates** fall within 1-2 months of the listing date, but we did notice some old values, with the oldest at around 9 months.\n",
        "\n",
        "Let's check the column `registration_year`"
      ]
    },
    {
      "cell_type": "code",
      "metadata": {
        "id": "WZvZZQZiLQUz",
        "outputId": "da266dd1-d587-49f4-ffa4-5248c01e190f"
      },
      "source": [
        "get_col_details(autos, 'registration_year', show_val_counts=False)"
      ],
      "execution_count": null,
      "outputs": [
        {
          "name": "stdout",
          "output_type": "stream",
          "text": [
            "Registration Year - Unique Values: 95 \n",
            "\n",
            "Registration Year - Statistics:\n",
            "count    48,565.0\n",
            "mean     2,004.76\n",
            "std         88.64\n",
            "min       1,000.0\n",
            "25%       1,999.0\n",
            "50%       2,004.0\n",
            "75%       2,008.0\n",
            "max       9,999.0\n",
            "Name: registration_year, dtype: object\n"
          ]
        }
      ]
    },
    {
      "cell_type": "markdown",
      "metadata": {
        "id": "7FzMprR2LQU0"
      },
      "source": [
        "The registration year of the car tells us how old it's. However, we notice some strange values. The minimum value is 1'000, this is long before cars were invented and the maximum value is 9'999, many years into the future.\n",
        "\n",
        "***\n",
        "## Dealing with Incorrect Registration Year Data\n",
        "\n",
        "We'll consider only those cars whose registration years fall within 1900 - 2016; since, at the beginning of the 20th century, [cars began to be mass-produced](https://en.wikipedia.org/wiki/Car).\n",
        "\n",
        "Before performing the filter, we determine what percentage of the dataset have invalid values in this column:"
      ]
    },
    {
      "cell_type": "code",
      "metadata": {
        "id": "pHu7gwEBLQU0",
        "outputId": "175caae2-f876-4fa3-b437-d2e937f9094f"
      },
      "source": [
        "total_cars = autos.shape[0]\n",
        "total_wrong_reg_year = total_cars - autos['registration_year'].between(1900, 2016).sum()\n",
        "\n",
        "perc_wrong_reg_year = (total_wrong_reg_year / total_cars) * 100\n",
        "\n",
        "print(\"Percentage of wrong data in 'registration_year' column: {:.2f}\".format(perc_wrong_reg_year))"
      ],
      "execution_count": null,
      "outputs": [
        {
          "name": "stdout",
          "output_type": "stream",
          "text": [
            "Percentage of wrong data in 'registration_year' column: 3.88\n"
          ]
        }
      ]
    },
    {
      "cell_type": "markdown",
      "metadata": {
        "id": "TbdhO_R3LQU1"
      },
      "source": [
        "Since these records only represent 3.88% of our data, we'll delete these rows."
      ]
    },
    {
      "cell_type": "code",
      "metadata": {
        "id": "tA1OKnyKLQU1",
        "outputId": "84ac4dea-783c-4398-a86c-3e7f3dc0c1c8"
      },
      "source": [
        "# Filters the data\n",
        "autos = autos[autos['registration_year'].between(1900, 2016)]\n",
        "\n",
        "get_col_details(autos, 'registration_year', round_vals=4, sort_index=True, show_describe=False, normalize=True)"
      ],
      "execution_count": null,
      "outputs": [
        {
          "name": "stdout",
          "output_type": "stream",
          "text": [
            "Registration Year - Unique Values: 78 \n",
            "\n",
            "\n",
            "FIRST 20 VALUES\n",
            "   Registration Year Frequency (%)\n",
            "0              1,910        0.0107\n",
            "1              1,927        0.0021\n",
            "2              1,929        0.0021\n",
            "3              1,931        0.0021\n",
            "4              1,934        0.0043\n",
            "5              1,937        0.0086\n",
            "6              1,938        0.0021\n",
            "7              1,939        0.0021\n",
            "8              1,941        0.0043\n",
            "9              1,943        0.0021\n",
            "10             1,948        0.0021\n",
            "11             1,950        0.0064\n",
            "12             1,951        0.0043\n",
            "13             1,952        0.0021\n",
            "14             1,953        0.0021\n",
            "15             1,954        0.0043\n",
            "16             1,955        0.0043\n",
            "17             1,956        0.0086\n",
            "18             1,957        0.0043\n",
            "19             1,958        0.0086\n",
            "---------------------------------------------\n",
            "Total frequency: 0.0878 \n",
            "\n",
            "\n",
            "LAST 20 VALUES\n",
            "   Registration Year Frequency (%)\n",
            "58             1,997        4.1794\n",
            "59             1,998         5.062\n",
            "60             1,999         6.206\n",
            "61             2,000        6.7608\n",
            "62             2,001        5.6468\n",
            "63             2,002        5.3255\n",
            "64             2,003        5.7818\n",
            "65             2,004        5.7904\n",
            "66             2,005        6.2895\n",
            "67             2,006        5.7197\n",
            "68             2,007        4.8778\n",
            "69             2,008         4.745\n",
            "70             2,009        4.4665\n",
            "71             2,010         3.404\n",
            "72             2,011        3.4768\n",
            "73             2,012        2.8063\n",
            "74             2,013        1.7202\n",
            "75             2,014        1.4203\n",
            "76             2,015        0.8397\n",
            "77             2,016        2.6135\n",
            "---------------------------------------------\n",
            "Total frequency: 87.1318 \n",
            "\n"
          ]
        }
      ]
    },
    {
      "cell_type": "markdown",
      "metadata": {
        "id": "wZZnvvIpLQU2"
      },
      "source": [
        "We can see that most of the vehicles were registered for the first time in the last 20 years or so (87.13%).\n",
        "\n",
        "***\n",
        "## Exploring Price by Brand"
      ]
    },
    {
      "cell_type": "code",
      "metadata": {
        "id": "YhnqdoX6LQU3",
        "outputId": "d3ab5efe-0b61-4654-d2b7-6c75785a1a4d"
      },
      "source": [
        "brand_fq = get_col_details(autos, 'brand', round_vals=3, show_describe=False, normalize=True, return_val_counts=True)"
      ],
      "execution_count": null,
      "outputs": [
        {
          "name": "stdout",
          "output_type": "stream",
          "text": [
            "Brand - Unique Values: 40 \n",
            "\n",
            "\n",
            "             Brand  Frequency (%)\n",
            "0       volkswagen         21.126\n",
            "1              bmw         11.004\n",
            "2             opel         10.758\n",
            "3    mercedes_benz          9.646\n",
            "4             audi          8.657\n",
            "5             ford          6.990\n",
            "6          renault          4.715\n",
            "7          peugeot          2.984\n",
            "8             fiat          2.564\n",
            "9             seat          1.827\n",
            "10           skoda          1.641\n",
            "11          nissan          1.527\n",
            "12           mazda          1.519\n",
            "13           smart          1.416\n",
            "14         citroen          1.401\n",
            "15          toyota          1.270\n",
            "16         hyundai          1.003\n",
            "17  sonstige_autos          0.981\n",
            "18           volvo          0.915\n",
            "19            mini          0.876\n",
            "20      mitsubishi          0.823\n",
            "21           honda          0.784\n",
            "22             kia          0.707\n",
            "23      alfa_romeo          0.664\n",
            "24         porsche          0.613\n",
            "25          suzuki          0.593\n",
            "26       chevrolet          0.570\n",
            "27        chrysler          0.351\n",
            "28           dacia          0.263\n",
            "29        daihatsu          0.251\n",
            "30            jeep          0.227\n",
            "31          subaru          0.214\n",
            "32      land_rover          0.210\n",
            "33            saab          0.165\n",
            "34          jaguar          0.156\n",
            "35          daewoo          0.150\n",
            "36         trabant          0.139\n",
            "37           rover          0.133\n",
            "38          lancia          0.107\n",
            "39            lada          0.058\n",
            "---------------------------------------------\n",
            "Total frequency: 100.0\n"
          ]
        }
      ]
    },
    {
      "cell_type": "markdown",
      "metadata": {
        "id": "KzZRMxSXLQU3"
      },
      "source": [
        "We note that **German manufacturers** occupy the top five brands, with 61.19% of the overall lists. **Volkswagen** is the most popular brand, with approximately double the cars for sale of the next two brands combined.\n",
        "\n",
        "We also note that many brands don't have a significant percentage of listings, so we'll limit our analysis to brands that represent more than 5% of total listings."
      ]
    },
    {
      "cell_type": "code",
      "metadata": {
        "id": "us2VmCeBLQU4",
        "outputId": "525c32aa-3898-464c-be4c-e1cffb70bfc0"
      },
      "source": [
        "common_brands = brand_fq[brand_fq['Frequency (%)'] > 5]['Brand']\n",
        "\n",
        "print('Principal Brands:\\n', common_brands, sep='\\n')"
      ],
      "execution_count": null,
      "outputs": [
        {
          "name": "stdout",
          "output_type": "stream",
          "text": [
            "Principal Brands:\n",
            "\n",
            "0       volkswagen\n",
            "1              bmw\n",
            "2             opel\n",
            "3    mercedes_benz\n",
            "4             audi\n",
            "5             ford\n",
            "Name: Brand, dtype: object\n"
          ]
        }
      ]
    },
    {
      "cell_type": "markdown",
      "metadata": {
        "id": "12Uz8cBkLQU5"
      },
      "source": [
        "Before continuing, we'll implement a function that will allow us to obtain the average value of a column based on a specific field."
      ]
    },
    {
      "cell_type": "code",
      "metadata": {
        "id": "l-yAtIGXLQU6"
      },
      "source": [
        "def get_col_mean_by(df, col, mean_col, unique_values):\n",
        "    dict_mean_vals = {}\n",
        "    \n",
        "    for value in unique_values:\n",
        "        only_value = df[df[col] == value]\n",
        "        mean = only_value[mean_col].mean()\n",
        "        dict_mean_vals[value] = int(mean)\n",
        "    \n",
        "    # Sorts the dictionary by values\n",
        "    dict_mean_vals = dict(sorted(dict_mean_vals.items(), key=lambda x: x[1], reverse=True))\n",
        "    \n",
        "    # Converts the dictionary to a series (applies thousands format)\n",
        "    serie = pd.Series(dict_mean_vals).apply(sep_format)\n",
        "    \n",
        "    return serie"
      ],
      "execution_count": null,
      "outputs": []
    },
    {
      "cell_type": "markdown",
      "metadata": {
        "id": "M-1nQnTnLQU7"
      },
      "source": [
        "Now with the function already implemented, we can get the average prices for the main brands."
      ]
    },
    {
      "cell_type": "code",
      "metadata": {
        "id": "fFFfgz6sLQU8",
        "outputId": "3615d0dc-e87d-492d-b90f-cf14810891fe"
      },
      "source": [
        "brand_mean_prices = get_col_mean_by(autos, 'brand', 'price', common_brands.values)\n",
        "\n",
        "print('Top Brands - Mean Price:\\n', *brand_mean_prices.items(), sep='\\n')"
      ],
      "execution_count": null,
      "outputs": [
        {
          "name": "stdout",
          "output_type": "stream",
          "text": [
            "Top Brands - Mean Price:\n",
            "\n",
            "('audi', '9,336')\n",
            "('mercedes_benz', '8,628')\n",
            "('bmw', '8,332')\n",
            "('volkswagen', '5,402')\n",
            "('ford', '3,749')\n",
            "('opel', '2,975')\n"
          ]
        }
      ]
    },
    {
      "cell_type": "markdown",
      "metadata": {
        "id": "McPsVVSiLQU8"
      },
      "source": [
        "Of the top 5 brands, we can classify the results based on price:\n",
        "\n",
        "- More expensive: Audi, BMW and Mercedes Benz.\n",
        "- Less expensive: Ford and Opel.\n",
        "- Average cost (most popular): Volkswagen.\n",
        "\n",
        "***\n",
        "## Exploring Mileage by Brand\n",
        "\n",
        "We'll start by exploring the average mileage for the major car brands."
      ]
    },
    {
      "cell_type": "code",
      "metadata": {
        "id": "v8_BBBEwLQU9",
        "outputId": "683f15ee-e741-46ff-eb65-e07feb1b1502"
      },
      "source": [
        "brand_mean_mileages = get_col_mean_by(autos, 'brand', 'odometer_km', common_brands.values)\n",
        "\n",
        "print('Top Brands - Mean Mileage:\\n', *brand_mean_mileages.items(), sep='\\n')"
      ],
      "execution_count": null,
      "outputs": [
        {
          "name": "stdout",
          "output_type": "stream",
          "text": [
            "Top Brands - Mean Mileage:\n",
            "\n",
            "('bmw', '132,572')\n",
            "('mercedes_benz', '130,788')\n",
            "('opel', '129,310')\n",
            "('audi', '129,157')\n",
            "('volkswagen', '128,707')\n",
            "('ford', '124,266')\n"
          ]
        }
      ]
    },
    {
      "cell_type": "markdown",
      "metadata": {
        "id": "3xMROWs0LQU9"
      },
      "source": [
        "We note that German car brands have higher mileage (top five) with an average of 130,107 km; 4.49% above the **ford** brand.\n",
        "\n",
        "Now, let's see if within the major brands there is any relationship between **average mileage** and **average price**."
      ]
    },
    {
      "cell_type": "code",
      "metadata": {
        "id": "i1Q-obTJLQU-",
        "outputId": "bf3674ec-ddd6-43d9-e59f-9b9a84354832"
      },
      "source": [
        "brand_mileage_info = pd.DataFrame(brand_mean_mileages, columns=['Mean Mileage'])\n",
        "brand_mileage_info['Mean Price'] = brand_mean_prices\n",
        "\n",
        "brand_mileage_info"
      ],
      "execution_count": null,
      "outputs": [
        {
          "data": {
            "text/html": [
              "<div>\n",
              "<style scoped>\n",
              "    .dataframe tbody tr th:only-of-type {\n",
              "        vertical-align: middle;\n",
              "    }\n",
              "\n",
              "    .dataframe tbody tr th {\n",
              "        vertical-align: top;\n",
              "    }\n",
              "\n",
              "    .dataframe thead th {\n",
              "        text-align: right;\n",
              "    }\n",
              "</style>\n",
              "<table border=\"1\" class=\"dataframe\">\n",
              "  <thead>\n",
              "    <tr style=\"text-align: right;\">\n",
              "      <th></th>\n",
              "      <th>Mean Mileage</th>\n",
              "      <th>Mean Price</th>\n",
              "    </tr>\n",
              "  </thead>\n",
              "  <tbody>\n",
              "    <tr>\n",
              "      <th>bmw</th>\n",
              "      <td>132,572</td>\n",
              "      <td>8,332</td>\n",
              "    </tr>\n",
              "    <tr>\n",
              "      <th>mercedes_benz</th>\n",
              "      <td>130,788</td>\n",
              "      <td>8,628</td>\n",
              "    </tr>\n",
              "    <tr>\n",
              "      <th>opel</th>\n",
              "      <td>129,310</td>\n",
              "      <td>2,975</td>\n",
              "    </tr>\n",
              "    <tr>\n",
              "      <th>audi</th>\n",
              "      <td>129,157</td>\n",
              "      <td>9,336</td>\n",
              "    </tr>\n",
              "    <tr>\n",
              "      <th>volkswagen</th>\n",
              "      <td>128,707</td>\n",
              "      <td>5,402</td>\n",
              "    </tr>\n",
              "    <tr>\n",
              "      <th>ford</th>\n",
              "      <td>124,266</td>\n",
              "      <td>3,749</td>\n",
              "    </tr>\n",
              "  </tbody>\n",
              "</table>\n",
              "</div>"
            ],
            "text/plain": [
              "              Mean Mileage Mean Price\n",
              "bmw                132,572      8,332\n",
              "mercedes_benz      130,788      8,628\n",
              "opel               129,310      2,975\n",
              "audi               129,157      9,336\n",
              "volkswagen         128,707      5,402\n",
              "ford               124,266      3,749"
            ]
          },
          "execution_count": 29,
          "metadata": {},
          "output_type": "execute_result"
        }
      ]
    },
    {
      "cell_type": "markdown",
      "metadata": {
        "id": "RJDvMHTCLQU-"
      },
      "source": [
        "Within the list of the main brands there is a slight tendency for the more expensive vehicles to have a higher mileage.\n",
        "\n",
        "***\n",
        "## Finding the Most Common Brand/Model Combinations\n",
        "\n",
        "We'll start by exploring the values of the column `model`."
      ]
    },
    {
      "cell_type": "code",
      "metadata": {
        "id": "KhplfEihLQU_",
        "outputId": "31ae8833-ebc8-4f5b-c1e5-0dcd07edd10a"
      },
      "source": [
        "get_col_details(autos, 'model', sort_values=True, show_describe=False)"
      ],
      "execution_count": null,
      "outputs": [
        {
          "name": "stdout",
          "output_type": "stream",
          "text": [
            "Model - Unique Values: 245 \n",
            "\n",
            "\n",
            "FIRST 30 VALUES\n",
            "                 Model Frequency\n",
            "0           rangerover         1\n",
            "1                b_max         1\n",
            "2                  200         1\n",
            "3                   i3         1\n",
            "4                kappa         2\n",
            "5              charade         3\n",
            "6               samara         3\n",
            "7                  v60         3\n",
            "8              materia         4\n",
            "9                croma         4\n",
            "10                 145         4\n",
            "11                9000         5\n",
            "12  range_rover_evoque         5\n",
            "13               delta         5\n",
            "14               lodgy         5\n",
            "15           crossfire         6\n",
            "16                exeo         6\n",
            "17              amarok         6\n",
            "18              nubira         8\n",
            "19                  90         8\n",
            "20                 r19         9\n",
            "21         range_rover         9\n",
            "22                move         9\n",
            "23                 mii        10\n",
            "24                300c        10\n",
            "25               lybra        10\n",
            "26               lanos        10\n",
            "27                  gl        10\n",
            "28              terios        10\n",
            "29              sirion        11\n",
            "---------------------------------------------\n",
            "Total frequency: 179 \n",
            "\n",
            "\n",
            "LAST 30 VALUES\n",
            "           Model Frequency\n",
            "214       megane       335\n",
            "215           ka       349\n",
            "216       zafira       394\n",
            "217        punto       415\n",
            "218       touran       433\n",
            "219         clio       473\n",
            "220       mondeo       479\n",
            "221      3_reihe       486\n",
            "222          1er       521\n",
            "223     a_klasse       539\n",
            "224       vectra       544\n",
            "225       fortwo       550\n",
            "226      2_reihe       600\n",
            "227       twingo       615\n",
            "228  transporter       674\n",
            "229       fiesta       722\n",
            "230        focus       762\n",
            "231           a6       797\n",
            "232           a3       825\n",
            "233     e_klasse       958\n",
            "234          5er     1,132\n",
            "235     c_klasse     1,136\n",
            "236           a4     1,231\n",
            "237        astra     1,348\n",
            "238       passat     1,349\n",
            "239        corsa     1,592\n",
            "240         polo     1,609\n",
            "241          3er     2,615\n",
            "242       andere     3,373\n",
            "243         golf     3,707\n",
            "---------------------------------------------\n",
            "Total frequency: 30,563 \n",
            "\n"
          ]
        }
      ]
    },
    {
      "cell_type": "markdown",
      "metadata": {
        "id": "jZzuHdvrLQU_"
      },
      "source": [
        "Now, we'll create a new column, in which its values are the **concatenation** of the values of the `brand` and `model` columns. Then we'll examine their values."
      ]
    },
    {
      "cell_type": "code",
      "metadata": {
        "id": "b02-NN6ALQVA",
        "outputId": "2920839d-c054-4ec4-be0f-3661a91fce83"
      },
      "source": [
        "autos['brand_model'] = autos['brand'] + ' / ' + autos['model']\n",
        "\n",
        "get_col_details(autos, 'brand_model', sort_values=True, show_describe=False)"
      ],
      "execution_count": null,
      "outputs": [
        {
          "name": "stdout",
          "output_type": "stream",
          "text": [
            "Brand Model - Unique Values: 291 \n",
            "\n",
            "\n",
            "FIRST 30 VALUES\n",
            "                        Brand Model Frequency\n",
            "0                          bmw / i3         1\n",
            "1                      ford / b_max         1\n",
            "2                rover / rangerover         1\n",
            "3                        audi / 200         1\n",
            "4                 rover / discovery         1\n",
            "5                rover / freelander         2\n",
            "6                    lancia / kappa         2\n",
            "7                    dacia / andere         2\n",
            "8                daihatsu / charade         3\n",
            "9                       volvo / v60         3\n",
            "10                    lada / samara         3\n",
            "11                     fiat / croma         4\n",
            "12               daihatsu / materia         4\n",
            "13                 alfa_romeo / 145         4\n",
            "14              land_rover / andere         4\n",
            "15  land_rover / range_rover_evoque         5\n",
            "16                      saab / 9000         5\n",
            "17                    dacia / lodgy         5\n",
            "18                   lancia / delta         5\n",
            "19              volkswagen / amarok         6\n",
            "20                      seat / exeo         6\n",
            "21             chrysler / crossfire         6\n",
            "22                    lada / andere         7\n",
            "23                   smart / andere         7\n",
            "24                  daewoo / nubira         8\n",
            "25                        audi / 90         8\n",
            "26                 trabant / andere         8\n",
            "27                    renault / r19         9\n",
            "28                  daihatsu / move         9\n",
            "29                  daewoo / andere         9\n",
            "---------------------------------------------\n",
            "Total frequency: 139 \n",
            "\n",
            "\n",
            "LAST 30 VALUES\n",
            "                  Brand Model Frequency\n",
            "260              seat / ibiza       328\n",
            "261          renault / megane       335\n",
            "262                 ford / ka       349\n",
            "263             opel / zafira       394\n",
            "264              fiat / punto       415\n",
            "265       volkswagen / touran       433\n",
            "266    mercedes_benz / andere       439\n",
            "267            renault / clio       473\n",
            "268             ford / mondeo       479\n",
            "269                 bmw / 1er       521\n",
            "270  mercedes_benz / a_klasse       539\n",
            "271             opel / vectra       544\n",
            "272            smart / fortwo       550\n",
            "273         peugeot / 2_reihe       600\n",
            "274          renault / twingo       615\n",
            "275  volkswagen / transporter       674\n",
            "276             ford / fiesta       722\n",
            "277              ford / focus       762\n",
            "278                 audi / a6       797\n",
            "279                 audi / a3       825\n",
            "280  mercedes_benz / e_klasse       958\n",
            "281                 bmw / 5er     1,132\n",
            "282  mercedes_benz / c_klasse     1,136\n",
            "283                 audi / a4     1,231\n",
            "284              opel / astra     1,348\n",
            "285       volkswagen / passat     1,349\n",
            "286              opel / corsa     1,592\n",
            "287         volkswagen / polo     1,609\n",
            "288                 bmw / 3er     2,615\n",
            "289         volkswagen / golf     3,707\n",
            "---------------------------------------------\n",
            "Total frequency: 27,471 \n",
            "\n"
          ]
        }
      ]
    },
    {
      "cell_type": "markdown",
      "metadata": {
        "id": "oq4MO2EELQVB"
      },
      "source": [
        "The list of the last 30 values represents 58.73% of the total cars listed. The **volkswagen / golf** combination is the most common, 41.76% above the second-place combination **bmw / 3rd**.\n",
        "\n",
        "The list with the highest values has an average frequency of 916. For our purpose, we'll only consider those values that exceed the average frequency. Coincidentally, the last 10 values in the list are the ones that meet this criteria.\n",
        "\n",
        "> *We'll avoid using our previously implemented function since we only need the first 10 highest values.*"
      ]
    },
    {
      "cell_type": "code",
      "metadata": {
        "id": "CSB2i246LQVB",
        "outputId": "09d4a10f-eb0c-4acf-dfff-fb92c46f85a3"
      },
      "source": [
        "top_brand_model = autos['brand_model'].value_counts().sort_values(ascending=False).head(10)\n",
        "\n",
        "print('Top Ten - Most Common [Brand / Model] Cars:\\n')\n",
        "for count, bm in enumerate(top_brand_model.index):\n",
        "    print(count + 1, bm)"
      ],
      "execution_count": null,
      "outputs": [
        {
          "name": "stdout",
          "output_type": "stream",
          "text": [
            "Top Ten - Most Common [Brand / Model] Cars:\n",
            "\n",
            "1 volkswagen / golf\n",
            "2 bmw / 3er\n",
            "3 volkswagen / polo\n",
            "4 opel / corsa\n",
            "5 volkswagen / passat\n",
            "6 opel / astra\n",
            "7 audi / a4\n",
            "8 mercedes_benz / c_klasse\n",
            "9 bmw / 5er\n",
            "10 mercedes_benz / e_klasse\n"
          ]
        }
      ]
    },
    {
      "cell_type": "markdown",
      "metadata": {
        "id": "VHjLpms8LQVC"
      },
      "source": [
        "***\n",
        "## Finding Patterns Between Average Prices and Mileage\n",
        "\n",
        "We'll divide the values in the `odometer_km` column into groups by using [Sturge's rule](https://accendoreliability.com/sturges-rule-method-selecting-number-bins-histogram/) to calculate the number of classes that our frequency table should contain."
      ]
    },
    {
      "cell_type": "code",
      "metadata": {
        "id": "tRd9f5u7LQVE",
        "outputId": "13ba025f-3369-4158-ed7a-d33de941e2f4"
      },
      "source": [
        "# Total rows number\n",
        "n = autos.shape[0]\n",
        "\n",
        "# Calculating the range of the data\n",
        "min_odometer = autos['odometer_km'].min()\n",
        "max_odometer = autos['odometer_km'].max()\n",
        "range_ = max_odometer - min_odometer\n",
        "\n",
        "# Calculating the approximate number of classes\n",
        "k = 1 + 3.32 * np.log10(n)\n",
        "k = round(k)\n",
        "\n",
        "# Calculating the approximate size of the class interval\n",
        "h = range_ / k\n",
        "h = round(h, -1) # Round up\n",
        "\n",
        "# Obtains the list with the limits of each class\n",
        "i = 0\n",
        "interval = min_odometer\n",
        "odometer_intervals = []\n",
        "while i <= k:\n",
        "    odometer_intervals.append(int(interval))\n",
        "    interval += h\n",
        "    i += 1\n",
        "\n",
        "print('Odometer (km) - Limits for the bins:\\n', *odometer_intervals, sep='\\n')"
      ],
      "execution_count": null,
      "outputs": [
        {
          "name": "stdout",
          "output_type": "stream",
          "text": [
            "Odometer (km) - Limits for the bins:\n",
            "\n",
            "5000\n",
            "13530\n",
            "22060\n",
            "30590\n",
            "39120\n",
            "47650\n",
            "56180\n",
            "64710\n",
            "73240\n",
            "81770\n",
            "90300\n",
            "98830\n",
            "107360\n",
            "115890\n",
            "124420\n",
            "132950\n",
            "141480\n",
            "150010\n"
          ]
        }
      ]
    },
    {
      "cell_type": "markdown",
      "metadata": {
        "id": "IyP5tdUkLQVF"
      },
      "source": [
        "With the limits list obtained, we can now build the frequency table."
      ]
    },
    {
      "cell_type": "code",
      "metadata": {
        "id": "2hFo2lBlLQVG",
        "outputId": "af15eaac-f5bd-4705-8399-ef5a7ede7a85"
      },
      "source": [
        "mileage_group = get_col_details(autos, 'odometer_km', sort_index=True, show_unique_num=False,\n",
        "                                show_describe=False, bins=odometer_intervals, return_val_counts=True)"
      ],
      "execution_count": null,
      "outputs": [
        {
          "name": "stdout",
          "output_type": "stream",
          "text": [
            "\n",
            "             Odometer Km  Frequency\n",
            "0    (4999.999, 13530.0]       1026\n",
            "1     (13530.0, 22060.0]        742\n",
            "2     (22060.0, 30590.0]        760\n",
            "3     (30590.0, 39120.0]          0\n",
            "4     (39120.0, 47650.0]        797\n",
            "5     (47650.0, 56180.0]        993\n",
            "6     (56180.0, 64710.0]       1128\n",
            "7     (64710.0, 73240.0]       1187\n",
            "8     (73240.0, 81770.0]       1375\n",
            "9     (81770.0, 90300.0]       1673\n",
            "10    (90300.0, 98830.0]          0\n",
            "11   (98830.0, 107360.0]       2058\n",
            "12  (107360.0, 115890.0]          0\n",
            "13  (115890.0, 124420.0]          0\n",
            "14  (124420.0, 132950.0]       4857\n",
            "15  (132950.0, 141480.0]          0\n",
            "16  (141480.0, 150010.0]      30085\n",
            "---------------------------------------------\n",
            "Total frequency: 46,681\n"
          ]
        }
      ]
    },
    {
      "cell_type": "markdown",
      "metadata": {
        "id": "65-3JeU9LQVH"
      },
      "source": [
        "As a result, we got a DataFrame with the frequency table. Next, we'll get the lists of average mileage and average prices for each class and add them to the DataFrame."
      ]
    },
    {
      "cell_type": "code",
      "metadata": {
        "id": "siC0NovELQVI",
        "outputId": "460f6e3a-e724-4b4e-e930-93eeef3a5d18"
      },
      "source": [
        "mileages_avg_prices = []\n",
        "avg_mileage = []\n",
        "\n",
        "for index in range(len(odometer_intervals) - 1):\n",
        "    lower_limit = odometer_intervals[index]\n",
        "    upper_limit = odometer_intervals[index + 1]\n",
        "    \n",
        "    only_class = autos[(autos['odometer_km'] >= lower_limit) & (autos['odometer_km'] < upper_limit)]\n",
        "    \n",
        "    mean_price = only_class['price'].mean()\n",
        "    mean_mileage = only_class['odometer_km'].mean()\n",
        "    \n",
        "    if pd.isna(mean_price):\n",
        "        mean_price = 0\n",
        "    if pd.isna(mean_mileage):\n",
        "        mean_mileage = 0\n",
        "    \n",
        "    mileages_avg_prices.append(int(mean_price))\n",
        "    avg_mileage.append(int(mean_mileage))\n",
        "\n",
        "# Converts the lists into series\n",
        "mileages_prices_serie = pd.Series(mileages_avg_prices)\n",
        "avg_mileages_serie = pd.Series(avg_mileage)\n",
        "\n",
        "# Formats the series and adds them to the frequency table\n",
        "mileage_group['AVG Mileage'] = avg_mileages_serie.apply(sep_format)\n",
        "mileage_group['AVG Price'] = mileages_prices_serie.apply(sep_format)\n",
        "\n",
        "# Formats the frequency values\n",
        "mileage_group['Frequency'] = mileage_group['Frequency'].apply(sep_format)\n",
        "\n",
        "print(mileage_group)"
      ],
      "execution_count": null,
      "outputs": [
        {
          "name": "stdout",
          "output_type": "stream",
          "text": [
            "             Odometer Km Frequency AVG Mileage AVG Price\n",
            "0    (4999.999, 13530.0]     1,026       6,174    11,616\n",
            "1     (13530.0, 22060.0]       742      20,000    18,448\n",
            "2     (22060.0, 30590.0]       760      30,000    16,608\n",
            "3     (30590.0, 39120.0]         0           0         0\n",
            "4     (39120.0, 47650.0]       797      40,000    15,499\n",
            "5     (47650.0, 56180.0]       993      50,000    13,812\n",
            "6     (56180.0, 64710.0]     1,128      60,000    12,385\n",
            "7     (64710.0, 73240.0]     1,187      70,000    10,927\n",
            "8     (73240.0, 81770.0]     1,375      80,000     9,721\n",
            "9     (81770.0, 90300.0]     1,673      90,000     8,465\n",
            "10    (90300.0, 98830.0]         0           0         0\n",
            "11   (98830.0, 107360.0]     2,058     100,000     8,132\n",
            "12  (107360.0, 115890.0]         0           0         0\n",
            "13  (115890.0, 124420.0]         0           0         0\n",
            "14  (124420.0, 132950.0]     4,857     125,000     6,214\n",
            "15  (132950.0, 141480.0]         0           0         0\n",
            "16  (141480.0, 150010.0]    30,085     150,000     3,767\n"
          ]
        }
      ]
    },
    {
      "cell_type": "markdown",
      "metadata": {
        "id": "4xqKLa8oLQVJ"
      },
      "source": [
        "We can note, with the exception of the second class, that the average mileage is inversely related to the average price; that is, as the average mileage increases, the average price decreases.\n",
        "\n",
        "This is normal in the sale of used cars, since if it has higher mileage, commonly the price is usually lower.\n",
        "\n",
        "***\n",
        "## Average Price on Damaged Cars and Their Undamaged Counterparts\n",
        "\n",
        "Let's start by exploring the values of the column `unrepaired_damage`"
      ]
    },
    {
      "cell_type": "code",
      "metadata": {
        "id": "GLY7jyoqLQVJ",
        "outputId": "d3a4d916-7feb-44d5-e62f-9469097889e7"
      },
      "source": [
        "get_col_details(autos, 'unrepaired_damage', show_describe=False, dropna=False)"
      ],
      "execution_count": null,
      "outputs": [
        {
          "name": "stdout",
          "output_type": "stream",
          "text": [
            "Unrepaired Damage - Unique Values: 3 \n",
            "\n",
            "\n",
            "  Unrepaired Damage Frequency\n",
            "0              nein    33,834\n",
            "1               NaN     8,307\n",
            "2                ja     4,540\n",
            "---------------------------------------------\n",
            "Total frequency: 46,681\n"
          ]
        }
      ]
    },
    {
      "cell_type": "markdown",
      "metadata": {
        "id": "o6ccrzWnLQVK"
      },
      "source": [
        "We see that in addition to having null values, the other values are in German. We'll translate these values and replace them."
      ]
    },
    {
      "cell_type": "code",
      "metadata": {
        "id": "ypHjUy9ELQVK",
        "outputId": "ed2d589d-fec2-4b19-e04a-2becaac6dd24"
      },
      "source": [
        "autos['unrepaired_damage'] = (autos['unrepaired_damage'].\n",
        "                              str.replace('nein', 'No').\n",
        "                             str.replace('ja', 'Yes'))\n",
        "\n",
        "get_col_details(autos, 'unrepaired_damage', show_describe=False, dropna=False)"
      ],
      "execution_count": null,
      "outputs": [
        {
          "name": "stdout",
          "output_type": "stream",
          "text": [
            "Unrepaired Damage - Unique Values: 3 \n",
            "\n",
            "\n",
            "  Unrepaired Damage Frequency\n",
            "0                No    33,834\n",
            "1               NaN     8,307\n",
            "2               Yes     4,540\n",
            "---------------------------------------------\n",
            "Total frequency: 46,681\n"
          ]
        }
      ]
    },
    {
      "cell_type": "markdown",
      "metadata": {
        "id": "hwrk2rCfLQVK"
      },
      "source": [
        "Now, we calculate the average price for each value.\n",
        "\n",
        "> *For our purpose we'll ignore the null values.*"
      ]
    },
    {
      "cell_type": "code",
      "metadata": {
        "id": "1MDFE1FmLQVL",
        "outputId": "b4db0310-5cd9-4a6e-9265-c81f6bf87722"
      },
      "source": [
        "unrepaired_damage_avg_price = get_col_mean_by(autos, 'unrepaired_damage', 'price', ['No', 'Yes'])\n",
        "\n",
        "unrep_price_info = pd.DataFrame(unrepaired_damage_avg_price, columns=['AVG Price'])\n",
        "unrep_price_info.index.name = 'Unrepaired Damage'\n",
        "\n",
        "unrep_price_info"
      ],
      "execution_count": null,
      "outputs": [
        {
          "data": {
            "text/html": [
              "<div>\n",
              "<style scoped>\n",
              "    .dataframe tbody tr th:only-of-type {\n",
              "        vertical-align: middle;\n",
              "    }\n",
              "\n",
              "    .dataframe tbody tr th {\n",
              "        vertical-align: top;\n",
              "    }\n",
              "\n",
              "    .dataframe thead th {\n",
              "        text-align: right;\n",
              "    }\n",
              "</style>\n",
              "<table border=\"1\" class=\"dataframe\">\n",
              "  <thead>\n",
              "    <tr style=\"text-align: right;\">\n",
              "      <th></th>\n",
              "      <th>AVG Price</th>\n",
              "    </tr>\n",
              "    <tr>\n",
              "      <th>Unrepaired Damage</th>\n",
              "      <th></th>\n",
              "    </tr>\n",
              "  </thead>\n",
              "  <tbody>\n",
              "    <tr>\n",
              "      <th>No</th>\n",
              "      <td>7,164</td>\n",
              "    </tr>\n",
              "    <tr>\n",
              "      <th>Yes</th>\n",
              "      <td>2,241</td>\n",
              "    </tr>\n",
              "  </tbody>\n",
              "</table>\n",
              "</div>"
            ],
            "text/plain": [
              "                  AVG Price\n",
              "Unrepaired Damage          \n",
              "No                    7,164\n",
              "Yes                   2,241"
            ]
          },
          "execution_count": 38,
          "metadata": {},
          "output_type": "execute_result"
        }
      ]
    },
    {
      "cell_type": "markdown",
      "metadata": {
        "id": "tfjw565DLQVL"
      },
      "source": [
        "As we expected, those cars that show unrepaired damage tend to have the lowest prices on average.\n",
        "\n",
        "***\n",
        "## Conclusion\n",
        "\n",
        "* We determined that German car manufacturers occupy the top five brands, with 61.19% of the overall lists; being volkswagen the most popular brand.\n",
        "* We found that the most common brand-price combination is **volkswagen / golf** being 41.76% higher than the second-place **bmw / 3rd** combination.\n",
        "* We also found that in most cases, cars with higher mileage tend to be cheaper.\n",
        "* Similarly, cars with unrepaired damage tend to be cheaper than cars whose damage has already been repaired. These are about 220% more expensive."
      ]
    }
  ]
}