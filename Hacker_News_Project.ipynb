{
  "nbformat": 4,
  "nbformat_minor": 0,
  "metadata": {
    "kernelspec": {
      "display_name": "Python 3",
      "language": "python",
      "name": "python3"
    },
    "language_info": {
      "codemirror_mode": {
        "name": "ipython",
        "version": 3
      },
      "file_extension": ".py",
      "mimetype": "text/x-python",
      "name": "python",
      "nbconvert_exporter": "python",
      "pygments_lexer": "ipython3",
      "version": "3.8.5"
    },
    "colab": {
      "name": "Hacker News Project.ipynb",
      "provenance": [],
      "include_colab_link": true
    }
  },
  "cells": [
    {
      "cell_type": "markdown",
      "metadata": {
        "id": "view-in-github",
        "colab_type": "text"
      },
      "source": [
        "<a href=\"https://colab.research.google.com/github/krishnakaushik25/DataQuest-Guided-Projects/blob/main/Hacker_News_Project.ipynb\" target=\"_parent\"><img src=\"https://colab.research.google.com/assets/colab-badge.svg\" alt=\"Open In Colab\"/></a>"
      ]
    },
    {
      "cell_type": "markdown",
      "metadata": {
        "id": "pzt9EXTDLOXX"
      },
      "source": [
        "# Exploring Hacker News Posts\n",
        "    \n",
        "![Hacker%20News.jpg](attachment:Hacker%20News.jpg)"
      ]
    },
    {
      "cell_type": "markdown",
      "metadata": {
        "collapsed": true,
        "id": "w2RxzQVBLOXa"
      },
      "source": [
        "# Introduction\n",
        "\n",
        "Hacker News (sometimes abbreviated as HN) is a social news website focusing on computer science and entrepreneurship. Hacker News was started by the startup incubator Y Combinator, where user-submitted stories (known as \"posts\") receive votes and comments, similar to reddit. Hacker News is extremely popular in technology and startup circles, and posts that make it to the top of the Hacker News listings can get hundreds of thousands of visitors as a result.\n",
        "\n",
        "The word hacker in \"Hacker News\" is used in its original meaning and refers to the hacker culture which consists of people who enjoy tinkering with technology.\n",
        "\n",
        "You can find the data set [here](https://www.kaggle.com/hacker-news/hacker-news-posts, 'here'). As part of this DataQuest training project, the data file was reduced from almost 300,000 rows to approximately 20,000 rows by removing all submissions that didn't receive any comments and then randomly sampling from the remaining submissions."
      ]
    },
    {
      "cell_type": "markdown",
      "metadata": {
        "id": "e6zUq2TCLOXb"
      },
      "source": [
        "## Project Goal\n",
        "\n",
        "This project focus will be limited to question type posts and comparing the average number of comments/responses to questions within each hour of a day. The purpose in doing this is to determine if the data analysis results will provide best time of day to post questions where I would expect the highest frequency of comments/responses.\n",
        "\n",
        "**NOTE: The data file for this project covers the time period Aug. 2015 to Aug. 2016. So any conclusions drawn from this data regarding optimum hour of day to post questions yielding highest volume of comments is relevant to that time period. We are now five years later and it's possible the results covering let's say the last year (2020-2021) could be very different.**"
      ]
    },
    {
      "cell_type": "markdown",
      "metadata": {
        "id": "q4L1KfNpLOXb"
      },
      "source": [
        "# Data Column Descriptions\n",
        "\n",
        "Below are descriptions of the columns::\n",
        "\n",
        "- **<span style=\"color:red\">title:</span>** title of the post (self explanatory)\n",
        "\n",
        "- **<span style=\"color:red\">url:</span>** the url of the item being linked to\n",
        "\n",
        "- **<span style=\"color:red\">num_points:</span>** the number of upvotes the post received\n",
        "\n",
        "- **<span style=\"color:red\">num_comments:</span>** the number of comments the post received\n",
        "\n",
        "- **<span style=\"color:red\">author:</span>** the name of the account that made the post\n",
        "\n",
        "- **<span style=\"color:red\">created_at:</span>** the date and time the post was made (the time zone is Eastern Time in the US)"
      ]
    },
    {
      "cell_type": "code",
      "metadata": {
        "scrolled": false,
        "id": "usad_2GSLOXc",
        "outputId": "6c5961bb-3ed2-40d2-d17f-e635257a4a56"
      },
      "source": [
        "# import python libaries\n",
        "import pandas as pd\n",
        "import numpy as np\n",
        "import datetime as dt\n",
        "from scipy import stats\n",
        "import random\n",
        "import string\n",
        "import matplotlib.pyplot as plt\n",
        "from matplotlib.ticker import PercentFormatter\n",
        "import matplotlib.ticker as mtick\n",
        "import seaborn as sns\n",
        "from numpy.random import seed, randint\n",
        "from IPython.display import HTML, display, Markdown\n",
        "from sklearn.model_selection import KFold\n",
        "from sklearn.linear_model import LinearRegression\n",
        "import statsmodels.api as sm\n",
        "from sklearn.metrics import mean_squared_error\n",
        "\n",
        "# Import 'hacker_news.csv' file\n",
        "# and create a list.\n",
        "opened_file = open('hacker_news.csv')\n",
        "from csv import reader\n",
        "read_file = reader(opened_file)\n",
        "hn_raw = list(read_file)\n",
        "display(hn_raw[:5])"
      ],
      "execution_count": null,
      "outputs": [
        {
          "data": {
            "text/plain": [
              "[['id', 'title', 'url', 'num_points', 'num_comments', 'author', 'created_at'],\n",
              " ['12224879',\n",
              "  'Interactive Dynamic Video',\n",
              "  'http://www.interactivedynamicvideo.com/',\n",
              "  '386',\n",
              "  '52',\n",
              "  'ne0phyte',\n",
              "  '8/4/2016 11:52'],\n",
              " ['10975351',\n",
              "  'How to Use Open Source and Shut the Fuck Up at the Same Time',\n",
              "  'http://hueniverse.com/2016/01/26/how-to-use-open-source-and-shut-the-fuck-up-at-the-same-time/',\n",
              "  '39',\n",
              "  '10',\n",
              "  'josep2',\n",
              "  '1/26/2016 19:30'],\n",
              " ['11964716',\n",
              "  \"Florida DJs May Face Felony for April Fools' Water Joke\",\n",
              "  'http://www.thewire.com/entertainment/2013/04/florida-djs-april-fools-water-joke/63798/',\n",
              "  '2',\n",
              "  '1',\n",
              "  'vezycash',\n",
              "  '6/23/2016 22:20'],\n",
              " ['11919867',\n",
              "  'Technology ventures: From Idea to Enterprise',\n",
              "  'https://www.amazon.com/Technology-Ventures-Enterprise-Thomas-Byers/dp/0073523429',\n",
              "  '3',\n",
              "  '1',\n",
              "  'hswarna',\n",
              "  '6/17/2016 0:01']]"
            ]
          },
          "metadata": {},
          "output_type": "display_data"
        }
      ]
    },
    {
      "cell_type": "code",
      "metadata": {
        "id": "kA5BCX9pLOXd",
        "outputId": "7eee2248-e23e-479d-b318-a821fc332bc5"
      },
      "source": [
        "# create a DataFrame from the imported file.\n",
        "df_hn = pd.read_csv('hacker_news.csv')\n",
        "print(df_hn.info())"
      ],
      "execution_count": null,
      "outputs": [
        {
          "name": "stdout",
          "output_type": "stream",
          "text": [
            "<class 'pandas.core.frame.DataFrame'>\n",
            "RangeIndex: 20100 entries, 0 to 20099\n",
            "Data columns (total 7 columns):\n",
            " #   Column        Non-Null Count  Dtype \n",
            "---  ------        --------------  ----- \n",
            " 0   id            20100 non-null  int64 \n",
            " 1   title         20100 non-null  object\n",
            " 2   url           17660 non-null  object\n",
            " 3   num_points    20100 non-null  int64 \n",
            " 4   num_comments  20100 non-null  int64 \n",
            " 5   author        20100 non-null  object\n",
            " 6   created_at    20100 non-null  object\n",
            "dtypes: int64(3), object(4)\n",
            "memory usage: 1.1+ MB\n",
            "None\n"
          ]
        }
      ]
    },
    {
      "cell_type": "code",
      "metadata": {
        "scrolled": false,
        "id": "eUG4E7YULOXe",
        "outputId": "99934dbf-922a-4cdf-dba5-ac312300aa2b"
      },
      "source": [
        "# Split the list into two files;\n",
        "# one with the header information only\n",
        "# and one excluding the header information.\n",
        "headers = hn_raw[0]\n",
        "hn_raw = hn_raw[1:]\n",
        "print(headers)\n",
        "print('\\n')\n",
        "display(hn_raw[:5])"
      ],
      "execution_count": null,
      "outputs": [
        {
          "name": "stdout",
          "output_type": "stream",
          "text": [
            "['id', 'title', 'url', 'num_points', 'num_comments', 'author', 'created_at']\n",
            "\n",
            "\n"
          ]
        },
        {
          "data": {
            "text/plain": [
              "[['12224879',\n",
              "  'Interactive Dynamic Video',\n",
              "  'http://www.interactivedynamicvideo.com/',\n",
              "  '386',\n",
              "  '52',\n",
              "  'ne0phyte',\n",
              "  '8/4/2016 11:52'],\n",
              " ['10975351',\n",
              "  'How to Use Open Source and Shut the Fuck Up at the Same Time',\n",
              "  'http://hueniverse.com/2016/01/26/how-to-use-open-source-and-shut-the-fuck-up-at-the-same-time/',\n",
              "  '39',\n",
              "  '10',\n",
              "  'josep2',\n",
              "  '1/26/2016 19:30'],\n",
              " ['11964716',\n",
              "  \"Florida DJs May Face Felony for April Fools' Water Joke\",\n",
              "  'http://www.thewire.com/entertainment/2013/04/florida-djs-april-fools-water-joke/63798/',\n",
              "  '2',\n",
              "  '1',\n",
              "  'vezycash',\n",
              "  '6/23/2016 22:20'],\n",
              " ['11919867',\n",
              "  'Technology ventures: From Idea to Enterprise',\n",
              "  'https://www.amazon.com/Technology-Ventures-Enterprise-Thomas-Byers/dp/0073523429',\n",
              "  '3',\n",
              "  '1',\n",
              "  'hswarna',\n",
              "  '6/17/2016 0:01'],\n",
              " ['10301696',\n",
              "  'Note by Note: The Making of Steinway L1037 (2007)',\n",
              "  'http://www.nytimes.com/2007/11/07/movies/07stein.html?_r=0',\n",
              "  '8',\n",
              "  '2',\n",
              "  'walterbell',\n",
              "  '9/30/2015 4:12']]"
            ]
          },
          "metadata": {},
          "output_type": "display_data"
        }
      ]
    },
    {
      "cell_type": "markdown",
      "metadata": {
        "id": "-D2KfHEKLOXe"
      },
      "source": [
        "## Observe Distribution of Comment Quantities per Post"
      ]
    },
    {
      "cell_type": "code",
      "metadata": {
        "id": "CDs5oWH1LOXe",
        "outputId": "76db8888-0c0b-42d4-d008-a795bd9229cc"
      },
      "source": [
        "# select column to chart.\n",
        "df1 = df_hn['num_comments']\n",
        "\n",
        "# use Seaborn coding to generate box and whisker plot. \n",
        "fig, ax = plt.subplots(figsize=(9,8))\n",
        "sns.boxplot(data=df1, width = 0.35, linewidth=2.5, palette='Blues',\n",
        "            showmeans=True, medianprops={'color':'red'}, meanprops={'marker':'o',\n",
        "            'markerfacecolor':'white', 'markeredgecolor':'black',\n",
        "            'markersize':'10'})\n",
        "plt.title('Boxplot of Comments per Hacker News Post', fontsize=20, pad=20)\n",
        "plt.xlabel('Hacker News Comments', fontsize=20, labelpad = 16)\n",
        "plt.yticks(fontsize=14)\n",
        "plt.tick_params(axis='x', which='both', bottom=False, labelbottom=False)\n",
        "\n",
        "plt.ylabel('Number of Comments per Post', fontsize=20, labelpad = 16)\n",
        "plt.show()"
      ],
      "execution_count": null,
      "outputs": [
        {
          "data": {
            "image/png": "[encoded data removed]",
            "text/plain": [
              "<Figure size 648x576 with 1 Axes>"
            ]
          },
          "metadata": {
            "needs_background": "light"
          },
          "output_type": "display_data"
        }
      ]
    },
    {
      "cell_type": "markdown",
      "metadata": {
        "id": "0xBYADWULOXf"
      },
      "source": [
        "## Executive Decision\n",
        "\n",
        "The box and whisker plot shows a fairly large quantity of outliers for number of comments per post. Since I will be calculating average comments per hour per post later in this project, I think it would be prudent to eliminate some of the outliers.\n",
        "\n",
        "**Outliers can easily distort calculated averages which I don't want to do since comparisons between averages will be made in this project.**\n",
        "\n",
        "Looking at the distribution above, I will make an executive decision and decide to remove values greater than 500. There will still be some outliers, but not as influential as the ones above 500."
      ]
    },
    {
      "cell_type": "code",
      "metadata": {
        "id": "oTLoHodpLOXf",
        "outputId": "128ef956-4a69-4417-e145-875a7fe36f5b"
      },
      "source": [
        "# select rows with comment quantities less than 501.\n",
        "for thing in hn_raw:\n",
        "    thing[4] = int(thing[4])\n",
        "hn = [item for item in hn_raw if item[4] < 501]\n",
        "\n",
        "display(hn[:3])"
      ],
      "execution_count": null,
      "outputs": [
        {
          "data": {
            "text/plain": [
              "[['12224879',\n",
              "  'Interactive Dynamic Video',\n",
              "  'http://www.interactivedynamicvideo.com/',\n",
              "  '386',\n",
              "  52,\n",
              "  'ne0phyte',\n",
              "  '8/4/2016 11:52'],\n",
              " ['10975351',\n",
              "  'How to Use Open Source and Shut the Fuck Up at the Same Time',\n",
              "  'http://hueniverse.com/2016/01/26/how-to-use-open-source-and-shut-the-fuck-up-at-the-same-time/',\n",
              "  '39',\n",
              "  10,\n",
              "  'josep2',\n",
              "  '1/26/2016 19:30'],\n",
              " ['11964716',\n",
              "  \"Florida DJs May Face Felony for April Fools' Water Joke\",\n",
              "  'http://www.thewire.com/entertainment/2013/04/florida-djs-april-fools-water-joke/63798/',\n",
              "  '2',\n",
              "  1,\n",
              "  'vezycash',\n",
              "  '6/23/2016 22:20']]"
            ]
          },
          "metadata": {},
          "output_type": "display_data"
        }
      ]
    },
    {
      "cell_type": "code",
      "metadata": {
        "id": "t0tHIkjMLOXg",
        "outputId": "3ee07afa-7f37-4cb0-a386-dc17676c2f77"
      },
      "source": [
        "# select column to chart.\n",
        "df_hn1 = df_hn[df_hn[\"num_comments\"] < 501]\n",
        "df2 = df_hn1[\"num_comments\"]\n",
        "\n",
        "# use Seaborn coding to generate box and whisker plot. \n",
        "fig, ax = plt.subplots(figsize=(9,8))\n",
        "sns.boxplot(data=df2, width = 0.35, linewidth=2.5, palette='Blues',\n",
        "            showmeans=True, medianprops={'color':'red'}, meanprops={'marker':'o',\n",
        "            'markerfacecolor':'white', 'markeredgecolor':'black',\n",
        "            'markersize':'10'})\n",
        "plt.title('Boxplot of Comments per Hacker News Post', fontsize=20, pad=20)\n",
        "plt.xlabel('Hacker News Comments', fontsize=20, labelpad = 18)\n",
        "plt.yticks(fontsize=14)\n",
        "plt.tick_params(axis='x', which='both', bottom=False, labelbottom=False)\n",
        "\n",
        "plt.ylabel('Number of Comments per Post', fontsize=20, labelpad = 18)\n",
        "plt.show()"
      ],
      "execution_count": null,
      "outputs": [
        {
          "data": {
            "image/png": "[encoded data removed]",
            "text/plain": [
              "<Figure size 648x576 with 1 Axes>"
            ]
          },
          "metadata": {
            "needs_background": "light"
          },
          "output_type": "display_data"
        }
      ]
    },
    {
      "cell_type": "markdown",
      "metadata": {
        "id": "xxq_UWSOLOXg"
      },
      "source": [
        "## Confirmed Data Clean Up\n",
        "\n",
        "The box plot above confirms comments per post quantities above 500 have been removed.\n",
        "\n",
        "Removing comment quantities per post above 500 only reduced the total question type posts by 0.3%. Regarding missing data, that I would say is not of concern in terms of potentially affecting the final conclusion."
      ]
    },
    {
      "cell_type": "code",
      "metadata": {
        "scrolled": true,
        "id": "d2nGfTsVLOXg",
        "outputId": "38eda0a8-e008-40a0-b8c2-3aa0fa18942d"
      },
      "source": [
        "# extract \"Ask HN\" and \"Show HN\" type posts.\n",
        "# quantify the number of each over.\n",
        "# include posts without \"Ask HN\", but that\n",
        "# have ? at end of statement.\n",
        "ask_posts = []\n",
        "show_posts = []\n",
        "question = []\n",
        "other_posts = []\n",
        "for row in hn:\n",
        "    title = row[1]\n",
        "    if title.lower().startswith('ask hn'):\n",
        "        ask_posts.append(row)\n",
        "    elif title.lower().startswith('show hn'):\n",
        "        show_posts.append(row)\n",
        "    elif title.lower().endswith('?') and \"ask hn\" not in question:\n",
        "        question.append(row) \n",
        "    else:\n",
        "        other_posts.append(row)\n",
        "    \n",
        "print('Total Ask HNs Posts = ', len(ask_posts), '\\n')  \n",
        "print('Total Show HNs Posts = ', len(show_posts), '\\n')\n",
        "print('Total Questions without Ask HN = ', len(question), '\\n')\n",
        "print('Total Other Posts = ', len(other_posts))"
      ],
      "execution_count": null,
      "outputs": [
        {
          "name": "stdout",
          "output_type": "stream",
          "text": [
            "Total Ask HNs Posts =  1738 \n",
            "\n",
            "Total Show HNs Posts =  1162 \n",
            "\n",
            "Total Questions without Ask HN =  1004 \n",
            "\n",
            "Total Other Posts =  16168\n"
          ]
        }
      ]
    },
    {
      "cell_type": "markdown",
      "metadata": {
        "id": "wfxh4eUJLOXh"
      },
      "source": [
        "## Ask HN, Show HN & Questions without Ask HN Totals\n",
        "\n",
        "The total quantity of Ask HN posts as shown above was 1738, while the total Show HN type posts was 1162.\n",
        "\n",
        "**<span style=\"color:red\">However, there are 1004 questions that do not include 'Ask HN'.</span>** I will check whether these questions look to be legitimate to consider adding to the ones that do include 'Ask HN'."
      ]
    },
    {
      "cell_type": "code",
      "metadata": {
        "id": "e-xUACxaLOXh",
        "outputId": "571b2883-c9f8-4a2d-ab66-8fd93e562d95"
      },
      "source": [
        "# print out first ten questions that do not include 'Ask HN'.\n",
        "display(Markdown('<h4><span style=\"color:blue\"> Questions with \\'Ask HN\\'  </span></h4>'))\n",
        "display([row[1] for row in ask_posts[:10]])\n",
        "display(Markdown('<h4><span style=\"color:blue\"> Questions without \\'Ask HN\\'  </span></h4>'))\n",
        "display([row[1] for row in question[:10]])"
      ],
      "execution_count": null,
      "outputs": [
        {
          "data": {
            "text/markdown": [
              "<h4><span style=\"color:blue\"> Questions with 'Ask HN'  </span></h4>"
            ],
            "text/plain": [
              "<IPython.core.display.Markdown object>"
            ]
          },
          "metadata": {},
          "output_type": "display_data"
        },
        {
          "data": {
            "text/plain": [
              "['Ask HN: How to improve my personal website?',\n",
              " 'Ask HN: Am I the only one outraged by Twitter shutting down share counts?',\n",
              " 'Ask HN: Aby recent changes to CSS that broke mobile?',\n",
              " 'Ask HN: Looking for Employee #3 How do I do it?',\n",
              " 'Ask HN: Someone offered to buy my browser extension from me. What now?',\n",
              " 'Ask HN: Limiting CPU, memory, and I/O usage on a program for testing',\n",
              " 'Ask HN: Which framework for a CRUD app in 2016?',\n",
              " 'Ask HN: Enter market with a well-funded competitor?',\n",
              " 'Ask HN: Do you use any realtime PaaS/framework and in case you so which one?',\n",
              " 'Ask HN: Is there a home Dropbox-style solution?  (better explanation inside)']"
            ]
          },
          "metadata": {},
          "output_type": "display_data"
        },
        {
          "data": {
            "text/markdown": [
              "<h4><span style=\"color:blue\"> Questions without 'Ask HN'  </span></h4>"
            ],
            "text/plain": [
              "<IPython.core.display.Markdown object>"
            ]
          },
          "metadata": {},
          "output_type": "display_data"
        },
        {
          "data": {
            "text/plain": [
              "['How often to update third party libraries?',\n",
              " \"Ten years later, did Boston's Big Dig deliver?\",\n",
              " 'When there are too many administrators, which ones do *you* fire?',\n",
              " 'Can Wall Street solve the water crisis in the West?',\n",
              " 'About What is happening with this world?',\n",
              " 'Which MacBook can code 8 hours without charging?',\n",
              " 'How do I provide value to my startup as a non-technical founder?',\n",
              " 'What is the best android emulator for mac os?',\n",
              " 'Who the f*ck is this Product Manager at my startup?',\n",
              " 'Need to list related videos along with their published date in YouTube?']"
            ]
          },
          "metadata": {},
          "output_type": "display_data"
        }
      ]
    },
    {
      "cell_type": "markdown",
      "metadata": {
        "id": "fpdWtGQxLOXi"
      },
      "source": [
        "## Questions without 'Ask HN'\n",
        "\n",
        "The ten questions shown above **<span style=\"color:red\">without</span>** the 'Ask HN' look to me to be just as legitimate as questions that include 'Ask HN'. They may be worth adding to the list of questions that include 'Ask HN'.\n",
        "\n",
        "I will determine whether to add those questions by comparing the average number of comments for each of the three post types."
      ]
    },
    {
      "cell_type": "markdown",
      "metadata": {
        "id": "6yyRPjT_LOXi"
      },
      "source": [
        "## Determine Average Number of Comments per Post Type"
      ]
    },
    {
      "cell_type": "code",
      "metadata": {
        "id": "8ncNF5mLLOXi",
        "outputId": "5a4ba00d-1d72-4e1f-f5e8-f913fec0e8ea"
      },
      "source": [
        "# calculate the average number of comments/responses\n",
        "# for each of the three types of posts.\n",
        "\n",
        "total_ask_comments = 0\n",
        "\n",
        "for row in ask_posts:\n",
        "    comments = int(row[4])\n",
        "    total_ask_comments = total_ask_comments + comments\n",
        "    \n",
        "avg_ask_comments = total_ask_comments / len(ask_posts)\n",
        "print('Total Ask Comments =', total_ask_comments)\n",
        "print('Average Ask Comments =', avg_ask_comments)\n",
        "print('Average Rounded Ask Comments =', round(avg_ask_comments))\n",
        "\n",
        "total_show_comments = 0\n",
        "\n",
        "for row in show_posts:\n",
        "    comments = int(row[4])\n",
        "    total_show_comments = total_show_comments + comments\n",
        "    \n",
        "avg_show_comments = total_show_comments / len(show_posts)\n",
        "print('\\n')\n",
        "print('Total Show Comments =', total_show_comments)\n",
        "print('Average Show Comments =', avg_show_comments)\n",
        "print('Average Rounded Show Comments =', round(avg_show_comments))\n",
        "\n",
        "question_comments = 0\n",
        "\n",
        "for row in question:\n",
        "    comments = int(row[4])\n",
        "    question_comments = question_comments + comments\n",
        "    \n",
        "avg_question_comments = question_comments / len(question)\n",
        "print('\\n')\n",
        "print('Total Question Comments =', question_comments)\n",
        "print('Average Question Comments =', avg_question_comments)\n",
        "print('Average Rounded Question Comments =', round(avg_question_comments))"
      ],
      "execution_count": null,
      "outputs": [
        {
          "name": "stdout",
          "output_type": "stream",
          "text": [
            "Total Ask Comments = 20033\n",
            "Average Ask Comments = 11.526467203682394\n",
            "Average Rounded Ask Comments = 12\n",
            "\n",
            "\n",
            "Total Show Comments = 11988\n",
            "Average Show Comments = 10.31669535283993\n",
            "Average Rounded Show Comments = 10\n",
            "\n",
            "\n",
            "Total Question Comments = 21586\n",
            "Average Question Comments = 21.5\n",
            "Average Rounded Question Comments = 22\n"
          ]
        }
      ]
    },
    {
      "cell_type": "markdown",
      "metadata": {
        "id": "yWLgr2rOLOXj"
      },
      "source": [
        "## VERY INTERESTING!!\n",
        "\n",
        "**<span style=\"color:red\">WOW! I find it very interesting that the average comments per 'question without 'Ask HN' is much greater than for questions that include 'Ask HN': <span style=\"color:blue\">22</span> vs. <span style=\"color:blue\">12</span> !!</span>**\n",
        "\n",
        "The average comments per 'Show HN' post is only **10**.\n",
        "\n",
        "I would expect a question posted to receive more responses or comments than a post associated with showing something. The individuals posting questions are looking for responses whereas individuals posting something to show are not necessarily looking for responses. Questions invite opportunities for debate among response contributors and may attract more people to respond or comment than would something to be shown on \"Hacker News\".\n",
        "\n",
        "Based on these findings I will limit the data analysis to 'question type' posts rather than 'show type' posts. I will focus on determining best time of day to post questions based on highest quantity of comments/responses at that time of day.\n",
        "\n",
        "**I will also combine the two types of question posts, with and without 'Ask HN' to increase the accuracy of the outcome.**  "
      ]
    },
    {
      "cell_type": "markdown",
      "metadata": {
        "id": "xbIXWXJ_LOXj"
      },
      "source": [
        "## Combine Ask Type Post Lists\n",
        "\n"
      ]
    },
    {
      "cell_type": "code",
      "metadata": {
        "id": "PQ_HqS3gLOXk",
        "outputId": "6485468e-6018-49d6-c37f-e8683797a57f"
      },
      "source": [
        "print('Questions with \\'Ask HN\\' = ', len(ask_posts), '\\n')\n",
        "print('Questions without \\'Ask HN\\' = ',len(question), '\\n')\n",
        "quest_posts = np.vstack((ask_posts, question))\n",
        "print('Total Questions =', len(quest_posts), '\\n')\n",
        "print(quest_posts)"
      ],
      "execution_count": null,
      "outputs": [
        {
          "name": "stdout",
          "output_type": "stream",
          "text": [
            "Questions with 'Ask HN' =  1738 \n",
            "\n",
            "Questions without 'Ask HN' =  1004 \n",
            "\n",
            "Total Questions = 2742 \n",
            "\n",
            "[['12296411' 'Ask HN: How to improve my personal website?' '' ... '6'\n",
            "  'ahmedbaracat' '8/16/2016 9:55']\n",
            " ['10610020'\n",
            "  'Ask HN: Am I the only one outraged by Twitter shutting down share counts?'\n",
            "  '' ... '29' 'tkfx' '11/22/2015 13:43']\n",
            " ['11610310' 'Ask HN: Aby recent changes to CSS that broke mobile?' ''\n",
            "  ... '1' 'polskibus' '5/2/2016 10:14']\n",
            " ...\n",
            " ['12252371' 'Is the U.S. Due for Radically Raising Taxes for the Rich?'\n",
            "  'http://www.theatlantic.com/business/archive/2016/08/is-america-due-for-a-tax-hike/494795/?single_page=true'\n",
            "  ... '1' 'JumpCrisscross' '8/9/2016 3:18']\n",
            " ['10469896' 'Is Tesla Doomed?'\n",
            "  'http://www.roadandtrack.com/car-culture/a26859/bob-lutz-tesla/' ...\n",
            "  '3' 'tomcam' '10/29/2015 9:10']\n",
            " ['10499089'\n",
            "  'I have $10,000 dollars in my bank account. Am I an entrepreneur?'\n",
            "  'https://medium.com/@sktgthill/i-have-10-000-dollars-in-my-bank-account-am-i-an-entrepreneur-d3fa3bf4ee61'\n",
            "  ... '1' 'thileepan' '11/3/2015 12:29']]\n"
          ]
        }
      ]
    },
    {
      "cell_type": "markdown",
      "metadata": {
        "id": "2v68fICTLOXk"
      },
      "source": [
        "## Calculate Average Comments per Hour for Each Question Post"
      ]
    },
    {
      "cell_type": "code",
      "metadata": {
        "scrolled": false,
        "id": "ze2YT_uKLOXk",
        "outputId": "7e2d04dd-3cea-4bb4-f552-4efad1d825d1"
      },
      "source": [
        "result_list = []\n",
        "\n",
        "for row in quest_posts:\n",
        "    created_at = row[6]\n",
        "    comments = int(row[4])\n",
        "    result_list.append([created_at,comments])\n",
        "\n",
        "print('\\n')\n",
        "print(result_list[:10], '\\n')\n",
        "    \n",
        "counts_by_hour = {}\n",
        "comments_by_hour = {}\n",
        "date_format = \"%m/%d/%Y %H:%M\"\n",
        "\n",
        "for row in result_list:\n",
        "    entry_date = row[0]\n",
        "    comments = row[1]\n",
        "    time = dt.datetime.strptime(entry_date, date_format).strftime(\"%H\")\n",
        "    if time in counts_by_hour:\n",
        "        counts_by_hour[time] += 1\n",
        "        comments_by_hour[time] += comments\n",
        "    else:\n",
        "        counts_by_hour[time] = 1\n",
        "        comments_by_hour[time] = comments\n",
        "        \n",
        "print(comments_by_hour, '\\n')\n",
        "print(counts_by_hour)\n",
        "\n",
        "# calculate the average number of comments per post for each hour.\n",
        "avg_by_hour = []\n",
        "\n",
        "for hour in counts_by_hour:\n",
        "    avg_by_hour.append([hour, comments_by_hour[hour] / counts_by_hour[hour]])\n",
        "    \n",
        "print('\\n')\n",
        "print('Average Comments by Hour')\n",
        "print('------------------------')\n",
        "\n",
        "for row in avg_by_hour:\n",
        "    hour = row[0]\n",
        "    average = row[1]\n",
        "    print(hour, round(average,2))       "
      ],
      "execution_count": null,
      "outputs": [
        {
          "name": "stdout",
          "output_type": "stream",
          "text": [
            "\n",
            "\n",
            "[['8/16/2016 9:55', 6], ['11/22/2015 13:43', 29], ['5/2/2016 10:14', 1], ['8/2/2016 14:20', 3], ['10/15/2015 16:38', 17], ['9/26/2015 23:23', 1], ['4/22/2016 12:24', 4], ['11/16/2015 9:22', 1], ['2/24/2016 17:57', 1], ['6/4/2016 17:17', 2]] \n",
            "\n",
            "{'09': 622, '13': 2436, '10': 1742, '14': 2665, '16': 2324, '23': 1802, '12': 1960, '17': 2533, '15': 3789, '21': 2395, '20': 2192, '02': 917, '18': 3606, '03': 993, '05': 1296, '19': 2155, '01': 1269, '22': 1427, '08': 1160, '04': 663, '00': 944, '06': 773, '07': 528, '11': 1428} \n",
            "\n",
            "{'09': 76, '13': 130, '10': 93, '14': 160, '16': 175, '23': 108, '12': 123, '17': 155, '15': 186, '21': 156, '20': 125, '02': 78, '18': 185, '03': 80, '05': 66, '19': 172, '01': 84, '22': 122, '08': 80, '04': 69, '00': 89, '06': 68, '07': 59, '11': 103}\n",
            "\n",
            "\n",
            "Average Comments by Hour\n",
            "------------------------\n",
            "09 8.18\n",
            "13 18.74\n",
            "10 18.73\n",
            "14 16.66\n",
            "16 13.28\n",
            "23 16.69\n",
            "12 15.93\n",
            "17 16.34\n",
            "15 20.37\n",
            "21 15.35\n",
            "20 17.54\n",
            "02 11.76\n",
            "18 19.49\n",
            "03 12.41\n",
            "05 19.64\n",
            "19 12.53\n",
            "01 15.11\n",
            "22 11.7\n",
            "08 14.5\n",
            "04 9.61\n",
            "00 10.61\n",
            "06 11.37\n",
            "07 8.95\n",
            "11 13.86\n"
          ]
        }
      ]
    },
    {
      "cell_type": "markdown",
      "metadata": {
        "id": "cstwG9ZgLOXk"
      },
      "source": [
        "## Average Comments per Ask HN Post by Hour\n",
        "\n",
        "We see in the above output the average comments per Ask HN post by hour. Neither the hours nor averages are in sequential order.\n",
        "\n",
        "The cell below is set up to change the average comments per hour from the second column to the first column by **\"swapping\"** and then to sort them from highest to lowest using the **\"sorted\"** function. This should make it a little easier to draw conclusions.  "
      ]
    },
    {
      "cell_type": "code",
      "metadata": {
        "scrolled": false,
        "id": "MbHcBZFALOXl",
        "outputId": "d8a4d41f-f389-4cd7-be0c-ca54a9ed7512"
      },
      "source": [
        "sorted_by_hour = sorted(avg_by_hour)\n",
        "print(sorted_by_hour)\n",
        "\n",
        "swap_avg_by_hour = []\n",
        "\n",
        "for row in avg_by_hour:\n",
        "    swap_avg_by_hour.append([row[1], row[0]])\n",
        "sorted_swap = sorted(swap_avg_by_hour, reverse=True)\n",
        "\n",
        "print('\\n')\n",
        "print(sorted_swap)\n",
        "print('\\n')\n",
        "time_format = \"%H\"\n",
        "\n",
        "print('Top 5 Hours for Ask Posts Comments Across All Days of Week ')\n",
        "print('-----------------------------------------------------------')\n",
        "for top_5_hours in sorted_swap[:5]:\n",
        "    avg_comments = top_5_hours[0]\n",
        "    hour = top_5_hours[1]\n",
        "    hour1 = dt.datetime.strptime(hour, time_format).strftime(\"%H:%M\")\n",
        "    print(hour1, round(avg_comments,2), ' average comments per post')\n"
      ],
      "execution_count": null,
      "outputs": [
        {
          "name": "stdout",
          "output_type": "stream",
          "text": [
            "[['00', 10.606741573033707], ['01', 15.107142857142858], ['02', 11.756410256410257], ['03', 12.4125], ['04', 9.608695652173912], ['05', 19.636363636363637], ['06', 11.367647058823529], ['07', 8.94915254237288], ['08', 14.5], ['09', 8.18421052631579], ['10', 18.731182795698924], ['11', 13.864077669902912], ['12', 15.934959349593496], ['13', 18.73846153846154], ['14', 16.65625], ['15', 20.370967741935484], ['16', 13.28], ['17', 16.34193548387097], ['18', 19.491891891891893], ['19', 12.529069767441861], ['20', 17.536], ['21', 15.352564102564102], ['22', 11.69672131147541], ['23', 16.685185185185187]]\n",
            "\n",
            "\n",
            "[[20.370967741935484, '15'], [19.636363636363637, '05'], [19.491891891891893, '18'], [18.73846153846154, '13'], [18.731182795698924, '10'], [17.536, '20'], [16.685185185185187, '23'], [16.65625, '14'], [16.34193548387097, '17'], [15.934959349593496, '12'], [15.352564102564102, '21'], [15.107142857142858, '01'], [14.5, '08'], [13.864077669902912, '11'], [13.28, '16'], [12.529069767441861, '19'], [12.4125, '03'], [11.756410256410257, '02'], [11.69672131147541, '22'], [11.367647058823529, '06'], [10.606741573033707, '00'], [9.608695652173912, '04'], [8.94915254237288, '07'], [8.18421052631579, '09']]\n",
            "\n",
            "\n",
            "Top 5 Hours for Ask Posts Comments Across All Days of Week \n",
            "-----------------------------------------------------------\n",
            "15:00 20.37  average comments per post\n",
            "05:00 19.64  average comments per post\n",
            "18:00 19.49  average comments per post\n",
            "13:00 18.74  average comments per post\n",
            "10:00 18.73  average comments per post\n"
          ]
        }
      ]
    },
    {
      "cell_type": "markdown",
      "metadata": {
        "id": "8wi3iolsLOXl"
      },
      "source": [
        "## Top 5 Peak Hours for Comments per Question Post\n",
        "\n",
        "The top 5 hours with highest average comments per Ask HN post are shown above.\n",
        "\n",
        "The top average comments per post (20.37) occurs at the 15:00 hour of the day (3:00 pm), which really means between 3:00 PM and 4:00 PM. According to the data set [documentation](https://www.kaggle.com/hacker-news/hacker-news-posts/home, 'documentation'), the time zone used in Hacker News is Eastern Time in the US. This would make sense to me if the majority of the responders by comment are in the school age range. That time period is about when students get out of school. However, the age of responders is not given in this data set.\n",
        "\n",
        "Let's take a visual look at the distribution of average comments per hour per question post by means of a histogram. Oftentimes, a picture is worth a thousand words!"
      ]
    },
    {
      "cell_type": "code",
      "metadata": {
        "scrolled": false,
        "id": "XQ7LC3LBLOXm",
        "outputId": "1970e866-b7e4-40f0-e8d1-edc80c3babf9"
      },
      "source": [
        "# convert list of lists to DataFrame.\n",
        "df = pd.DataFrame(sorted_by_hour)\n",
        "\n",
        "# plot bar chart to simulate histogram.\n",
        "df.columns = [\"Hour\", \"Average Comments per Hour\"]\n",
        "x = df[\"Hour\"]\n",
        "y = df[\"Average Comments per Hour\"]\n",
        "fig, ax = plt.subplots(figsize=(14,8))\n",
        "plt.bar(x,y,align='center', ec='black', color='silver')\n",
        "plt.title('Distribution of Average Comments per Post by Hour of Day', fontsize=18, pad=15)\n",
        "plt.xlabel('Hour of the Day', fontsize=16, labelpad=15)\n",
        "plt.ylabel('Average Comments per Post', fontsize=16, labelpad=15)\n",
        "plt.show()"
      ],
      "execution_count": null,
      "outputs": [
        {
          "data": {
            "image/png": "[encoded data removed]",
            "text/plain": [
              "<Figure size 1008x576 with 1 Axes>"
            ]
          },
          "metadata": {
            "needs_background": "light"
          },
          "output_type": "display_data"
        }
      ]
    },
    {
      "cell_type": "markdown",
      "metadata": {
        "id": "jo7iVdEOLOXm"
      },
      "source": [
        "## Conclusions?\n",
        "\n",
        "The histogram shows the primary mode at 15 which relates to 15:00 or 3:00 PM. However, it also shows that there are other modes not much less than the one at 3:00 (5:00 AM, 10:00 AM, 1:00 PM, 6:00 PM & 8:00 PM). **<span style=\"color:red\">It's very possible that this distribution relates to a multi-modal one.</span>** \n",
        "\n",
        "**<span style=\"color:red\">NOTE:</span>** The primary mode at 3:00 PM to 4:00 PM is the peak period for average comment volume per post, **regardless of day of the week!** Since we have a multi-modal distribution here, this may not be true for each day of the week, especially Saturday and Sunday since school is not attended on the weekend. This causes me to suspect that **<span style=\"color:blue\">day of the week</span>** matters regarding top hour for highest average comments per post.\n",
        "\n",
        "**This begs me to Dig Deeper and break out the data by Day as well!**\n",
        "\n",
        "**I will also investigate whether time of year makes a difference, comparing during school season vs. during summer when students are out of school. I based school season on the information provided via Google search: \"generally, the academic year runs from early September to the end of May.\"**"
      ]
    },
    {
      "cell_type": "markdown",
      "metadata": {
        "id": "5zMxRLLcLOXn"
      },
      "source": [
        "# Digging Deeper\n"
      ]
    },
    {
      "cell_type": "code",
      "metadata": {
        "id": "1L1pvlxtLOXn",
        "outputId": "ad41d947-5f0f-4a75-ce9e-f0e857b89f8f"
      },
      "source": [
        "# this cell is set up to call out day of the week in format\n",
        "# ('Monday', 'Tuesday' ...) and calculate number of posts\n",
        "# and number of comments by day of the week.\n",
        "# then I use the same procedures as in a previous cell further\n",
        "# above to calculate average number of comments per post by day.\n",
        "\n",
        "counts_by_day = {}\n",
        "comments_by_day = {}\n",
        "date_format = \"%m/%d/%Y %H:%M\"\n",
        "\n",
        "for row in result_list:\n",
        "    entry_date = row[0]\n",
        "    comments = row[1]\n",
        "    day = dt.datetime.strptime(entry_date, date_format).strftime(\"%A\")\n",
        "    if day in counts_by_day:\n",
        "        counts_by_day[day] += 1\n",
        "        comments_by_day[day] += comments\n",
        "    else:\n",
        "        counts_by_day[day] = 1\n",
        "        comments_by_day[day] = comments\n",
        "        \n",
        "print('\\n')\n",
        "print(comments_by_day, '\\n')\n",
        "print(counts_by_day, '\\n')\n",
        "\n",
        "avg_by_day = []\n",
        "\n",
        "for day in counts_by_day:\n",
        "    avg_by_day.append([day, comments_by_day[day] / counts_by_day[day]])\n",
        "    \n",
        "print(avg_by_day)"
      ],
      "execution_count": null,
      "outputs": [
        {
          "name": "stdout",
          "output_type": "stream",
          "text": [
            "\n",
            "\n",
            "{'Tuesday': 7600, 'Sunday': 5394, 'Monday': 4981, 'Thursday': 5797, 'Saturday': 4460, 'Friday': 6823, 'Wednesday': 6564} \n",
            "\n",
            "{'Tuesday': 475, 'Sunday': 260, 'Monday': 422, 'Thursday': 415, 'Saturday': 300, 'Friday': 413, 'Wednesday': 457} \n",
            "\n",
            "[['Tuesday', 16.0], ['Sunday', 20.746153846153845], ['Monday', 11.803317535545023], ['Thursday', 13.96867469879518], ['Saturday', 14.866666666666667], ['Friday', 16.520581113801452], ['Wednesday', 14.36323851203501]]\n"
          ]
        }
      ]
    },
    {
      "cell_type": "markdown",
      "metadata": {
        "id": "qhR3YpquLOXn"
      },
      "source": [
        "## Average Number of Comments per Post by Day\n",
        "\n",
        "Looking at the total number of comments per day, we see that the minimum quantity (sample size) is reasonably high (4460) to break down the results by hour within each day and draw conclusions from that.\n",
        "\n",
        "It's interesting that the number of posts per day is lowest on Saturday and Sunday. Average comments per post within each day is highest for Tuesday, Friday, and Sunday."
      ]
    },
    {
      "cell_type": "code",
      "metadata": {
        "scrolled": false,
        "id": "rw9x73WbLOXn",
        "outputId": "d41e27c6-3398-43b4-fe09-6bb1a7de154d"
      },
      "source": [
        "# this cell is set up to break out post date into date and hour and then\n",
        "# create a list with 3 elements: date, hour and comment qty.\n",
        "# then, loops are set up separately within each day ('Monday', 'Tuesday' ...)\n",
        "# to determine average number of comments per post by hour within each day.\n",
        "import datetime as dt\n",
        "results_list2 = []\n",
        "for row in ask_posts:\n",
        "    created_at = row[6]\n",
        "    date, time = created_at.split()\n",
        "    comments = int(row[4])\n",
        "    results_list2.append([date, time, comments])\n",
        "\n",
        "print('\\n')\n",
        "print(results_list2[:10])\n",
        "print('\\n')\n",
        "\n",
        "date_format = \"%m/%d/%Y\"\n",
        "hour_format = \"%H:%M\"\n",
        "results_list3 = []\n",
        "\n",
        "for row in results_list2:\n",
        "    entry_date = row[0]\n",
        "    entry_hour = row[1]\n",
        "    comments = row[2]\n",
        "    date2 = dt.datetime.strptime(entry_date, date_format).strftime(\"%A\")\n",
        "    hour2 = dt.datetime.strptime(entry_hour, hour_format).strftime(\"%H\")\n",
        "    results_list3.append([date2, hour2, comments])\n",
        "    \n",
        "print(results_list3[:10]) \n",
        "\n",
        "counts_by_Mon = {}\n",
        "comments_by_Mon = {}\n",
        "results_Mon = []\n",
        "\n",
        "for row in results_list3:\n",
        "    if row[0] == 'Monday':\n",
        "        hour = row[1]\n",
        "        commentsm = row[2]\n",
        "        results_Mon.append([hour, commentsm])\n",
        "    else:\n",
        "        data = 0\n",
        "    \n",
        "for row in results_Mon:\n",
        "    hour3 = row[0]\n",
        "    comments3 = row[1]\n",
        "    if hour3 in counts_by_Mon:\n",
        "        counts_by_Mon[hour3] += 1\n",
        "        comments_by_Mon[hour3] += comments3\n",
        "    else:\n",
        "        counts_by_Mon[hour3] = 1\n",
        "        comments_by_Mon[hour3] = comments3\n",
        "        \n",
        "avg_by_hour_Mon = []\n",
        "\n",
        "for hour in counts_by_Mon:\n",
        "    avg_by_hour_Mon.append([hour, comments_by_Mon[hour] / counts_by_Mon[hour]])\n",
        "    \n",
        "print('\\n')\n",
        "for hour in avg_by_hour_Mon:\n",
        "    sorted_by_Mon = sorted(avg_by_hour_Mon)\n",
        "\n",
        "time_format = \"%H\"    \n",
        "\n",
        "print('Average Comments by Hour on Mondays')\n",
        "print('-----------------------------------')    \n",
        "for row in sorted_by_Mon:\n",
        "    hour = row[0]\n",
        "    hour1 = dt.datetime.strptime(hour, time_format).strftime(\"%H:%M\")\n",
        "    avg_comments = row[1]\n",
        "    print(hour1, round(avg_comments,2))\n",
        "\n",
        "counts_by_Tue = {}\n",
        "comments_by_Tue = {}\n",
        "results_Tue = []\n",
        "\n",
        "for row in results_list3:\n",
        "    if row[0] == 'Tuesday':\n",
        "        hour = row[1]\n",
        "        commentsm = row[2]\n",
        "        results_Tue.append([hour, commentsm])\n",
        "    else:\n",
        "        data = 0\n",
        "\n",
        "for row in results_Tue:\n",
        "    hour3 = row[0]\n",
        "    comments3 = row[1]\n",
        "    if hour3 in counts_by_Tue:\n",
        "        counts_by_Tue[hour3] += 1\n",
        "        comments_by_Tue[hour3] += comments3\n",
        "    else:\n",
        "        counts_by_Tue[hour3] = 1\n",
        "        comments_by_Tue[hour3] = comments3\n",
        "    \n",
        "avg_by_hour_Tue = []\n",
        "\n",
        "for hour in counts_by_Tue:\n",
        "    avg_by_hour_Tue.append([hour, comments_by_Tue[hour] / counts_by_Tue[hour]])\n",
        "    \n",
        "print('\\n')\n",
        "for hour in avg_by_hour_Tue:\n",
        "    sorted_by_Tue = sorted(avg_by_hour_Tue)\n",
        "\n",
        "print('Average Comments by Hour on Tuesdays')\n",
        "print('------------------------------------')    \n",
        "for row in sorted_by_Tue:\n",
        "    hour = row[0]\n",
        "    hour1 = dt.datetime.strptime(hour, time_format).strftime(\"%H:%M\")\n",
        "    avg_comments = row[1]\n",
        "    print(hour1, round(avg_comments,2))\n",
        "\n",
        "counts_by_Wed = {}\n",
        "comments_by_Wed = {}    \n",
        "results_Wed = []\n",
        "\n",
        "for row in results_list3:\n",
        "    if row[0] == 'Wednesday':\n",
        "        hour = row[1]\n",
        "        commentsm = row[2]\n",
        "        results_Wed.append([hour, commentsm])\n",
        "    else:\n",
        "        data = 0\n",
        "\n",
        "\n",
        "for row in results_Wed:\n",
        "    hour3 = row[0]\n",
        "    comments3 = row[1]\n",
        "    if hour3 in counts_by_Wed:\n",
        "        counts_by_Wed[hour3] += 1\n",
        "        comments_by_Wed[hour3] += comments3\n",
        "    else:\n",
        "        counts_by_Wed[hour3] = 1\n",
        "        comments_by_Wed[hour3] = comments3\n",
        "\n",
        "avg_by_hour_Wed = []\n",
        "\n",
        "for hour in counts_by_Wed:\n",
        "    avg_by_hour_Wed.append([hour, comments_by_Wed[hour] / counts_by_Wed[hour]])\n",
        "    \n",
        "print('\\n')\n",
        "for hour in avg_by_hour_Wed:\n",
        "    sorted_by_Wed = sorted(avg_by_hour_Wed)\n",
        "\n",
        "print('Average Comments by Hour on Wednesdays')\n",
        "print('--------------------------------------')    \n",
        "for row in sorted_by_Wed:\n",
        "    hour = row[0]\n",
        "    hour1 = dt.datetime.strptime(hour, time_format).strftime(\"%H:%M\")\n",
        "    avg_comments = row[1]\n",
        "    print(hour1, round(avg_comments,2))\n",
        "\n",
        "\n",
        "counts_by_Thur = {}\n",
        "comments_by_Thur = {}\n",
        "results_Thur = []\n",
        "\n",
        "for row in results_list3:\n",
        "    if row[0] == 'Thursday':\n",
        "        hour = row[1]\n",
        "        commentsm = row[2]\n",
        "        results_Thur.append([hour, commentsm])\n",
        "    else:\n",
        "        data = 0\n",
        "\n",
        "\n",
        "for row in results_Thur:\n",
        "    hour3 = row[0]\n",
        "    comments3 = row[1]\n",
        "    if hour3 in counts_by_Thur:\n",
        "        counts_by_Thur[hour3] += 1\n",
        "        comments_by_Thur[hour3] += comments3\n",
        "    else:\n",
        "        counts_by_Thur[hour3] = 1\n",
        "        comments_by_Thur[hour3] = comments3\n",
        "\n",
        "avg_by_hour_Thur = []\n",
        "\n",
        "for hour in counts_by_Thur:\n",
        "    avg_by_hour_Thur.append([hour, comments_by_Thur[hour] / counts_by_Thur[hour]])\n",
        "    \n",
        "print('\\n')\n",
        "for hour in avg_by_hour_Thur:\n",
        "    sorted_by_Thur = sorted(avg_by_hour_Thur)\n",
        "\n",
        "print('Average Comments by Hour on Thursdays')\n",
        "print('-------------------------------------')    \n",
        "for row in sorted_by_Thur:\n",
        "    hour = row[0]\n",
        "    hour1 = dt.datetime.strptime(hour, time_format).strftime(\"%H:%M\")\n",
        "    avg_comments = row[1]\n",
        "    print(hour1, round(avg_comments,2))\n",
        "\n",
        "counts_by_Fri = {}\n",
        "comments_by_Fri = {}\n",
        "results_Fri = []\n",
        "\n",
        "for row in results_list3:\n",
        "    if row[0] == 'Friday':\n",
        "        hour = row[1]\n",
        "        commentsm = row[2]\n",
        "        results_Fri.append([hour, commentsm])\n",
        "    else:\n",
        "        data = 0\n",
        "\n",
        "for row in results_Fri:\n",
        "    hour3 = row[0]\n",
        "    comments3 = row[1]\n",
        "    if hour3 in counts_by_Fri:\n",
        "        counts_by_Fri[hour3] += 1\n",
        "        comments_by_Fri[hour3] += comments3\n",
        "    else:\n",
        "        counts_by_Fri[hour3] = 1\n",
        "        comments_by_Fri[hour3] = comments3\n",
        "\n",
        "avg_by_hour_Fri = []\n",
        "\n",
        "for hour in counts_by_Fri:\n",
        "    avg_by_hour_Fri.append([hour, comments_by_Fri[hour] / counts_by_Fri[hour]])\n",
        "    \n",
        "print('\\n')\n",
        "for hour in avg_by_hour_Fri:\n",
        "    sorted_by_Fri = sorted(avg_by_hour_Fri)\n",
        "\n",
        "print('Average Comments by Hour on Fridays')\n",
        "print('-----------------------------------')    \n",
        "for row in sorted_by_Fri:\n",
        "    hour = row[0]\n",
        "    hour1 = dt.datetime.strptime(hour, time_format).strftime(\"%H:%M\")\n",
        "    avg_comments = row[1]\n",
        "    print(hour1, round(avg_comments,2))\n",
        "        \n",
        "counts_by_Sat = {}\n",
        "comments_by_Sat = {}\n",
        "results_Sat = []\n",
        "\n",
        "for row in results_list3:\n",
        "    if row[0] == 'Saturday':\n",
        "        hour = row[1]\n",
        "        commentsm = row[2]\n",
        "        results_Sat.append([hour, commentsm])\n",
        "    else:\n",
        "        data = 0\n",
        "\n",
        "for row in results_Sat:\n",
        "    hour3 = row[0]\n",
        "    comments3 = row[1]\n",
        "    if hour3 in counts_by_Sat:\n",
        "        counts_by_Sat[hour3] += 1\n",
        "        comments_by_Sat[hour3] += comments3\n",
        "    else:\n",
        "        counts_by_Sat[hour3] = 1\n",
        "        comments_by_Sat[hour3] = comments3\n",
        "\n",
        "avg_by_hour_Sat = []\n",
        "\n",
        "for hour in counts_by_Sat:\n",
        "    avg_by_hour_Sat.append([hour, comments_by_Sat[hour] / counts_by_Sat[hour]])\n",
        "    \n",
        "print('\\n')\n",
        "for hour in avg_by_hour_Sat:\n",
        "    sorted_by_Sat = sorted(avg_by_hour_Sat)\n",
        "\n",
        "print('Average Comments by Hour on Saturdays')\n",
        "print('-------------------------------------')    \n",
        "for row in sorted_by_Sat:\n",
        "    hour = row[0]\n",
        "    hour1 = dt.datetime.strptime(hour, time_format).strftime(\"%H:%M\")\n",
        "    avg_comments = row[1]\n",
        "    print(hour1, round(avg_comments,2))\n",
        "        \n",
        "counts_by_Sun = {}\n",
        "comments_by_Sun = {}\n",
        "results_Sun = []\n",
        "\n",
        "for row in results_list3:\n",
        "    if row[0] == 'Sunday':\n",
        "        hour = row[1]\n",
        "        commentsm = row[2]\n",
        "        results_Sun.append([hour, commentsm])\n",
        "    else:\n",
        "        data = 0\n",
        "\n",
        "for row in results_Sun:\n",
        "    hour3 = row[0]\n",
        "    comments3 = row[1]\n",
        "    if hour3 in counts_by_Sun:\n",
        "        counts_by_Sun[hour3] += 1\n",
        "        comments_by_Sun[hour3] += comments3\n",
        "    else:\n",
        "        counts_by_Sun[hour3] = 1\n",
        "        comments_by_Sun[hour3] = comments3\n",
        "\n",
        "avg_by_hour_Sun = []\n",
        "\n",
        "for hour in counts_by_Sun:\n",
        "    avg_by_hour_Sun.append([hour, comments_by_Sun[hour] / counts_by_Sun[hour]])\n",
        "    \n",
        "print('\\n')\n",
        "for hour in avg_by_hour_Sun:\n",
        "    sorted_by_Sun = sorted(avg_by_hour_Sun)\n",
        "\n",
        "print('Average Comments by Hour on Sundays')\n",
        "print('-----------------------------------')    \n",
        "for row in sorted_by_Sun:\n",
        "    hour = row[0]\n",
        "    hour1 = dt.datetime.strptime(hour, time_format).strftime(\"%H:%M\")\n",
        "    avg_comments = row[1]\n",
        "    print(hour1, round(avg_comments,2))"
      ],
      "execution_count": null,
      "outputs": [
        {
          "name": "stdout",
          "output_type": "stream",
          "text": [
            "\n",
            "\n",
            "[['8/16/2016', '9:55', 6], ['11/22/2015', '13:43', 29], ['5/2/2016', '10:14', 1], ['8/2/2016', '14:20', 3], ['10/15/2015', '16:38', 17], ['9/26/2015', '23:23', 1], ['4/22/2016', '12:24', 4], ['11/16/2015', '9:22', 1], ['2/24/2016', '17:57', 1], ['6/4/2016', '17:17', 2]]\n",
            "\n",
            "\n",
            "[['Tuesday', '09', 6], ['Sunday', '13', 29], ['Monday', '10', 1], ['Tuesday', '14', 3], ['Thursday', '16', 17], ['Saturday', '23', 1], ['Friday', '12', 4], ['Monday', '09', 1], ['Wednesday', '17', 1], ['Saturday', '17', 2]]\n",
            "\n",
            "\n",
            "Average Comments by Hour on Mondays\n",
            "-----------------------------------\n",
            "00:00 9.4\n",
            "01:00 10.5\n",
            "02:00 3.6\n",
            "03:00 7.0\n",
            "04:00 8.5\n",
            "05:00 2.9\n",
            "06:00 19.71\n",
            "07:00 6.64\n",
            "08:00 8.43\n",
            "09:00 5.0\n",
            "10:00 17.33\n",
            "11:00 5.71\n",
            "12:00 11.0\n",
            "13:00 5.92\n",
            "14:00 10.25\n",
            "15:00 36.5\n",
            "16:00 5.52\n",
            "17:00 6.62\n",
            "18:00 7.62\n",
            "19:00 6.83\n",
            "20:00 3.45\n",
            "21:00 11.8\n",
            "22:00 4.6\n",
            "23:00 5.67\n",
            "\n",
            "\n",
            "Average Comments by Hour on Tuesdays\n",
            "------------------------------------\n",
            "00:00 2.85\n",
            "01:00 17.33\n",
            "02:00 7.87\n",
            "03:00 10.0\n",
            "04:00 8.75\n",
            "05:00 2.33\n",
            "06:00 3.4\n",
            "07:00 2.6\n",
            "08:00 3.86\n",
            "09:00 2.56\n",
            "10:00 8.75\n",
            "11:00 6.0\n",
            "12:00 5.43\n",
            "13:00 21.08\n",
            "14:00 14.5\n",
            "15:00 22.24\n",
            "16:00 5.08\n",
            "17:00 7.11\n",
            "18:00 28.56\n",
            "19:00 5.06\n",
            "20:00 17.33\n",
            "21:00 7.8\n",
            "22:00 10.93\n",
            "23:00 4.1\n",
            "\n",
            "\n",
            "Average Comments by Hour on Wednesdays\n",
            "--------------------------------------\n",
            "00:00 10.0\n",
            "01:00 5.2\n",
            "02:00 6.46\n",
            "03:00 5.6\n",
            "04:00 2.5\n",
            "05:00 27.6\n",
            "06:00 16.14\n",
            "07:00 16.17\n",
            "08:00 17.89\n",
            "09:00 11.57\n",
            "10:00 10.78\n",
            "11:00 3.57\n",
            "12:00 17.0\n",
            "13:00 27.21\n",
            "14:00 15.47\n",
            "15:00 25.72\n",
            "16:00 9.91\n",
            "17:00 5.47\n",
            "18:00 7.33\n",
            "19:00 6.05\n",
            "20:00 10.91\n",
            "21:00 12.29\n",
            "22:00 6.07\n",
            "23:00 8.3\n",
            "\n",
            "\n",
            "Average Comments by Hour on Thursdays\n",
            "-------------------------------------\n",
            "00:00 11.89\n",
            "01:00 10.73\n",
            "02:00 3.6\n",
            "03:00 10.36\n",
            "04:00 5.11\n",
            "05:00 9.0\n",
            "06:00 6.8\n",
            "07:00 2.5\n",
            "08:00 3.29\n",
            "09:00 2.71\n",
            "10:00 8.33\n",
            "11:00 40.71\n",
            "12:00 6.5\n",
            "13:00 12.44\n",
            "14:00 8.74\n",
            "15:00 13.28\n",
            "16:00 8.73\n",
            "17:00 6.77\n",
            "18:00 19.5\n",
            "19:00 4.43\n",
            "20:00 7.5\n",
            "21:00 5.73\n",
            "22:00 3.77\n",
            "23:00 6.56\n",
            "\n",
            "\n",
            "Average Comments by Hour on Fridays\n",
            "-----------------------------------\n",
            "00:00 5.0\n",
            "01:00 10.75\n",
            "02:00 17.89\n",
            "03:00 8.78\n",
            "04:00 6.0\n",
            "05:00 16.38\n",
            "06:00 6.75\n",
            "07:00 2.5\n",
            "08:00 8.17\n",
            "09:00 6.2\n",
            "10:00 18.67\n",
            "11:00 4.14\n",
            "12:00 9.79\n",
            "13:00 4.64\n",
            "14:00 6.0\n",
            "15:00 38.8\n",
            "16:00 8.89\n",
            "17:00 18.72\n",
            "18:00 7.18\n",
            "19:00 18.89\n",
            "20:00 45.85\n",
            "21:00 4.6\n",
            "22:00 9.44\n",
            "23:00 6.77\n",
            "\n",
            "\n",
            "Average Comments by Hour on Saturdays\n",
            "-------------------------------------\n",
            "00:00 5.25\n",
            "01:00 15.29\n",
            "02:00 10.88\n",
            "03:00 5.25\n",
            "04:00 8.83\n",
            "05:00 4.14\n",
            "06:00 4.1\n",
            "07:00 9.33\n",
            "08:00 7.2\n",
            "09:00 11.2\n",
            "10:00 10.75\n",
            "11:00 3.71\n",
            "12:00 8.29\n",
            "13:00 7.2\n",
            "14:00 20.91\n",
            "15:00 17.0\n",
            "16:00 13.0\n",
            "17:00 7.2\n",
            "18:00 16.0\n",
            "19:00 9.6\n",
            "20:00 8.67\n",
            "21:00 26.0\n",
            "22:00 3.25\n",
            "23:00 4.12\n",
            "\n",
            "\n",
            "Average Comments by Hour on Sundays\n",
            "-----------------------------------\n",
            "00:00 53.0\n",
            "01:00 12.33\n",
            "02:00 13.5\n",
            "03:00 9.0\n",
            "04:00 8.67\n",
            "05:00 17.25\n",
            "06:00 4.5\n",
            "07:00 9.2\n",
            "08:00 19.57\n",
            "09:00 2.62\n",
            "10:00 36.75\n",
            "11:00 19.88\n",
            "12:00 9.86\n",
            "13:00 11.43\n",
            "14:00 23.4\n",
            "15:00 3.83\n",
            "16:00 41.86\n",
            "17:00 36.22\n",
            "18:00 6.89\n",
            "19:00 25.54\n",
            "20:00 4.1\n",
            "21:00 13.09\n",
            "22:00 6.17\n",
            "23:00 28.5\n"
          ]
        }
      ]
    },
    {
      "cell_type": "code",
      "metadata": {
        "id": "8H8f8iYjLOXq",
        "outputId": "fbaee36d-55b1-4897-b8ef-db493fe847ef"
      },
      "source": [
        "# convert list of lists for each day to DataFrames.\n",
        "df_Mon = pd.DataFrame(sorted_by_Mon)\n",
        "df_Mon.columns = [\"Hour\", \"Monday\"]\n",
        "df_Tue = pd.DataFrame(sorted_by_Tue)\n",
        "df_Tue.columns = [\"Hour\", \"Tuesday\"]\n",
        "df_Wed = pd.DataFrame(sorted_by_Wed)\n",
        "df_Wed.columns = [\"Hour\", \"Wednesday\"]\n",
        "df_Thur = pd.DataFrame(sorted_by_Thur)\n",
        "df_Thur.columns = [\"Hour\", \"Thursday\"]\n",
        "df_Fri = pd.DataFrame(sorted_by_Fri)\n",
        "df_Fri.columns = [\"Hour\", \"Friday\"]\n",
        "df_Sat = pd.DataFrame(sorted_by_Sat)\n",
        "df_Sat.columns = [\"Hour\", \"Saturday\"]\n",
        "df_Sun = pd.DataFrame(sorted_by_Sun)\n",
        "df_Sun.columns = [\"Hour\", \"Sunday\"]\n",
        "\n",
        "df_Mon['Hour'] = df_Mon['Hour'].astype(int)\n",
        "df_Tue['Hour'] = df_Tue['Hour'].astype(int)\n",
        "df_Wed['Hour'] = df_Wed['Hour'].astype(int)\n",
        "df_Thur['Hour'] = df_Thur['Hour'].astype(int)\n",
        "df_Fri['Hour'] = df_Fri['Hour'].astype(int)\n",
        "df_Sat['Hour'] = df_Sat['Hour'].astype(int)\n",
        "df_Sun['Hour'] = df_Sun['Hour'].astype(int)\n",
        "\n",
        "df_combined = pd.DataFrame()\n",
        "df_combined['Hour'] = df_Mon['Hour']\n",
        "df_combined['Monday'] = df_Mon['Monday']\n",
        "df_combined['Tuesday'] = df_Tue['Tuesday']\n",
        "df_combined['Wednesday'] = df_Wed['Wednesday']\n",
        "df_combined['Thursday'] = df_Thur['Thursday']\n",
        "df_combined['Friday'] = df_Fri['Friday']\n",
        "df_combined['Saturday'] = df_Sat['Saturday']\n",
        "df_combined['Sunday'] = df_Sun['Sunday']\n",
        "\n",
        "display(df_combined.head())"
      ],
      "execution_count": null,
      "outputs": [
        {
          "data": {
            "text/html": [
              "<div>\n",
              "<style scoped>\n",
              "    .dataframe tbody tr th:only-of-type {\n",
              "        vertical-align: middle;\n",
              "    }\n",
              "\n",
              "    .dataframe tbody tr th {\n",
              "        vertical-align: top;\n",
              "    }\n",
              "\n",
              "    .dataframe thead th {\n",
              "        text-align: right;\n",
              "    }\n",
              "</style>\n",
              "<table border=\"1\" class=\"dataframe\">\n",
              "  <thead>\n",
              "    <tr style=\"text-align: right;\">\n",
              "      <th></th>\n",
              "      <th>Hour</th>\n",
              "      <th>Monday</th>\n",
              "      <th>Tuesday</th>\n",
              "      <th>Wednesday</th>\n",
              "      <th>Thursday</th>\n",
              "      <th>Friday</th>\n",
              "      <th>Saturday</th>\n",
              "      <th>Sunday</th>\n",
              "    </tr>\n",
              "  </thead>\n",
              "  <tbody>\n",
              "    <tr>\n",
              "      <th>0</th>\n",
              "      <td>0</td>\n",
              "      <td>9.4</td>\n",
              "      <td>2.846154</td>\n",
              "      <td>10.000000</td>\n",
              "      <td>11.888889</td>\n",
              "      <td>5.000000</td>\n",
              "      <td>5.250000</td>\n",
              "      <td>53.000000</td>\n",
              "    </tr>\n",
              "    <tr>\n",
              "      <th>1</th>\n",
              "      <td>1</td>\n",
              "      <td>10.5</td>\n",
              "      <td>17.333333</td>\n",
              "      <td>5.200000</td>\n",
              "      <td>10.727273</td>\n",
              "      <td>10.750000</td>\n",
              "      <td>15.285714</td>\n",
              "      <td>12.333333</td>\n",
              "    </tr>\n",
              "    <tr>\n",
              "      <th>2</th>\n",
              "      <td>2</td>\n",
              "      <td>3.6</td>\n",
              "      <td>7.866667</td>\n",
              "      <td>6.461538</td>\n",
              "      <td>3.600000</td>\n",
              "      <td>17.888889</td>\n",
              "      <td>10.875000</td>\n",
              "      <td>13.500000</td>\n",
              "    </tr>\n",
              "    <tr>\n",
              "      <th>3</th>\n",
              "      <td>3</td>\n",
              "      <td>7.0</td>\n",
              "      <td>10.000000</td>\n",
              "      <td>5.600000</td>\n",
              "      <td>10.363636</td>\n",
              "      <td>8.777778</td>\n",
              "      <td>5.250000</td>\n",
              "      <td>9.000000</td>\n",
              "    </tr>\n",
              "    <tr>\n",
              "      <th>4</th>\n",
              "      <td>4</td>\n",
              "      <td>8.5</td>\n",
              "      <td>8.750000</td>\n",
              "      <td>2.500000</td>\n",
              "      <td>5.111111</td>\n",
              "      <td>6.000000</td>\n",
              "      <td>8.833333</td>\n",
              "      <td>8.666667</td>\n",
              "    </tr>\n",
              "  </tbody>\n",
              "</table>\n",
              "</div>"
            ],
            "text/plain": [
              "   Hour  Monday    Tuesday  Wednesday   Thursday     Friday   Saturday  \\\n",
              "0     0     9.4   2.846154  10.000000  11.888889   5.000000   5.250000   \n",
              "1     1    10.5  17.333333   5.200000  10.727273  10.750000  15.285714   \n",
              "2     2     3.6   7.866667   6.461538   3.600000  17.888889  10.875000   \n",
              "3     3     7.0  10.000000   5.600000  10.363636   8.777778   5.250000   \n",
              "4     4     8.5   8.750000   2.500000   5.111111   6.000000   8.833333   \n",
              "\n",
              "      Sunday  \n",
              "0  53.000000  \n",
              "1  12.333333  \n",
              "2  13.500000  \n",
              "3   9.000000  \n",
              "4   8.666667  "
            ]
          },
          "metadata": {},
          "output_type": "display_data"
        }
      ]
    },
    {
      "cell_type": "markdown",
      "metadata": {
        "id": "cGBgay7jLOXq"
      },
      "source": [
        "## Display Average Comments per Post per Hour\n",
        "\n",
        "It's ok to read data in table format, but it's just not as informative as displaying any patterns that may be revealed by means of charts/graphs.\n",
        "\n",
        "I will generate a bar/histogram type chart for each day that will clearly show peak hours of comment qty. per post per hour are not the same every day. I will purposely set the y-axis range the same (0, 55) for each day so we can make relative visual comparisons between each day."
      ]
    },
    {
      "cell_type": "code",
      "metadata": {
        "scrolled": false,
        "id": "32LGy98YLOXr",
        "outputId": "f589c773-05a4-4c09-d78f-3f1284cf4daa"
      },
      "source": [
        "# plot bar charts for each day.\n",
        "index = df_combined['Hour']\n",
        "df_Mon1 = df_Mon.drop(['Hour'], axis=1)\n",
        "df_Tue1 = df_Tue.drop(['Hour'], axis=1)\n",
        "df_Wed1 = df_Wed.drop(['Hour'], axis=1)\n",
        "df_Thur1 = df_Thur.drop(['Hour'], axis=1)\n",
        "df_Fri1 = df_Fri.drop(['Hour'], axis=1)\n",
        "df_Sat1 = df_Sat.drop(['Hour'], axis=1)\n",
        "df_Sun1 = df_Sun.drop(['Hour'], axis=1)\n",
        "\n",
        "df_Mon1.plot.bar(rot=0, subplots=True, figsize=(10,4), width=0.6, color='blue', legend=False,\\\n",
        "                 fontsize=12, ylabel=\"Average Comments per Hour\", xlabel=\"Hour\", ylim=(0, 55))\n",
        "df_Tue1.plot.bar(rot=0, subplots=True, figsize=(10,4), width=0.6, color='green', legend=False,\\\n",
        "                 fontsize=12, ylabel=\"Average Comments per Hour\", xlabel=\"Hour\", ylim=(0,55))\n",
        "df_Wed1.plot.bar(rot=0, subplots=True, figsize=(10,4), width=0.6, color='brown', legend=False,\\\n",
        "                 fontsize=12, ylabel=\"Average Comments per Hour\", xlabel=\"Hour\", ylim=(0,55))\n",
        "df_Thur1.plot.bar(rot=0, subplots=True, figsize=(10,4), width=0.6, color='gold', legend=False,\\\n",
        "                  fontsize=12, ylabel=\"Average Comments per Hour\", xlabel=\"Hour\", ylim=(0,55))\n",
        "df_Fri1.plot.bar(rot=0, subplots=True, figsize=(10,4), width=0.6, color='orange', legend=False,\\\n",
        "                 fontsize=12, ylabel=\"Average Comments per Hour\", xlabel=\"Hour\", ylim=(0,55))\n",
        "df_Sat1.plot.bar(rot=0, subplots=True, figsize=(10,4), width=0.6, color='tan', legend=False,\\\n",
        "                 fontsize=12, ylabel=\"Average Comments per Hour\", xlabel=\"Hour\", ylim=(0,55))\n",
        "df_Sun1.plot.bar(rot=0, subplots=True, figsize=(10,4), width=0.6, color='silver', legend=False,\\\n",
        "                 fontsize=12, ylabel=\"Average Comments per Hour\", xlabel=\"Hour\", ylim=(0,55))\n",
        "plt.show()"
      ],
      "execution_count": null,
      "outputs": [
        {
          "data": {
            "image/png": "[encoded data removed]",
            "text/plain": [
              "<Figure size 720x288 with 1 Axes>"
            ]
          },
          "metadata": {
            "needs_background": "light"
          },
          "output_type": "display_data"
        },
        {
          "data": {
            "image/png": "[encoded data removed]",
            "text/plain": [
              "<Figure size 720x288 with 1 Axes>"
            ]
          },
          "metadata": {
            "needs_background": "light"
          },
          "output_type": "display_data"
        },
        {
          "data": {
            "image/png": "[encoded data removed]",
            "text/plain": [
              "<Figure size 720x288 with 1 Axes>"
            ]
          },
          "metadata": {
            "needs_background": "light"
          },
          "output_type": "display_data"
        },
        {
          "data": {
            "image/png": "[encoded data removed]",
            "text/plain": [
              "<Figure size 720x288 with 1 Axes>"
            ]
          },
          "metadata": {
            "needs_background": "light"
          },
          "output_type": "display_data"
        },
        {
          "data": {
            "image/png": "[encoded data removed]",
            "text/plain": [
              "<Figure size 720x288 with 1 Axes>"
            ]
          },
          "metadata": {
            "needs_background": "light"
          },
          "output_type": "display_data"
        },
        {
          "data": {
            "image/png": "[encoded data removed]",
            "text/plain": [
              "<Figure size 720x288 with 1 Axes>"
            ]
          },
          "metadata": {
            "needs_background": "light"
          },
          "output_type": "display_data"
        },
        {
          "data": {
            "image/png": "[encoded data removed]",
            "text/plain": [
              "<Figure size 720x288 with 1 Axes>"
            ]
          },
          "metadata": {
            "needs_background": "light"
          },
          "output_type": "display_data"
        }
      ]
    },
    {
      "cell_type": "markdown",
      "metadata": {
        "id": "7q0Cg-TQLOXr"
      },
      "source": [
        "## Daily Observations\n",
        "\n",
        "We see from the graphs above that the distribution of average comments per post per hour is not the same each day.\n",
        "I will provide a table below that not only shows peak hours each day for full year, but also peak hours each day during school season and peak hours each day during summer.\n",
        "\n",
        "I generated the school season and summer season data in separate Jupyter Notebooks. I did not want to make this file too long."
      ]
    },
    {
      "cell_type": "markdown",
      "metadata": {
        "id": "pqmH-lbMLOXs"
      },
      "source": [
        "![Table2.jpg](attachment:Table2.jpg)"
      ]
    },
    {
      "cell_type": "markdown",
      "metadata": {
        "id": "oaVNcFUZLOXs"
      },
      "source": [
        "## Conclusions and Thoughts\n",
        "\n",
        "**As per the table above, the peak hours for average number of comments per question type post are <span style=\"color:red\">not only different for each day of the week but also for season of the year (school season vs. summer)!!</span>**\n",
        "\n",
        "Since I broke out the data by school season and summer in addition to by day, I wouldn't go by any of the peak hours for \"Full Year\" as a guide to post a question. **So, during which hours should I post a question to increase my chance of receiving maximum comments?**\n",
        "\n",
        "**<span style=\"color:blue\">My answer is: \"It depends\".</span>**\n",
        "\n",
        "First, it depends on the type of question I intend to pose and whether it matters what age range I'm hoping to receive responses/comments from: (youth, young adults, middle age adults, seniors ...). If I'm interested in comments from the younger generation, then I would go by the peak hour during school season as long as the date I'm posting the question is during school season. If age range doesn't matter, then I would go by the peak hour from the table above based on the season I'm in at the time and whether the need for a response is urgent or not.\n",
        "\n",
        "Secondly, it depends how urgent my need is to pose a question and get answers. For example, suppose something arises and I need to pose a question and get answers on a Monday and it happens to be school season. Then my best time would be between 3:00 and 4:00 PM. If it happens to be during summer, then my best time would be between 10:00 and 11:00 AM. On the other hand, if urgency is not an issue, then I would go by peak hour and best day depending on what season it is at the time: during school season - Friday 8:00-9:00 PM or during summer season - Sunday 5:00-6:00 PM.\n",
        "\n",
        "Lastly, I've entered two peak times for Wednesdays during summer season: 5:00 AM & 8:00 AM. Even though highest peak hour was 5:00 AM with average comments at 117, I wouldn't pay attention to that. There were very few question posts between 5:00-6:00 AM during summer season and they happen to have had high qty. of comments yielding high average. Therefore I would be more inclined to go by the average of 68 during time period 8:00-9:00 AM.\n",
        "\n",
        "**CONCLUSION:** **<span style=\"color:red\">Digging Deeper</span>** was worth the extra time and effort to get more details and improve accuracy of conclusion!"
      ]
    }
  ]
}